{
 "cells": [
  {
   "cell_type": "raw",
   "metadata": {},
   "source": [
    "---\n",
    "title: Exercise - Comparison PCA and t-SNE for non-linear data (exercise)\n",
    "author: Pieter Overdevest\n",
    "date: 2023-06-17\n",
    "---"
   ]
  },
  {
   "attachments": {},
   "cell_type": "markdown",
   "metadata": {},
   "source": [
    ":::{.callout-info appearance=\"simple\"}\n",
    "For suggestions/questions regarding this notebook, please contact [Pieter Overdevest](https://www.linkedin.com/in/pieteroverdevest/) (pieter@innovatewithdata.nl).\n",
    ":::"
   ]
  },
  {
   "attachments": {},
   "cell_type": "markdown",
   "metadata": {},
   "source": [
    "## Aim\n",
    "\n",
    "In this exercise we explore high-dimensional non-linear data with Principle Component Analysis (PCA) and t-Distributed Stochastic Neighbor Embedding (t-SNE). We use 3D data as the high-dimensional data (three features), as it is the highest we humans can relate to. Of course, in the real world of data, we could easily go up to high dimensional spaces of hundreds to billions of features."
   ]
  },
  {
   "attachments": {},
   "cell_type": "markdown",
   "metadata": {},
   "source": [
    "## Initialization"
   ]
  },
  {
   "attachments": {},
   "cell_type": "markdown",
   "metadata": {},
   "source": [
    "We start by importing a few packages,"
   ]
  },
  {
   "cell_type": "code",
   "execution_count": 1,
   "metadata": {},
   "outputs": [],
   "source": [
    "import pandas as pd\n",
    "import numpy as np\n",
    "import random\n",
    "\n",
    "from plotly.express import scatter_3d, scatter\n",
    "from sklearn.preprocessing import StandardScaler\n",
    "from sklearn.manifold import TSNE\n",
    "from sklearn.decomposition import PCA\n",
    "from numpy.random import rand"
   ]
  },
  {
   "attachments": {},
   "cell_type": "markdown",
   "metadata": {},
   "source": [
    "## A. Data simulation, visualisation, and scaling"
   ]
  },
  {
   "attachments": {},
   "cell_type": "markdown",
   "metadata": {},
   "source": [
    "We create a dummy 3D data set with non-linear relationships between the three features, `x1`, `x2`, and `x3`."
   ]
  },
  {
   "cell_type": "code",
   "execution_count": 2,
   "metadata": {},
   "outputs": [],
   "source": [
    "# This block is given in the exercise:\n",
    "\n",
    "# Discrete color mapping.\n",
    "dc_color = {\"A\": 'red', \"B\": 'green', \"C\": 'magenta', \"D\": 'blue', \"E\": 'orange'}\n",
    "\n",
    "# Fix the seed to reproduce our results.\n",
    "random.seed(10)\n",
    "\n",
    "# Cluster A (red)\n",
    "l_a_x1 =  5 + 3 * rand(25); l_a_x2 =  5 + 3 * rand(25); l_a_x3 = 10 + 1 * rand(25)\n",
    "\n",
    "# Cluster B (green)\n",
    "l_b_x1 =  5 + 3 * rand(25); l_b_x2 = 15 + 3 * rand(25); l_b_x3 =  5 + 1 * rand(25)\n",
    "\n",
    "# Cluster C (magenta). Cluster C floats slightly above cluster B. The distance between\n",
    "# the two clusters is given by 'n_x3_dist' (default: 2).\n",
    "n_x3_dist = 2\n",
    "\n",
    "l_c_x1 = 5 + 3 * rand(25); l_c_x2 = 15 + 3 * rand(25); l_c_x3 = 5 + 1 * rand(25) + n_x3_dist\n",
    "\n",
    "# Cluster D (blue)\n",
    "l_d_x1 = 14 + 3 * rand(50); l_d_x2 = 12 + 3 * rand(50); l_d_x3 = 15 + 1 * rand(50)\n",
    "\n",
    "# Cluster E (orange)\n",
    "n_x1_center = 15; n_x2_center = 10; n_x3_center = 15\n",
    "n_radius    = 5\n",
    "n_e_data    = 500\n",
    "\n",
    "v_phi   = np.pi * rand(n_e_data)\n",
    "v_theta = np.pi * rand(n_e_data)\n",
    "\n",
    "l_e_x1 = n_x1_center + n_radius * np.sin(v_phi) * np.cos(v_theta)\n",
    "l_e_x2 = n_x2_center + n_radius * np.sin(v_phi) * np.sin(v_theta) * 2\n",
    "l_e_x3 = n_x3_center + n_radius * np.cos(v_phi)\n",
    "\n",
    "# Cluster label.\n",
    "ps_label = pd.Series([\"A\"]*25 + [\"B\"]*25 + [\"C\"]*25 + [\"D\"]*50 + [\"E\"]*n_e_data)\n",
    "\n",
    "# Feature names to be used for df_X.\n",
    "l_df_X_names = ['x1', 'x2', 'x3']\n",
    "\n",
    "# Concatenation of cluster data.\n",
    "m_X = np.array([\n",
    "    np.concatenate((l_a_x1, l_b_x1, l_c_x1, l_d_x1, l_e_x1)),\n",
    "    np.concatenate((l_a_x2, l_b_x2, l_c_x2, l_d_x2, l_e_x2)),\n",
    "    np.concatenate((l_a_x3, l_b_x3, l_c_x3, l_d_x3, l_e_x3))\n",
    "]).transpose()\n",
    "\n",
    "# Convert to dataframe, df_X.\n",
    "df_X  = pd.DataFrame(    \n",
    "    data    = m_X,\n",
    "    columns = l_df_X_names\n",
    ")\n",
    "\n",
    "# Create copy of df_X.\n",
    "df_data = df_X.copy()\n",
    "\n",
    "# Add cluster label to df_X.\n",
    "df_data['label'] = ps_label\n",
    "\n",
    "# Create 'shadows' on x, y, and z planes.\n",
    "df_data_x1 = df_data.copy(); df_data_x2 = df_data.copy(); df_data_x3 = df_data.copy()\n",
    "\n",
    "df_data_x1['x1'] = 0; df_data_x2['x2'] = 0; df_data_x3['x3'] = 0\n",
    "\n",
    "# Concatenate data.\n",
    "df_data_total = pd.concat([\n",
    "    \n",
    "    df_data,\n",
    "    df_data_x1,\n",
    "    df_data_x2,\n",
    "    df_data_x3\n",
    "], axis = 0)"
   ]
  },
  {
   "attachments": {},
   "cell_type": "markdown",
   "metadata": {},
   "source": [
    "### 1. Plot the simulated data in a 3D scatter plot, i.e., the high-dimensional space (tip: use Plotly Express' `scatter_3d()` function)."
   ]
  },
  {
   "cell_type": "code",
   "execution_count": null,
   "metadata": {},
   "outputs": [],
   "source": [
    "#"
   ]
  },
  {
   "attachments": {},
   "cell_type": "markdown",
   "metadata": {},
   "source": [
    "### 2. Use your mouse to rotate the data and observe the data from different directions. What do you observe in terms of the cluster locations relative to each other?"
   ]
  },
  {
   "attachments": {},
   "cell_type": "markdown",
   "metadata": {},
   "source": [
    "As you can see in the plot, the data have been projected on each of the three planes constructed from two dimensions, like shadows. This helps to understand how data are overlapping in one of the three directions."
   ]
  },
  {
   "cell_type": "code",
   "execution_count": null,
   "metadata": {},
   "outputs": [],
   "source": [
    "#"
   ]
  },
  {
   "attachments": {},
   "cell_type": "markdown",
   "metadata": {},
   "source": [
    "### 3. Create an object holding the standardized data in `df_X`"
   ]
  },
  {
   "cell_type": "code",
   "execution_count": null,
   "metadata": {},
   "outputs": [],
   "source": [
    "#"
   ]
  },
  {
   "attachments": {},
   "cell_type": "markdown",
   "metadata": {},
   "source": [
    "## B. Dimensionality reduction with PCA and clustering"
   ]
  },
  {
   "attachments": {},
   "cell_type": "markdown",
   "metadata": {},
   "source": [
    "### 1. Create a PCA object with as many principal components as there are columns in data frame df_X."
   ]
  },
  {
   "cell_type": "code",
   "execution_count": null,
   "metadata": {},
   "outputs": [],
   "source": [
    "#"
   ]
  },
  {
   "attachments": {},
   "cell_type": "markdown",
   "metadata": {},
   "source": [
    "### 2. Calculate the principle components from the scaled data using the PCA object, put them in a data frame with headers `PC1`, `PC2`, ..., and add the cluster labels in `ps_label` as a column to the data frame. Observe the first 5 rows to check your result."
   ]
  },
  {
   "cell_type": "code",
   "execution_count": null,
   "metadata": {},
   "outputs": [],
   "source": [
    "#"
   ]
  },
  {
   "attachments": {},
   "cell_type": "markdown",
   "metadata": {},
   "source": [
    "### 3. Obtain the loadings from the fitted PCA object. Put them in a data frame with the same header names as in `df_X`. Set the indices of the rows to `PC1`, `PC2`, … What do you conclude from the loadings of the first and second principal component? How does this relate to your observation in the 3D scatterplot?"
   ]
  },
  {
   "cell_type": "code",
   "execution_count": null,
   "metadata": {},
   "outputs": [],
   "source": [
    "#"
   ]
  },
  {
   "cell_type": "code",
   "execution_count": null,
   "metadata": {},
   "outputs": [],
   "source": [
    "#"
   ]
  },
  {
   "attachments": {},
   "cell_type": "markdown",
   "metadata": {},
   "source": [
    "### 4. Create a 2D scatter plot of `PC1` against `PC2`"
   ]
  },
  {
   "cell_type": "code",
   "execution_count": null,
   "metadata": {},
   "outputs": [],
   "source": [
    "#"
   ]
  },
  {
   "attachments": {},
   "cell_type": "markdown",
   "metadata": {},
   "source": [
    "### 5. What do you observe in the 2D scatter plot in terms of the cluster locations relative to each other? What explains your observation?"
   ]
  },
  {
   "cell_type": "code",
   "execution_count": null,
   "metadata": {},
   "outputs": [],
   "source": [
    "#"
   ]
  },
  {
   "attachments": {},
   "cell_type": "markdown",
   "metadata": {},
   "source": [
    "### 6. Increase `n_x3_dist` to six and re-run the script to this point. What happens to the separation of clusters B and C in the 2D scatterplot? What explains your observation? When you are ready, return the value back to two before going to the next question and re-run the script to this point."
   ]
  },
  {
   "cell_type": "code",
   "execution_count": null,
   "metadata": {},
   "outputs": [],
   "source": [
    "#"
   ]
  },
  {
   "attachments": {},
   "cell_type": "markdown",
   "metadata": {},
   "source": [
    "## C. Dimensionality reduction with t-SNE and clustering"
   ]
  },
  {
   "attachments": {},
   "cell_type": "markdown",
   "metadata": {},
   "source": [
    "Let's follow another approach (t-SNE) to reduce the dimensionality of the data to study clusters in the data."
   ]
  },
  {
   "attachments": {},
   "cell_type": "markdown",
   "metadata": {},
   "source": [
    "### 1. Create a t-SNE object."
   ]
  },
  {
   "cell_type": "code",
   "execution_count": 65,
   "metadata": {},
   "outputs": [],
   "source": [
    "#"
   ]
  },
  {
   "attachments": {},
   "cell_type": "markdown",
   "metadata": {},
   "source": [
    "### 2. Apply the scaled data to the t-SNE object, put the resulting matrix in a data frame with headers `dim1` and `dim2`, and add the cluster labels in `ps_label` as third column to the data frame."
   ]
  },
  {
   "cell_type": "code",
   "execution_count": 66,
   "metadata": {},
   "outputs": [],
   "source": [
    "#"
   ]
  },
  {
   "attachments": {},
   "cell_type": "markdown",
   "metadata": {},
   "source": [
    "### 3. Create a 2D scatter plot of `dim1` against `dim2`.\n"
   ]
  },
  {
   "cell_type": "code",
   "execution_count": null,
   "metadata": {},
   "outputs": [],
   "source": [
    "#"
   ]
  },
  {
   "attachments": {},
   "cell_type": "markdown",
   "metadata": {},
   "source": [
    "### 4. What do you observe in the 2D scatter plot in terms of the cluster locations relative to each other?"
   ]
  },
  {
   "cell_type": "code",
   "execution_count": null,
   "metadata": {},
   "outputs": [],
   "source": [
    "#"
   ]
  },
  {
   "attachments": {},
   "cell_type": "markdown",
   "metadata": {},
   "source": [
    "### 5. Investige the influence of the `perplexity` parameter in `TSNE()`. Check and explain the results for perplexity values 10, 30 (default), and 200."
   ]
  },
  {
   "cell_type": "code",
   "execution_count": null,
   "metadata": {},
   "outputs": [],
   "source": [
    "#"
   ]
  },
  {
   "attachments": {},
   "cell_type": "markdown",
   "metadata": {},
   "source": [
    "### 6. Extra - Investigate the influence of the `init` parameter. Why is the result always the same for the value 'pca' (default) and is always different for the value 'random'?"
   ]
  },
  {
   "cell_type": "code",
   "execution_count": null,
   "metadata": {},
   "outputs": [],
   "source": [
    "#"
   ]
  }
 ],
 "metadata": {
  "kernelspec": {
   "display_name": "base",
   "language": "python",
   "name": "python3"
  },
  "language_info": {
   "codemirror_mode": {
    "name": "ipython",
    "version": 3
   },
   "file_extension": ".py",
   "mimetype": "text/x-python",
   "name": "python",
   "nbconvert_exporter": "python",
   "pygments_lexer": "ipython3",
   "version": "3.10.11"
  },
  "orig_nbformat": 4,
  "vscode": {
   "interpreter": {
    "hash": "69009b686886a9fccdfb88b2fcaa70ca97bd9c58fd38f0a2b10b65ec18ffcda9"
   }
  }
 },
 "nbformat": 4,
 "nbformat_minor": 2
}
