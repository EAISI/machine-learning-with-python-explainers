{
 "cells": [
  {
   "cell_type": "raw",
   "metadata": {},
   "source": [
    "---\n",
    "title: Exercise - Dimension Reduction with PCA (solution)\n",
    "author: Pieter Overdevest\n",
    "date: 2023-06-17\n",
    "---"
   ]
  },
  {
   "attachments": {},
   "cell_type": "markdown",
   "metadata": {},
   "source": [
    ":::{.callout-info appearance=\"simple\"}\n",
    "For questions and/or suggestions regarding this notebook, please contact [Pieter Overdevest](https://www.linkedin.com/in/pieteroverdevest/) (pieter@innovatewithdata.nl).\n",
    ":::"
   ]
  },
  {
   "attachments": {},
   "cell_type": "markdown",
   "metadata": {},
   "source": [
    "## Aim"
   ]
  },
  {
   "attachments": {},
   "cell_type": "markdown",
   "metadata": {},
   "source": [
    "\n",
    "In this exercise we explore principal Component Analysis (PCA) on USArrests data, see section '12.2.1 What Are Principal Components?' in ISLR ([Ed. 2, p. 501-503](https://hastie.su.domains/ISLR2/ISLRv2_website.pdf))."
   ]
  },
  {
   "attachments": {},
   "cell_type": "markdown",
   "metadata": {},
   "source": [
    "## Initialization"
   ]
  },
  {
   "attachments": {},
   "cell_type": "markdown",
   "metadata": {},
   "source": [
    "We start by importing a few packages,"
   ]
  },
  {
   "cell_type": "code",
   "execution_count": 13,
   "metadata": {},
   "outputs": [],
   "source": [
    "from sklearn.decomposition import PCA\n",
    "from sklearn.preprocessing import StandardScaler\n",
    "from numpy.random import rand\n",
    "\n",
    "import pandas as pd\n",
    "import numpy as np\n",
    "import matplotlib.pyplot as plt\n",
    "import seaborn as sns\n",
    "import random\n",
    "\n",
    "random.seed(10)"
   ]
  },
  {
   "attachments": {},
   "cell_type": "markdown",
   "metadata": {},
   "source": [
    "Note, '%matplotlib inline' ensures matplotlib graphs will be included in your notebook."
   ]
  },
  {
   "cell_type": "code",
   "execution_count": 14,
   "metadata": {},
   "outputs": [],
   "source": [
    "%matplotlib inline"
   ]
  },
  {
   "attachments": {},
   "cell_type": "markdown",
   "metadata": {},
   "source": [
    "## A. Data loading and pre-processing\n"
   ]
  },
  {
   "attachments": {},
   "cell_type": "markdown",
   "metadata": {},
   "source": [
    "### 1. Load the USArrests data in a Pandas data frame, determine the dimensions of the data frame, and show the first five rows."
   ]
  },
  {
   "attachments": {},
   "cell_type": "markdown",
   "metadata": {},
   "source": [
    "Make use of https://raw.githubusercontent.com/JWarmenhoven/ISLR-python/master/Notebooks/Data/USArrests.csv. The USArrests dataset consists of five features - 'Unnamed: 0' (state name), and statistics on 'Murder', 'Assault', 'UrbanPop', and 'Rape'. Each row represents the data for a state, there are 50 rows for 50 states."
   ]
  },
  {
   "cell_type": "code",
   "execution_count": 15,
   "metadata": {},
   "outputs": [
    {
     "name": "stdout",
     "output_type": "stream",
     "text": [
      "(50, 5)\n"
     ]
    },
    {
     "data": {
      "text/html": [
       "<div>\n",
       "<style scoped>\n",
       "    .dataframe tbody tr th:only-of-type {\n",
       "        vertical-align: middle;\n",
       "    }\n",
       "\n",
       "    .dataframe tbody tr th {\n",
       "        vertical-align: top;\n",
       "    }\n",
       "\n",
       "    .dataframe thead th {\n",
       "        text-align: right;\n",
       "    }\n",
       "</style>\n",
       "<table border=\"1\" class=\"dataframe\">\n",
       "  <thead>\n",
       "    <tr style=\"text-align: right;\">\n",
       "      <th></th>\n",
       "      <th>Unnamed: 0</th>\n",
       "      <th>Murder</th>\n",
       "      <th>Assault</th>\n",
       "      <th>UrbanPop</th>\n",
       "      <th>Rape</th>\n",
       "    </tr>\n",
       "  </thead>\n",
       "  <tbody>\n",
       "    <tr>\n",
       "      <th>0</th>\n",
       "      <td>Alabama</td>\n",
       "      <td>13.2</td>\n",
       "      <td>236</td>\n",
       "      <td>58</td>\n",
       "      <td>21.2</td>\n",
       "    </tr>\n",
       "    <tr>\n",
       "      <th>1</th>\n",
       "      <td>Alaska</td>\n",
       "      <td>10.0</td>\n",
       "      <td>263</td>\n",
       "      <td>48</td>\n",
       "      <td>44.5</td>\n",
       "    </tr>\n",
       "    <tr>\n",
       "      <th>2</th>\n",
       "      <td>Arizona</td>\n",
       "      <td>8.1</td>\n",
       "      <td>294</td>\n",
       "      <td>80</td>\n",
       "      <td>31.0</td>\n",
       "    </tr>\n",
       "    <tr>\n",
       "      <th>3</th>\n",
       "      <td>Arkansas</td>\n",
       "      <td>8.8</td>\n",
       "      <td>190</td>\n",
       "      <td>50</td>\n",
       "      <td>19.5</td>\n",
       "    </tr>\n",
       "    <tr>\n",
       "      <th>4</th>\n",
       "      <td>California</td>\n",
       "      <td>9.0</td>\n",
       "      <td>276</td>\n",
       "      <td>91</td>\n",
       "      <td>40.6</td>\n",
       "    </tr>\n",
       "  </tbody>\n",
       "</table>\n",
       "</div>"
      ],
      "text/plain": [
       "   Unnamed: 0  Murder  Assault  UrbanPop  Rape\n",
       "0     Alabama    13.2      236        58  21.2\n",
       "1      Alaska    10.0      263        48  44.5\n",
       "2     Arizona     8.1      294        80  31.0\n",
       "3    Arkansas     8.8      190        50  19.5\n",
       "4  California     9.0      276        91  40.6"
      ]
     },
     "execution_count": 15,
     "metadata": {},
     "output_type": "execute_result"
    }
   ],
   "source": [
    "df_data_original = pd.read_csv(\"https://raw.githubusercontent.com/JWarmenhoven/ISLR-python/master/Notebooks/Data/USArrests.csv\")\n",
    "\n",
    "ps_y             = df_data_original['Unnamed: 0']\n",
    "\n",
    "# Show the dimensions:\n",
    "print(df_data_original.shape)\n",
    "\n",
    "# Show the first 5 lines:\n",
    "df_data_original.head(5)"
   ]
  },
  {
   "attachments": {},
   "cell_type": "markdown",
   "metadata": {},
   "source": [
    "### 2. Remove column `Unnamed: 0` (state names) from the data frame. Call the resulting data frame: `df_X`."
   ]
  },
  {
   "cell_type": "code",
   "execution_count": 16,
   "metadata": {},
   "outputs": [],
   "source": [
    "df_X = df_data_original.drop('Unnamed: 0', axis = 1)"
   ]
  },
  {
   "attachments": {},
   "cell_type": "markdown",
   "metadata": {},
   "source": [
    "### 3. Create an object holding the feature names in `df_X`."
   ]
  },
  {
   "cell_type": "code",
   "execution_count": 17,
   "metadata": {},
   "outputs": [
    {
     "data": {
      "text/plain": [
       "Index(['Murder', 'Assault', 'UrbanPop', 'Rape'], dtype='object')"
      ]
     },
     "execution_count": 17,
     "metadata": {},
     "output_type": "execute_result"
    }
   ],
   "source": [
    "v_df_X_names = df_X.columns\n",
    "v_df_X_names"
   ]
  },
  {
   "attachments": {},
   "cell_type": "markdown",
   "metadata": {},
   "source": [
    "### 4. Create an object holding the standardized data in `df_X` and check the result by observing the first five rows."
   ]
  },
  {
   "cell_type": "code",
   "execution_count": 18,
   "metadata": {},
   "outputs": [
    {
     "data": {
      "text/plain": [
       "array([[ 1.25517927,  0.79078716, -0.52619514, -0.00345116],\n",
       "       [ 0.51301858,  1.11805959, -1.22406668,  2.50942392],\n",
       "       [ 0.07236067,  1.49381682,  1.00912225,  1.05346626],\n",
       "       [ 0.23470832,  0.23321191, -1.08449238, -0.18679398],\n",
       "       [ 0.28109336,  1.2756352 ,  1.77678094,  2.08881393]])"
      ]
     },
     "execution_count": 18,
     "metadata": {},
     "output_type": "execute_result"
    }
   ],
   "source": [
    "m_X_scaled = StandardScaler().fit_transform(df_X)\n",
    "\n",
    "m_X_scaled[0:5,]"
   ]
  },
  {
   "attachments": {},
   "cell_type": "markdown",
   "metadata": {},
   "source": [
    "## B. PCA preparation and Biplot"
   ]
  },
  {
   "attachments": {},
   "cell_type": "markdown",
   "metadata": {},
   "source": [
    "### 1. Create a PCA object with as many principal components as there are columns in data frame `df_X`."
   ]
  },
  {
   "cell_type": "code",
   "execution_count": 19,
   "metadata": {},
   "outputs": [
    {
     "name": "stdout",
     "output_type": "stream",
     "text": [
      "Number of features in the original data: 4\n"
     ]
    }
   ],
   "source": [
    "# Number of features in original data.\n",
    "n_components = df_X.shape[1]\n",
    "\n",
    "# Print results.\n",
    "print(f\"Number of features in the original data: {n_components}\")\n",
    "\n",
    "# Create pca object.\n",
    "pca_ = PCA(n_components = n_components)"
   ]
  },
  {
   "attachments": {},
   "cell_type": "markdown",
   "metadata": {},
   "source": [
    "### 2. Calculate the principal components from the scaled data using the PCA object and put them in a data frame with headers `PC1`, `PC2`, ... Check the result by observing the first five rows."
   ]
  },
  {
   "cell_type": "code",
   "execution_count": 20,
   "metadata": {},
   "outputs": [
    {
     "name": "stdout",
     "output_type": "stream",
     "text": [
      "['PC1', 'PC2', 'PC3', 'PC4']\n"
     ]
    },
    {
     "data": {
      "text/html": [
       "<div>\n",
       "<style scoped>\n",
       "    .dataframe tbody tr th:only-of-type {\n",
       "        vertical-align: middle;\n",
       "    }\n",
       "\n",
       "    .dataframe tbody tr th {\n",
       "        vertical-align: top;\n",
       "    }\n",
       "\n",
       "    .dataframe thead th {\n",
       "        text-align: right;\n",
       "    }\n",
       "</style>\n",
       "<table border=\"1\" class=\"dataframe\">\n",
       "  <thead>\n",
       "    <tr style=\"text-align: right;\">\n",
       "      <th></th>\n",
       "      <th>PC1</th>\n",
       "      <th>PC2</th>\n",
       "      <th>PC3</th>\n",
       "      <th>PC4</th>\n",
       "    </tr>\n",
       "  </thead>\n",
       "  <tbody>\n",
       "    <tr>\n",
       "      <th>0</th>\n",
       "      <td>0.985566</td>\n",
       "      <td>1.133392</td>\n",
       "      <td>-0.444269</td>\n",
       "      <td>0.156267</td>\n",
       "    </tr>\n",
       "    <tr>\n",
       "      <th>1</th>\n",
       "      <td>1.950138</td>\n",
       "      <td>1.073213</td>\n",
       "      <td>2.040003</td>\n",
       "      <td>-0.438583</td>\n",
       "    </tr>\n",
       "    <tr>\n",
       "      <th>2</th>\n",
       "      <td>1.763164</td>\n",
       "      <td>-0.745957</td>\n",
       "      <td>0.054781</td>\n",
       "      <td>-0.834653</td>\n",
       "    </tr>\n",
       "    <tr>\n",
       "      <th>3</th>\n",
       "      <td>-0.141420</td>\n",
       "      <td>1.119797</td>\n",
       "      <td>0.114574</td>\n",
       "      <td>-0.182811</td>\n",
       "    </tr>\n",
       "    <tr>\n",
       "      <th>4</th>\n",
       "      <td>2.523980</td>\n",
       "      <td>-1.542934</td>\n",
       "      <td>0.598557</td>\n",
       "      <td>-0.341996</td>\n",
       "    </tr>\n",
       "  </tbody>\n",
       "</table>\n",
       "</div>"
      ],
      "text/plain": [
       "        PC1       PC2       PC3       PC4\n",
       "0  0.985566  1.133392 -0.444269  0.156267\n",
       "1  1.950138  1.073213  2.040003 -0.438583\n",
       "2  1.763164 -0.745957  0.054781 -0.834653\n",
       "3 -0.141420  1.119797  0.114574 -0.182811\n",
       "4  2.523980 -1.542934  0.598557 -0.341996"
      ]
     },
     "execution_count": 20,
     "metadata": {},
     "output_type": "execute_result"
    }
   ],
   "source": [
    "# Principal components (PC's).\n",
    "m_pc = pca_.fit_transform(m_X_scaled)\n",
    "\n",
    "# Header names.\n",
    "l_pc_names = [\"PC\" + str(i+1) for i in range(n_components)]\n",
    "\n",
    "print(l_pc_names)\n",
    "\n",
    "# Put PC's in data frame.\n",
    "df_pc = pd.DataFrame(\n",
    "\n",
    "    data    = m_pc,\n",
    "    columns = l_pc_names\n",
    ")\n",
    "\n",
    "# Show first five rows.\n",
    "df_pc.head(5)"
   ]
  },
  {
   "attachments": {},
   "cell_type": "markdown",
   "metadata": {},
   "source": [
    "### 3. Obtain the loadings from the fitted PCA object. Put them in a data frame with the same header names as in `df_X`. Set the indices of the rows to `PC1`, `PC2`, … How does your table compare to Table 12.1 in ISLR (Ed 2)? Can you explain any differences?"
   ]
  },
  {
   "cell_type": "code",
   "execution_count": 21,
   "metadata": {},
   "outputs": [
    {
     "data": {
      "text/html": [
       "<div>\n",
       "<style scoped>\n",
       "    .dataframe tbody tr th:only-of-type {\n",
       "        vertical-align: middle;\n",
       "    }\n",
       "\n",
       "    .dataframe tbody tr th {\n",
       "        vertical-align: top;\n",
       "    }\n",
       "\n",
       "    .dataframe thead th {\n",
       "        text-align: right;\n",
       "    }\n",
       "</style>\n",
       "<table border=\"1\" class=\"dataframe\">\n",
       "  <thead>\n",
       "    <tr style=\"text-align: right;\">\n",
       "      <th></th>\n",
       "      <th>PC1</th>\n",
       "      <th>PC2</th>\n",
       "      <th>PC3</th>\n",
       "      <th>PC4</th>\n",
       "    </tr>\n",
       "  </thead>\n",
       "  <tbody>\n",
       "    <tr>\n",
       "      <th>Murder</th>\n",
       "      <td>0.535899</td>\n",
       "      <td>0.418181</td>\n",
       "      <td>-0.341233</td>\n",
       "      <td>0.649228</td>\n",
       "    </tr>\n",
       "    <tr>\n",
       "      <th>Assault</th>\n",
       "      <td>0.583184</td>\n",
       "      <td>0.187986</td>\n",
       "      <td>-0.268148</td>\n",
       "      <td>-0.743407</td>\n",
       "    </tr>\n",
       "    <tr>\n",
       "      <th>UrbanPop</th>\n",
       "      <td>0.278191</td>\n",
       "      <td>-0.872806</td>\n",
       "      <td>-0.378016</td>\n",
       "      <td>0.133878</td>\n",
       "    </tr>\n",
       "    <tr>\n",
       "      <th>Rape</th>\n",
       "      <td>0.543432</td>\n",
       "      <td>-0.167319</td>\n",
       "      <td>0.817778</td>\n",
       "      <td>0.089024</td>\n",
       "    </tr>\n",
       "  </tbody>\n",
       "</table>\n",
       "</div>"
      ],
      "text/plain": [
       "               PC1       PC2       PC3       PC4\n",
       "Murder    0.535899  0.418181 -0.341233  0.649228\n",
       "Assault   0.583184  0.187986 -0.268148 -0.743407\n",
       "UrbanPop  0.278191 -0.872806 -0.378016  0.133878\n",
       "Rape      0.543432 -0.167319  0.817778  0.089024"
      ]
     },
     "execution_count": 21,
     "metadata": {},
     "output_type": "execute_result"
    }
   ],
   "source": [
    "df_loadings = pd.DataFrame(\n",
    "    \n",
    "    data    = pca_.components_,\n",
    "    columns = v_df_X_names,\n",
    "    index   = l_pc_names\n",
    ")\n",
    "\n",
    "#df_loadings\n",
    "df_loadings.transpose()"
   ]
  },
  {
   "cell_type": "code",
   "execution_count": 22,
   "metadata": {},
   "outputs": [],
   "source": [
    "# Let's take a moment to discuss the `components_` attribute of the `pca_` object, see below. This attribute results\n",
    "# in an array containing the so-called 'loadings', see section '12.2.1 What Are Principal Components?' in ISLR\n",
    "# ([Ed. 2](https://hastie.su.domains/ISLR2/ISLRv2_website.pdf)).\n",
    "\n",
    "# We transpose and compare the data frame to Table 12.1 in ISLR (Ed. 2). We observe in Table 12.1 that the values for\n",
    "# PC2 have an opposite sign of what we find in our calculation. PCA is simply a mathematical transformation. If you\n",
    "# change the signs of the components (score), you do not change the variance that is contained in it. Moreover, the\n",
    "# loadings then also change sign, so the interpretation stays exactly the same\n",
    "# ([ref](https://stats.stackexchange.com/questions/88880/does-the-sign-of-scores-or-of-loadings-in-pca-or-fa-have-a-meaning-may-i-revers)).\n",
    "# We will also observe that the biplot is flipped in the PC2 direction compared to Figure 12.1; as we will see in the next exercise."
   ]
  },
  {
   "attachments": {},
   "cell_type": "markdown",
   "metadata": {},
   "source": [
    "### 4. Create a biplot. What does it mean when states are close to each other in the biplot? What do the arrows generally indicate?"
   ]
  },
  {
   "attachments": {},
   "cell_type": "markdown",
   "metadata": {},
   "source": [
    "Typically, biplots plot the first principal component against the second principal component. "
   ]
  },
  {
   "cell_type": "code",
   "execution_count": 23,
   "metadata": {},
   "outputs": [],
   "source": [
    "# Data being close in the biplot means that they are similar; contain similar information.\n",
    "\n",
    "# The arrows indicate the loadings of the first and second principal component."
   ]
  },
  {
   "cell_type": "code",
   "execution_count": 24,
   "metadata": {},
   "outputs": [
    {
     "data": {
      "image/png": "[encoded data removed]",
      "text/plain": [
       "<Figure size 800x800 with 1 Axes>"
      ]
     },
     "metadata": {},
     "output_type": "display_data"
    }
   ],
   "source": [
    "# The two principal components in a biplot show clusters of observations based on their similarity. Data closer to each other are more similar.\n",
    "# Loadings - indicated by the arrows - show how strongly each feature influences a principal component.\n",
    "\n",
    "# See also e.g., https://statisticsglobe.com/biplot-pca-python\n",
    "\n",
    "# Initialization\n",
    "fig, ax = plt.subplots(figsize = (8,8))\n",
    "\n",
    "plt.xlabel('PC1', fontsize = 20)\n",
    "plt.ylabel('PC2', fontsize = 20)\n",
    "plt.title('PC1 vs PC2', fontsize = 24)\n",
    "plt.tick_params(labelsize = 20)\n",
    "ax.set_aspect('equal')\n",
    "\n",
    "# principal components.\n",
    "ax.scatter(\n",
    "    x     = df_pc.PC1,\n",
    "    y     = df_pc.PC2,     \n",
    "    s     = 10,\n",
    "    alpha = 1\n",
    ")\n",
    "\n",
    "# Loading vectors.\n",
    "for colname in df_loadings:\n",
    "\n",
    "    n_dx = df_loadings[colname][0]\n",
    "    n_dy = df_loadings[colname][1]\n",
    "\n",
    "    # Arrow\n",
    "    ax.arrow(\n",
    "        x     = 0,\n",
    "        y     = 0,\n",
    "        dx    = n_dx,\n",
    "        dy    = n_dy,\n",
    "        color = 'r',\n",
    "        width = 0.03\n",
    "    )\n",
    "\n",
    "    # Text label\n",
    "    ax.text(\n",
    "        x        = n_dx*1.5,\n",
    "        y        = n_dy*1.5,\n",
    "        s        = colname,\n",
    "        fontsize = 14,\n",
    "        bbox     = {'facecolor': 'white', 'alpha': 0.7}\n",
    "    )\n",
    "\n",
    "ax.grid();"
   ]
  },
  {
   "attachments": {},
   "cell_type": "markdown",
   "metadata": {},
   "source": [
    "## C. What does it means that"
   ]
  },
  {
   "attachments": {},
   "cell_type": "markdown",
   "metadata": {},
   "source": [
    "### 1. `Murder` and `Assault` arrows point in the same direction?"
   ]
  },
  {
   "attachments": {},
   "cell_type": "markdown",
   "metadata": {},
   "source": [
    "If you do not have an answer readily available, continue, check the correlation heat map below, and give it another go.\n"
   ]
  },
  {
   "cell_type": "code",
   "execution_count": 25,
   "metadata": {},
   "outputs": [],
   "source": [
    "# That they are correlated, contain similar information, influence the PC's in a similar way. See loadings."
   ]
  },
  {
   "attachments": {},
   "cell_type": "markdown",
   "metadata": {},
   "source": [
    "### 2. `UrbanPop` arrow points almost orthogonally to `Murder` and `Assault`?"
   ]
  },
  {
   "cell_type": "code",
   "execution_count": 26,
   "metadata": {},
   "outputs": [],
   "source": [
    "# That they are uncorrelated, contain dissimilar information, influence the PC's in dissimilar way."
   ]
  },
  {
   "attachments": {},
   "cell_type": "markdown",
   "metadata": {},
   "source": [
    "## D. Explained variance (ratio)"
   ]
  },
  {
   "attachments": {},
   "cell_type": "markdown",
   "metadata": {},
   "source": [
    "### 1. Obtain the explained variance and explained variance ratio for the four principal components from the fitted PCA object. Why is the explained ratio of the fourth principal component so small?"
   ]
  },
  {
   "cell_type": "code",
   "execution_count": 27,
   "metadata": {},
   "outputs": [
    {
     "data": {
      "text/plain": [
       "array([2.53085875, 1.00996444, 0.36383998, 0.17696948])"
      ]
     },
     "execution_count": 27,
     "metadata": {},
     "output_type": "execute_result"
    }
   ],
   "source": [
    "pca_.explained_variance_"
   ]
  },
  {
   "cell_type": "code",
   "execution_count": 28,
   "metadata": {},
   "outputs": [
    {
     "data": {
      "text/plain": [
       "array([0.62006039, 0.24744129, 0.0891408 , 0.04335752])"
      ]
     },
     "execution_count": 28,
     "metadata": {},
     "output_type": "execute_result"
    }
   ],
   "source": [
    "pca_.explained_variance_ratio_"
   ]
  },
  {
   "cell_type": "code",
   "execution_count": 29,
   "metadata": {},
   "outputs": [],
   "source": [
    "# The explained ratio of the fourth PC is small because two features are highly correlated.\n",
    "# So, the majority of the information can be captured in three PCs."
   ]
  },
  {
   "attachments": {},
   "cell_type": "markdown",
   "metadata": {},
   "source": [
    "### 2. Create a Scree plot and plot the accumulated explained variance ratio for each principle component"
   ]
  },
  {
   "attachments": {},
   "cell_type": "markdown",
   "metadata": {},
   "source": [
    "The explained variance is plotted in a so-called Scree plot. It displays - in the form of a bar chart - how much variation each principal component is able to capture from the data."
   ]
  },
  {
   "cell_type": "code",
   "execution_count": 30,
   "metadata": {},
   "outputs": [
    {
     "data": {
      "image/png": "[encoded data removed]",
      "text/plain": [
       "<Figure size 1500x500 with 2 Axes>"
      ]
     },
     "metadata": {},
     "output_type": "display_data"
    }
   ],
   "source": [
    "# Initialization\n",
    "fig, ax = plt.subplots(figsize = (15,5))\n",
    "fig.subplots_adjust(wspace = 0.3) \n",
    "\n",
    "# To prevent deprecation warning.\n",
    "ax.remove()\n",
    "\n",
    "# Scree Plot\n",
    "plt.subplot(1,2,1)\n",
    "plt.xlabel('Number of PCs', fontsize = 16)\n",
    "plt.ylabel('Explained variance - absolute', fontsize = 16)\n",
    "plt.title('Scree Plot', fontsize = 24)\n",
    "plt.tick_params(labelsize = 16)\n",
    "plt.bar(range(1, n_components+1), pca_.explained_variance_)\n",
    "\n",
    "# Cumulative ratio\n",
    "plt.subplot(1,2,2)\n",
    "plt.xlabel('Number of PCs', fontsize = 16)\n",
    "plt.ylabel('Explained variance - cumulative ratio', fontsize = 16)\n",
    "plt.title('Cumulative Ratio', fontsize = 24)\n",
    "plt.tick_params(labelsize = 16)\n",
    "plt.bar(range(1, n_components+1), np.cumsum(pca_.explained_variance_ratio_));"
   ]
  },
  {
   "attachments": {},
   "cell_type": "markdown",
   "metadata": {},
   "source": [
    "## E. Correlations\n"
   ]
  },
  {
   "attachments": {},
   "cell_type": "markdown",
   "metadata": {},
   "source": [
    "### 1. Create a heat map showing the correlations between the features in `df_X`. What do you observe and how does it explain the directions of the arrows in the biplot? Does it matter whether the data in `df_X` is scaled or not?"
   ]
  },
  {
   "cell_type": "code",
   "execution_count": 31,
   "metadata": {},
   "outputs": [],
   "source": [
    "# Assault and Murder are highly correlated. UrbanPop and Murder/Assault are uncorrelated.\n",
    "\n",
    "# Scaling has no influence on the correlation between features. That's a good thing!\n",
    "# We would not want that to change when optimizing ML models."
   ]
  },
  {
   "cell_type": "code",
   "execution_count": 34,
   "metadata": {},
   "outputs": [
    {
     "data": {
      "image/png": "[encoded data removed]",
      "text/plain": [
       "<Figure size 1200x600 with 4 Axes>"
      ]
     },
     "metadata": {},
     "output_type": "display_data"
    }
   ],
   "source": [
    "fig, ax = plt.subplots(figsize = (12,6))\n",
    "fig.subplots_adjust(wspace = 0.3) \n",
    "\n",
    "# To prevent deprecation warning.\n",
    "ax.remove()\n",
    "\n",
    "plt.subplot(1,2,1)\n",
    "plt.title(\"Unscaled data\", fontsize=20)\n",
    "df_cor = df_X.corr()\n",
    "matrix = np.triu(df_cor)\n",
    "sns.heatmap(df_cor, square=True, cmap= 'coolwarm', mask = matrix, vmin = -1, vmax = 1, annot=True);\n",
    "\n",
    "plt.subplot(1,2,2)\n",
    "plt.title(\"Scaled data\", fontsize=20)\n",
    "df_cor = pd.DataFrame(m_X_scaled).corr()\n",
    "matrix = np.triu(df_cor)\n",
    "sns.heatmap(df_cor, square=True, cmap= 'coolwarm', mask = matrix, vmin = -1, vmax = 1, annot=True);"
   ]
  },
  {
   "attachments": {},
   "cell_type": "markdown",
   "metadata": {},
   "source": [
    "### 2. Create a heat map showing the correlations between the principal components. What do you observe and what does it confirm on the key property of principal components?"
   ]
  },
  {
   "cell_type": "code",
   "execution_count": 48,
   "metadata": {},
   "outputs": [],
   "source": [
    "# By design the principal components are constructed such that all components are orthogonal\n",
    "# (perpendicular) to each other.\n",
    "# We confirm this by calculating the correlations between each pair of PCs."
   ]
  },
  {
   "cell_type": "code",
   "execution_count": 35,
   "metadata": {},
   "outputs": [
    {
     "data": {
      "image/png": "[encoded data removed]",
      "text/plain": [
       "<Figure size 600x600 with 2 Axes>"
      ]
     },
     "metadata": {},
     "output_type": "display_data"
    }
   ],
   "source": [
    "plt.rcParams['figure.figsize'] = (6, 6)\n",
    "\n",
    "df_cor = df_pc.corr()\n",
    "matrix = np.triu(df_cor)\n",
    "sns.heatmap(df_cor, square=True, cmap= 'coolwarm', mask = matrix, vmin = -1, vmax = 1, annot=True);"
   ]
  },
  {
   "cell_type": "code",
   "execution_count": null,
   "metadata": {},
   "outputs": [],
   "source": []
  }
 ],
 "metadata": {
  "kernelspec": {
   "display_name": "base",
   "language": "python",
   "name": "python3"
  },
  "language_info": {
   "codemirror_mode": {
    "name": "ipython",
    "version": 3
   },
   "file_extension": ".py",
   "mimetype": "text/x-python",
   "name": "python",
   "nbconvert_exporter": "python",
   "pygments_lexer": "ipython3",
   "version": "3.10.11"
  },
  "orig_nbformat": 4,
  "vscode": {
   "interpreter": {
    "hash": "ebb0a02d86bd6cc81bd76bc6c4cba297e0e4bde90b1df44b0c10ac2ad7a9009a"
   }
  }
 },
 "nbformat": 4,
 "nbformat_minor": 2
}
