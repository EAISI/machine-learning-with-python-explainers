{
  "cells": [
    {
      "cell_type": "markdown",
      "id": "2b2535d5-0484-4038-8b02-0ac685c0941b",
      "metadata": {},
      "source": [
        "# ML Explainer - How does PCA work\n",
        "\n",
        "Pieter Overdevest  \n",
        "2024-03-12\n",
        "\n",
        "For suggestions/questions regarding this notebook, please contact\n",
        "[Pieter Overdevest](https://www.linkedin.com/in/pieteroverdevest/)\n",
        "(pieter@innovatewithdata.nl).\n",
        "\n",
        "### How to work with this Jupyter Notebook yourself?\n",
        "\n",
        "- Get a copy of the repository ('repo') [machine-learning-with-python-explainers](https://github.com/EAISI/machine-learning-with-python-explainers) from EAISI's GitHub site. This can be done by either cloning the repo or simply downloading the zip-file. Both options are explained in this Youtube video by [Coderama](https://www.youtube.com/watch?v=EhxPBMQFCaI).\n",
        "\n",
        "- Copy the folder 'ml-explainers\\\\' located in the folder 'example-solutions\\\\' to your own project folder.\n",
        "\n",
        "#### Aim\n",
        "To explain how PCA works with various data sets, incl. Iris, USArrests, Ames Housing, and two synthetic data sets, to demonstrate the opportunities and limitations of PCA.\n",
        "\n",
        "#### Initialization\n",
        "\n",
        "We start by importing a few packages,"
      ]
    },
    {
      "cell_type": "code",
      "execution_count": 1,
      "id": "ce2c0ec6-3e6a-4888-ae96-d2a75a645b13",
      "metadata": {},
      "outputs": [],
      "source": [
        "from sklearn.decomposition import PCA\n",
        "from sklearn.preprocessing import StandardScaler\n",
        "from sklearn import datasets\n",
        "from numpy.random import rand\n",
        "\n",
        "import pandas as pd\n",
        "import numpy as np\n",
        "import matplotlib.pyplot as plt\n",
        "import altair as alt\n",
        "import seaborn as sns\n",
        "import plotly.express as px\n",
        "import random\n",
        "import warnings\n",
        "\n",
        "# This helps to silence a 'FutureWarning' from the Altair library, specifically regarding\n",
        "# the use of the convert_dtype parameter in the apply() method.\n",
        "warnings.simplefilter(action='ignore', category=FutureWarning)\n",
        "\n",
        "random.seed(10)\n",
        "\n",
        "# Setting Pandas options.\n",
        "pd.set_option(\"display.max_rows\", 50) # How to display all rows from data frame using pandas. Setting value to None to show all rows.\n",
        "pd.set_option(\"display.max_columns\", None)\n",
        "pd.set_option(\"display.max_info_columns\", 100)\n",
        "pd.set_option(\"display.max_info_rows\", 1000000)\n",
        "pd.set_option(\"display.precision\", 2)\n",
        "#pd.set_option(\"styler.format.precision\", 2)"
      ]
    },
    {
      "cell_type": "markdown",
      "id": "a052722a-89c3-469e-8465-bdaea7a85ece",
      "metadata": {},
      "source": [
        "#### Get the data\n",
        "\n",
        "With this notebook you can test PCA on four data sources:\n",
        "1. **Iris data** - A commonly used simple dataset to demonstrate classification models\n",
        "2. **USArrests data** - This set is used in ISLR to explain PCA, see chapter 12.2 (Ed. 2)\n",
        "3. **Ames Housing data** - The Ames Housing data set. Note, we make use of a pickle file in the data folder in /example-solutions/ames-housing-pieter/.\n",
        "3. **Dummy data I** - To demonstrate the effect of various levels of correlations between features in a linear dataset\n",
        "4. **Dummy data II** - This non-linear dataset is also used in ML Explainer `umap-t-sne`. Here, we investige what we can (not) do with PCA.\n",
        "\n",
        "> **The same analysis can be done with any of these five data sets, just select the one you want below by removing the '#'.**"
      ]
    },
    {
      "cell_type": "code",
      "execution_count": 2,
      "id": "5f955f6f-e024-48b9-a889-19f78a028fda",
      "metadata": {},
      "outputs": [],
      "source": [
        "#c_dataset = \"iris\"\n",
        "#c_dataset = \"usarrests\"\n",
        "#c_dataset = \"ames housing\"\n",
        "c_dataset = \"dummy_i\"\n",
        "#c_dataset = \"dummy_ii\""
      ]
    },
    {
      "cell_type": "markdown",
      "id": "74faf33a-bcf1-441f-a204-6c463d629a71",
      "metadata": {},
      "source": [
        "##### Iris dataset\n",
        "\n",
        "The Iris dataset is a simple dataset available through the `datasets` packages. It contains 150 observations and five features. One variable describes the variety the observation belongs to, and is used as the outcome (target) variable in a classification model. The data contains 50 observations per variety. The other four variables describe the geometry\n",
        "of the flower (petal length, petal width, sepal length, and sepal width)."
      ]
    },
    {
      "cell_type": "code",
      "execution_count": 3,
      "id": "74d4ad49-fbfa-40e3-99db-dbc3f4e13655",
      "metadata": {},
      "outputs": [],
      "source": [
        "if c_dataset == \"iris\":\n",
        "\n",
        "    # The 'data_original' object is a collection of data objects, that we each assign to other objects.\n",
        "    data_original   = datasets.load_iris()\n",
        "\n",
        "    # Assign the feature names (l_X_names), the predictor data (df_X), and the target variable (ps_y)\n",
        "    # to individual objects. Object ps_y is converted to a Pandas Series to have it of the same type as in\n",
        "    # case of USArrests data.\n",
        "    l_X_names = list(data_original.feature_names)\n",
        "    m_X       = data_original.data\n",
        "    df_X      = pd.DataFrame(m_X, columns = l_X_names)\n",
        "    ps_y      = pd.Series([data_original.target_names[i] for i in data_original.target])"
      ]
    },
    {
      "cell_type": "markdown",
      "id": "0a2c51d5-71da-42ee-b26f-2ce82dfe3006",
      "metadata": {},
      "source": [
        "##### USArrests dataset\n",
        "\n",
        "The USArrests dataset consists of five features - ‘Unnamed: 0’ (state name), ‘Murder’, ‘Assault’, ‘UrbanPop’, and ‘Rape’. Each row represents\n",
        "the data for a state, there are 50 rows for 50 states."
      ]
    },
    {
      "cell_type": "code",
      "execution_count": 4,
      "id": "0b40c772-f3c9-4bb0-8ff5-6cc8ff92fc21",
      "metadata": {},
      "outputs": [],
      "source": [
        "if c_dataset == \"usarrests\":\n",
        "\n",
        "    data_original   = pd.read_csv(\"https://raw.githubusercontent.com/JWarmenhoven/ISLR-python/master/Notebooks/Data/USArrests.csv\")\n",
        "\n",
        "    # Assign the predictor data (df_X), the feature names (l_X_names) and the target variable (ps_y)\n",
        "    # to individual objects.\n",
        "    df_X      = data_original.drop('Unnamed: 0', axis = 1)\n",
        "    m_X       = df_X.values\n",
        "    l_X_names = list(df_X.columns.values)\n",
        "    ps_y      = data_original['Unnamed: 0']"
      ]
    },
    {
      "cell_type": "markdown",
      "id": "fb644d3a",
      "metadata": {},
      "source": [
        "##### Ames Housing data\n",
        "\n",
        "The Ames Housing dataset consists of 39 numerical features. Each row represents the data for a sold house, there are 2930 rows."
      ]
    },
    {
      "cell_type": "code",
      "execution_count": 5,
      "id": "07884a20",
      "metadata": {},
      "outputs": [],
      "source": [
        "if c_dataset == \"ames housing\":\n",
        "\n",
        "    import pickle\n",
        "    \n",
        "    with open('../example-solutions/ames-housing-pieter/data/dc-ames-housing-pieter-exercise-1-2-3.pkl', 'rb') as pickle_file:\n",
        "        dc_exercise_1_2_3 = pickle.load(pickle_file)\n",
        "\n",
        "    df_reduced     = dc_exercise_1_2_3['df_reduced']\n",
        "    l_df_num_names = dc_exercise_1_2_3['l_df_num_names']\n",
        "\n",
        "    # Assign the predictor data (df_X), the feature names (l_X_names) and the target variable (ps_y)\n",
        "    # to individual objects.\n",
        "    l_X_names = [x for x in l_df_num_names if x != 'SalePrice']\n",
        "    df_X      = df_reduced[l_X_names].copy()\n",
        "    m_X       = df_X.values\n",
        "    ps_y      = pd.Series(['dummy'] * df_X.shape[0])\n"
      ]
    },
    {
      "cell_type": "markdown",
      "id": "18e24f9b-fc23-435d-9c87-26cf1bea6479",
      "metadata": {},
      "source": [
        "##### Dummy dataset I\n",
        "\n",
        "We create a synthetic linear data set as this allows us to choose the correlation between features. This way we can investigate their influence on the PCA."
      ]
    },
    {
      "cell_type": "code",
      "execution_count": 6,
      "id": "3b285710-9cbc-420a-bfd5-f6a1a634ba6d",
      "metadata": {},
      "outputs": [
        {
          "data": {
            "text/html": [
              "\n",
              "<style>\n",
              "  #altair-viz-d1a647955e574addafca88fce3f74fb2.vega-embed {\n",
              "    width: 100%;\n",
              "    display: flex;\n",
              "  }\n",
              "\n",
              "  #altair-viz-d1a647955e574addafca88fce3f74fb2.vega-embed details,\n",
              "  #altair-viz-d1a647955e574addafca88fce3f74fb2.vega-embed details summary {\n",
              "    position: relative;\n",
              "  }\n",
              "</style>\n",
              "<div id=\"altair-viz-d1a647955e574addafca88fce3f74fb2\"></div>\n",
              "<script type=\"text/javascript\">\n",
              "  var VEGA_DEBUG = (typeof VEGA_DEBUG == \"undefined\") ? {} : VEGA_DEBUG;\n",
              "  (function(spec, embedOpt){\n",
              "    let outputDiv = document.currentScript.previousElementSibling;\n",
              "    if (outputDiv.id !== \"altair-viz-d1a647955e574addafca88fce3f74fb2\") {\n",
              "      outputDiv = document.getElementById(\"altair-viz-d1a647955e574addafca88fce3f74fb2\");\n",
              "    }\n",
              "    const paths = {\n",
              "      \"vega\": \"https://cdn.jsdelivr.net/npm/vega@5?noext\",\n",
              "      \"vega-lib\": \"https://cdn.jsdelivr.net/npm/vega-lib?noext\",\n",
              "      \"vega-lite\": \"https://cdn.jsdelivr.net/npm/vega-lite@5.14.1?noext\",\n",
              "      \"vega-embed\": \"https://cdn.jsdelivr.net/npm/vega-embed@6?noext\",\n",
              "    };\n",
              "\n",
              "    function maybeLoadScript(lib, version) {\n",
              "      var key = `${lib.replace(\"-\", \"\")}_version`;\n",
              "      return (VEGA_DEBUG[key] == version) ?\n",
              "        Promise.resolve(paths[lib]) :\n",
              "        new Promise(function(resolve, reject) {\n",
              "          var s = document.createElement('script');\n",
              "          document.getElementsByTagName(\"head\")[0].appendChild(s);\n",
              "          s.async = true;\n",
              "          s.onload = () => {\n",
              "            VEGA_DEBUG[key] = version;\n",
              "            return resolve(paths[lib]);\n",
              "          };\n",
              "          s.onerror = () => reject(`Error loading script: ${paths[lib]}`);\n",
              "          s.src = paths[lib];\n",
              "        });\n",
              "    }\n",
              "\n",
              "    function showError(err) {\n",
              "      outputDiv.innerHTML = `<div class=\"error\" style=\"color:red;\">${err}</div>`;\n",
              "      throw err;\n",
              "    }\n",
              "\n",
              "    function displayChart(vegaEmbed) {\n",
              "      vegaEmbed(outputDiv, spec, embedOpt)\n",
              "        .catch(err => showError(`Javascript Error: ${err.message}<br>This usually means there's a typo in your chart specification. See the javascript console for the full traceback.`));\n",
              "    }\n",
              "\n",
              "    if(typeof define === \"function\" && define.amd) {\n",
              "      requirejs.config({paths});\n",
              "      require([\"vega-embed\"], displayChart, err => showError(`Error loading script: ${err.message}`));\n",
              "    } else {\n",
              "      maybeLoadScript(\"vega\", \"5\")\n",
              "        .then(() => maybeLoadScript(\"vega-lite\", \"5.14.1\"))\n",
              "        .then(() => maybeLoadScript(\"vega-embed\", \"6\"))\n",
              "        .catch(showError)\n",
              "        .then(() => displayChart(vegaEmbed));\n",
              "    }\n",
              "  })({\"config\": {\"view\": {\"continuousWidth\": 300, \"continuousHeight\": 300}}, \"hconcat\": [{\"mark\": {\"type\": \"circle\"}, \"encoding\": {\"x\": {\"field\": \"x1\", \"type\": \"quantitative\"}, \"y\": {\"field\": \"x2\", \"type\": \"quantitative\"}}, \"height\": 200, \"title\": {\"text\": \"x1 and x2 are highly correlated\"}, \"width\": 200}, {\"mark\": {\"type\": \"circle\"}, \"encoding\": {\"x\": {\"field\": \"x1\", \"type\": \"quantitative\"}, \"y\": {\"field\": \"x3\", \"type\": \"quantitative\"}}, \"height\": 200, \"title\": {\"text\": \"x1 and x3 are somewhat correlated\"}, \"width\": 200}, {\"mark\": {\"type\": \"circle\"}, \"encoding\": {\"x\": {\"field\": \"x1\", \"type\": \"quantitative\"}, \"y\": {\"field\": \"x4\", \"type\": \"quantitative\"}}, \"height\": 200, \"title\": {\"text\": \"x1 and x4 are not correlated\"}, \"width\": 200}], \"data\": {\"name\": \"data-d419072ea06e898df327d9088b106647\"}, \"$schema\": \"https://vega.github.io/schema/vega-lite/v5.14.1.json\", \"datasets\": {\"data-d419072ea06e898df327d9088b106647\": [{\"x1\": 19.84866090118505, \"x2\": 21.91686369890299, \"x3\": 65.87876309154976, \"x4\": 9.616091064221312}, {\"x1\": 17.773294577331136, \"x2\": 19.70661197059952, \"x3\": 62.62671554052821, \"x4\": 3.078110122798876}, {\"x1\": 2.6738074735104878, \"x2\": 2.7331363613461424, \"x3\": 8.97890935154947, \"x4\": 15.788073767818979}, {\"x1\": 3.751377363773478, \"x2\": 6.6984423664923, \"x3\": 4.5901032139485265, \"x4\": 5.258110973776975}, {\"x1\": 4.713016052465653, \"x2\": 4.902605886881775, \"x3\": 26.087348472269404, \"x4\": 6.1926587098602015}, {\"x1\": 15.862541778024571, \"x2\": 16.92436950500639, \"x3\": 44.260012466898814, \"x4\": 8.622303395291706}, {\"x1\": 9.85408531877328, \"x2\": 11.983209571562423, \"x3\": 50.769233656284804, \"x4\": 3.554080083336213}, {\"x1\": 1.294582021385251, \"x2\": 3.5397525254887325, \"x3\": 36.840015235200994, \"x4\": 11.002744594059328}, {\"x1\": 0.5429764030085438, \"x2\": 2.899623329824855, \"x3\": 48.867134913338155, \"x4\": 9.208514648499388}, {\"x1\": 5.592684283538825, \"x2\": 5.831419342071416, \"x3\": 40.926435725700685, \"x4\": 0.34232897146058594}, {\"x1\": 16.116091338775966, \"x2\": 18.239594886500036, \"x3\": 25.95403502005033, \"x4\": 11.413980326848016}, {\"x1\": 3.720976978274384, \"x2\": 5.807072083557372, \"x3\": 37.90831251031052, \"x4\": 4.67461071305361}, {\"x1\": 15.366528863574132, \"x2\": 15.397342583905484, \"x3\": 16.795238087424476, \"x4\": 9.49273101843329}, {\"x1\": 8.759577692125953, \"x2\": 11.26047470781502, \"x3\": 49.142980525090266, \"x4\": 5.568197517910935}, {\"x1\": 15.15804317419571, \"x2\": 15.968891869928044, \"x3\": 36.21142046798383, \"x4\": 10.178382842921646}, {\"x1\": 11.36780915410229, \"x2\": 12.839460662901644, \"x3\": 19.08241455428453, \"x4\": 18.359275649430028}, {\"x1\": 16.584664301947882, \"x2\": 17.7921479970082, \"x3\": 64.26554024175968, \"x4\": 17.12361420202753}, {\"x1\": 8.752833261895665, \"x2\": 10.117615050321385, \"x3\": 35.78278692175004, \"x4\": 1.732833997019716}, {\"x1\": 6.48654222428214, \"x2\": 7.683093938084141, \"x3\": 18.230512244932193, \"x4\": 19.411240763787486}, {\"x1\": 16.31568141639138, \"x2\": 18.618826532709672, \"x3\": 65.36011034419822, \"x4\": 10.747252291973606}, {\"x1\": 5.489853307644832, \"x2\": 8.22017711961921, \"x3\": 9.096213929913073, \"x4\": 19.476381982485197}, {\"x1\": 5.113624433808546, \"x2\": 8.104346014552295, \"x3\": 23.31085043745443, \"x4\": 3.79026879119692}, {\"x1\": 5.5231138442830785, \"x2\": 6.832590919700999, \"x3\": 15.465728890372915, \"x4\": 11.794710585300656}, {\"x1\": 5.548858418953078, \"x2\": 7.3318171563800245, \"x3\": 23.17825361117822, \"x4\": 12.60859756323995}, {\"x1\": 12.56358413222818, \"x2\": 14.990623273497368, \"x3\": 51.30115716942069, \"x4\": 13.74384780235151}, {\"x1\": 19.520746136683485, \"x2\": 22.287368905605856, \"x3\": 32.158565893051914, \"x4\": 10.556963479758485}, {\"x1\": 10.516559867516577, \"x2\": 11.334541461306209, \"x3\": 30.106299035334313, \"x4\": 5.227526054201881}, {\"x1\": 5.851036349059995, \"x2\": 8.515614903764568, \"x3\": 26.555294822681898, \"x4\": 9.55582891756833}, {\"x1\": 16.453435088340946, \"x2\": 16.77556150589332, \"x3\": 17.59059165076722, \"x4\": 3.9639899324905548}, {\"x1\": 19.713948553049086, \"x2\": 21.67799171109112, \"x3\": 42.87899430683218, \"x4\": 8.23117182236704}, {\"x1\": 10.424162067324671, \"x2\": 11.445224639887279, \"x3\": 16.67336404216139, \"x4\": 4.550466946699034}, {\"x1\": 9.14514311549208, \"x2\": 9.952781413418926, \"x3\": 32.1444930686762, \"x4\": 16.743948136804143}, {\"x1\": 19.18683236941697, \"x2\": 20.29558340625617, \"x3\": 66.59155353226524, \"x4\": 7.962704496198882}, {\"x1\": 17.1828271091564, \"x2\": 18.24282454922462, \"x3\": 64.82680304635402, \"x4\": 17.081689747171275}, {\"x1\": 2.326022730119668, \"x2\": 3.765880251884032, \"x3\": 34.201701118543326, \"x4\": 6.016476717236747}, {\"x1\": 17.864633581803282, \"x2\": 20.61273610923651, \"x3\": 35.297768148908595, \"x4\": 0.5299203266602115}, {\"x1\": 8.827685921782596, \"x2\": 9.748688939129885, \"x3\": 10.57461785873351, \"x4\": 12.628117760574805}, {\"x1\": 9.389541694764592, \"x2\": 12.194014736016843, \"x3\": 16.37472603395296, \"x4\": 11.784894429812487}, {\"x1\": 4.907982063739819, \"x2\": 6.005613462900706, \"x3\": 30.985997685223527, \"x4\": 2.936015625470636}, {\"x1\": 6.325300859665576, \"x2\": 8.204308385571014, \"x3\": 8.132837375666895, \"x4\": 16.70925997105111}, {\"x1\": 5.687450671113588, \"x2\": 8.178776841491523, \"x3\": 23.64500766082235, \"x4\": 8.34579194914835}, {\"x1\": 4.488093024247936, \"x2\": 4.5805535016754835, \"x3\": 9.587186736121668, \"x4\": 0.48385141619189165}, {\"x1\": 8.478255198791123, \"x2\": 10.247925624258013, \"x3\": 36.90770566555575, \"x4\": 16.71830971357134}, {\"x1\": 3.114412416140875, \"x2\": 4.597306308040951, \"x3\": 35.592923861111025, \"x4\": 19.62927068267476}, {\"x1\": 19.686902010174556, \"x2\": 22.37279771324405, \"x3\": 67.72454161451074, \"x4\": 1.9105491738454194}, {\"x1\": 17.646790902976395, \"x2\": 17.707881293188137, \"x3\": 56.04347084300885, \"x4\": 9.484520883128031}, {\"x1\": 15.675689133284028, \"x2\": 16.776102632623985, \"x3\": 38.57683334266463, \"x4\": 19.109172559133935}, {\"x1\": 12.599129545393303, \"x2\": 13.973795426607015, \"x3\": 28.541900287535025, \"x4\": 9.902142160798707}, {\"x1\": 7.308686266561704, \"x2\": 7.904131683784761, \"x3\": 21.219981149691776, \"x4\": 18.235560776195854}, {\"x1\": 17.38890505691974, \"x2\": 18.32734132315249, \"x3\": 59.69876933386193, \"x4\": 11.213403368001467}, {\"x1\": 1.738620869770231, \"x2\": 3.151787328999235, \"x3\": 29.383956440533726, \"x4\": 5.819562903684572}, {\"x1\": 4.461414003458486, \"x2\": 7.033079205805484, \"x3\": 17.303169712785206, \"x4\": 2.3594212879663745}, {\"x1\": 5.144852732802021, \"x2\": 7.498174231849483, \"x3\": 49.528502815878184, \"x4\": 12.666670187839175}, {\"x1\": 15.361968020058658, \"x2\": 16.43149112132859, \"x3\": 56.673420809430596, \"x4\": 9.594696389494189}, {\"x1\": 7.5091929329011675, \"x2\": 9.81646715726245, \"x3\": 45.891818681125315, \"x4\": 18.732264837212664}, {\"x1\": 4.999378038133209, \"x2\": 6.669070765281907, \"x3\": 36.01462412262978, \"x4\": 9.65921976947448}, {\"x1\": 14.831889351607813, \"x2\": 17.24802926739583, \"x3\": 16.495900041742402, \"x4\": 19.210909450668275}, {\"x1\": 3.186313266830705, \"x2\": 3.974536871747052, \"x3\": 45.71686100857012, \"x4\": 15.599049502436364}, {\"x1\": 1.414479227757064, \"x2\": 2.7766792816270205, \"x3\": 30.553454990531048, \"x4\": 3.1148361849146267}, {\"x1\": 8.233377832019444, \"x2\": 9.604132012432867, \"x3\": 24.637556022307514, \"x4\": 2.509532073391074}, {\"x1\": 11.985004147762854, \"x2\": 14.246644984336434, \"x3\": 21.040020548327853, \"x4\": 4.032179267505221}, {\"x1\": 12.39107477701091, \"x2\": 13.875638569842213, \"x3\": 52.923072716123826, \"x4\": 16.822475974435356}, {\"x1\": 4.47877953639753, \"x2\": 6.904305789921194, \"x3\": 45.9601784857346, \"x4\": 8.130889408005547}, {\"x1\": 13.210866113285942, \"x2\": 14.564513837868493, \"x3\": 22.274223479531372, \"x4\": 3.082260750981587}, {\"x1\": 14.01167456977362, \"x2\": 15.084792975335846, \"x3\": 41.623518867619815, \"x4\": 17.05372960717986}, {\"x1\": 14.601971651591208, \"x2\": 15.681744175514538, \"x3\": 49.065072995457164, \"x4\": 6.667983761431707}, {\"x1\": 18.69275219618458, \"x2\": 20.19809339612797, \"x3\": 21.489713306194936, \"x4\": 13.820203356793373}, {\"x1\": 9.95322932366566, \"x2\": 11.778848904381462, \"x3\": 49.68117053334239, \"x4\": 3.4236843275860784}, {\"x1\": 5.598813920337458, \"x2\": 7.68166525855371, \"x3\": 43.02713093270391, \"x4\": 4.709600627579551}, {\"x1\": 16.64843229914026, \"x2\": 16.970163646985043, \"x3\": 41.82050485918309, \"x4\": 18.209654469850797}, {\"x1\": 18.18772655886059, \"x2\": 20.520593443469945, \"x3\": 22.820783445931895, \"x4\": 11.568421967437628}, {\"x1\": 2.0130678458234175, \"x2\": 3.089641489917702, \"x3\": 48.73685868171102, \"x4\": 5.629970338651802}, {\"x1\": 14.099671999235214, \"x2\": 15.193477418987772, \"x3\": 40.01969905193893, \"x4\": 15.389899753806544}, {\"x1\": 0.5404727747236482, \"x2\": 2.6430517588933036, \"x3\": 10.598755428237327, \"x4\": 4.282934621612844}, {\"x1\": 3.2604881323767776, \"x2\": 4.395104714524617, \"x3\": 30.747253280336263, \"x4\": 11.91604495119508}, {\"x1\": 12.056286527983291, \"x2\": 13.03835891629091, \"x3\": 51.53599857298115, \"x4\": 5.870671081443946}, {\"x1\": 19.404795489207014, \"x2\": 20.46989043246526, \"x3\": 59.61410685960789, \"x4\": 17.405781532648906}, {\"x1\": 4.313446336122699, \"x2\": 5.477613034971411, \"x3\": 52.15871262537104, \"x4\": 15.749926841882331}, {\"x1\": 9.086582688910854, \"x2\": 10.664827335570017, \"x3\": 18.35856596247158, \"x4\": 7.789127322758434}, {\"x1\": 12.785376124186076, \"x2\": 14.198277224864615, \"x3\": 61.94003393315387, \"x4\": 19.99215917700035}, {\"x1\": 15.747679458915371, \"x2\": 17.24272017372555, \"x3\": 24.03175360868101, \"x4\": 7.990880043241155}, {\"x1\": 17.275851625264277, \"x2\": 17.900394802327416, \"x3\": 33.44484075618414, \"x4\": 9.993970055917034}, {\"x1\": 9.768280492950662, \"x2\": 11.64715394214324, \"x3\": 14.497973863792804, \"x4\": 7.825217411608969}, {\"x1\": 19.419054033152378, \"x2\": 19.549745202016393, \"x3\": 55.64768178883846, \"x4\": 19.514297897462075}, {\"x1\": 13.416208870438089, \"x2\": 13.566467140857926, \"x3\": 26.98270484104941, \"x4\": 10.142774660508936}, {\"x1\": 15.742304921852812, \"x2\": 16.079800686226797, \"x3\": 31.459433642461093, \"x4\": 8.4600059018538}, {\"x1\": 6.658440412090167, \"x2\": 8.196100497492878, \"x3\": 51.83810239807627, \"x4\": 19.442400971456518}, {\"x1\": 5.0610278323223845, \"x2\": 5.665401016478724, \"x3\": 15.004866779979348, \"x4\": 4.122625336159029}, {\"x1\": 13.692033482415377, \"x2\": 14.696320738773192, \"x3\": 59.586309782885984, \"x4\": 13.19388983602863}, {\"x1\": 18.62319280048759, \"x2\": 19.59838331385544, \"x3\": 18.880111522316902, \"x4\": 11.357296609488971}, {\"x1\": 6.4159833471388055, \"x2\": 8.723828915099347, \"x3\": 53.69789940230191, \"x4\": 16.22526478787684}, {\"x1\": 18.786135231957836, \"x2\": 21.539427744493263, \"x3\": 57.51224960225694, \"x4\": 9.611731706920587}, {\"x1\": 14.378925278527113, \"x2\": 14.501000777824157, \"x3\": 38.14403782093039, \"x4\": 8.88239676717442}, {\"x1\": 19.810027701345923, \"x2\": 22.551010640257513, \"x3\": 62.724282961327575, \"x4\": 0.9111593183112499}, {\"x1\": 19.931686709978518, \"x2\": 22.294273860938105, \"x3\": 66.75462728887584, \"x4\": 18.447681390155047}, {\"x1\": 3.6879900798507648, \"x2\": 4.113832153534518, \"x3\": 36.98718297532718, \"x4\": 17.030040111696877}, {\"x1\": 2.999477258640897, \"x2\": 5.398023804385448, \"x3\": 14.483919914142138, \"x4\": 14.659540727380664}, {\"x1\": 2.2007321575218852, \"x2\": 4.411571399991459, \"x3\": 49.17882400465553, \"x4\": 17.33754515414571}, {\"x1\": 3.9506791403246266, \"x2\": 5.272642771821087, \"x3\": 38.68608303382755, \"x4\": 4.8276770631128985}, {\"x1\": 6.647722644544944, \"x2\": 9.220226186958929, \"x3\": 10.860290912764935, \"x4\": 1.74539480318731}, {\"x1\": 16.389930293045552, \"x2\": 16.962511998767614, \"x3\": 63.57903283621234, \"x4\": 3.3696799493296337}, {\"x1\": 0.6076350266940755, \"x2\": 3.505132172829401, \"x3\": 32.57691993078277, \"x4\": 6.075585491175863}, {\"x1\": 9.387973493499715, \"x2\": 10.204127982809853, \"x3\": 32.665472340794935, \"x4\": 2.1422288534243417}, {\"x1\": 13.937012338473703, \"x2\": 14.176041448894441, \"x3\": 57.022936890354046, \"x4\": 11.92411518423949}, {\"x1\": 7.790383971328887, \"x2\": 10.260129347247872, \"x3\": 36.51309628984927, \"x4\": 19.57234778509866}, {\"x1\": 1.7556586088265513, \"x2\": 4.052004173330923, \"x3\": 8.960743161218002, \"x4\": 17.80879374319698}, {\"x1\": 5.119576190405956, \"x2\": 5.410023233761608, \"x3\": 8.156206497586815, \"x4\": 16.078119786567527}, {\"x1\": 9.3549001353054, \"x2\": 10.795751434253457, \"x3\": 44.83835532815722, \"x4\": 4.191591264844259}, {\"x1\": 3.655195223174117, \"x2\": 4.459345676826718, \"x3\": 3.6808075901969204, \"x4\": 12.10297092360326}, {\"x1\": 11.265418319637847, \"x2\": 12.805917446802654, \"x3\": 43.93812266333829, \"x4\": 1.3725787149461532}, {\"x1\": 6.623665000241504, \"x2\": 8.833488783544894, \"x3\": 50.60238088512335, \"x4\": 3.6885945141467302}, {\"x1\": 15.187659488051333, \"x2\": 17.248712839493027, \"x3\": 58.07527353389093, \"x4\": 0.8506756895869128}, {\"x1\": 0.4381697894758996, \"x2\": 3.1367685333448825, \"x3\": 19.413558248501754, \"x4\": 14.655823881255774}, {\"x1\": 8.8327963411733, \"x2\": 10.267467487542051, \"x3\": 24.37190677403958, \"x4\": 18.31947612501375}, {\"x1\": 13.193295916725411, \"x2\": 15.717489092439816, \"x3\": 47.71764902914307, \"x4\": 5.315424859926658}, {\"x1\": 17.448181044485512, \"x2\": 17.579250968248157, \"x3\": 51.27328489815973, \"x4\": 3.7374569609733066}, {\"x1\": 12.224061224135127, \"x2\": 15.058931352867976, \"x3\": 42.62233285640032, \"x4\": 6.428528036216747}, {\"x1\": 6.092288702414439, \"x2\": 7.824181477064599, \"x3\": 11.14550805362522, \"x4\": 16.041878278458512}, {\"x1\": 8.681232588329483, \"x2\": 10.145616597632515, \"x3\": 38.91751348157651, \"x4\": 18.719612622940787}, {\"x1\": 12.392367530411848, \"x2\": 14.06199401697595, \"x3\": 61.51927196609627, \"x4\": 3.814324901685038}, {\"x1\": 9.384211195987831, \"x2\": 11.400319426492239, \"x3\": 51.592423884135776, \"x4\": 14.561272593052477}, {\"x1\": 18.596454524446592, \"x2\": 20.531942028976793, \"x3\": 49.40909978848684, \"x4\": 2.311127053163047}, {\"x1\": 13.649193496233764, \"x2\": 16.132792688181812, \"x3\": 42.79873383100363, \"x4\": 1.4742682375170024}, {\"x1\": 16.030349262983243, \"x2\": 17.332038108308428, \"x3\": 18.459509872198918, \"x4\": 9.764329508588913}, {\"x1\": 9.616738518799462, \"x2\": 11.021420780647983, \"x3\": 15.048936486981024, \"x4\": 18.27208493299304}, {\"x1\": 15.175231380440175, \"x2\": 17.5906743812887, \"x3\": 32.731028943602574, \"x4\": 2.8083250968435247}, {\"x1\": 9.411937094722893, \"x2\": 10.627807732504147, \"x3\": 48.5188262821438, \"x4\": 13.97266998227847}, {\"x1\": 6.0517419935162025, \"x2\": 8.05008090815993, \"x3\": 47.91567633801908, \"x4\": 15.435226749048418}, {\"x1\": 3.4716115004939785, \"x2\": 5.170263304553543, \"x3\": 49.86150883710536, \"x4\": 19.865880945357365}, {\"x1\": 4.696158936247841, \"x2\": 7.269072542989711, \"x3\": 43.76975126759379, \"x4\": 7.135578979225414}, {\"x1\": 2.640392783581058, \"x2\": 3.778474360288956, \"x3\": 8.75751298358496, \"x4\": 9.85315721765673}, {\"x1\": 13.561571233782338, \"x2\": 15.230104514784209, \"x3\": 56.60802243632552, \"x4\": 13.134717092950494}, {\"x1\": 9.852939904236068, \"x2\": 11.168574303734985, \"x3\": 52.84379547765794, \"x4\": 11.850990839736195}, {\"x1\": 10.526669589059473, \"x2\": 13.0183682446174, \"x3\": 19.21672678177062, \"x4\": 10.639158411115142}, {\"x1\": 4.373385902270526, \"x2\": 7.022317574467506, \"x3\": 25.01222211825698, \"x4\": 18.721454199340293}, {\"x1\": 16.726253957628717, \"x2\": 17.45278081807721, \"x3\": 51.0685635966565, \"x4\": 5.928718487942737}, {\"x1\": 0.14897781870919724, \"x2\": 1.256534841497372, \"x3\": 27.96179178926137, \"x4\": 5.772383510263102}, {\"x1\": 11.973377845988278, \"x2\": 13.248098318541128, \"x3\": 46.247673949448526, \"x4\": 12.976763674065374}, {\"x1\": 17.15322054147145, \"x2\": 18.06336656954711, \"x3\": 60.145007433727464, \"x4\": 10.533003836465936}, {\"x1\": 19.295201781879925, \"x2\": 19.71923245259351, \"x3\": 20.89590809852592, \"x4\": 9.352642740982839}, {\"x1\": 0.32627868926001335, \"x2\": 1.272292227754245, \"x3\": 39.948429812895974, \"x4\": 2.8418822667052934}, {\"x1\": 18.854147931719478, \"x2\": 18.875527016749228, \"x3\": 58.65754370841526, \"x4\": 12.3649140006835}, {\"x1\": 13.04538522061278, \"x2\": 13.060422506965244, \"x3\": 51.92408155677302, \"x4\": 14.488500918453868}, {\"x1\": 10.889336534203924, \"x2\": 11.244303500306387, \"x3\": 19.10844151919109, \"x4\": 3.9909746003083013}, {\"x1\": 18.12327411938671, \"x2\": 20.3985006448094, \"x3\": 64.7168797835269, \"x4\": 11.981859271240502}, {\"x1\": 13.07437567541699, \"x2\": 14.101293101945055, \"x3\": 42.44925855608241, \"x4\": 4.694290557145521}, {\"x1\": 14.569164385628214, \"x2\": 16.593787692830862, \"x3\": 15.129022346682781, \"x4\": 7.60331792723343}, {\"x1\": 5.470346206820899, \"x2\": 6.714871262054286, \"x3\": 11.05455626879013, \"x4\": 15.72949704550738}, {\"x1\": 5.552561748375857, \"x2\": 7.264074333808332, \"x3\": 15.432439808705922, \"x4\": 14.621864033625151}, {\"x1\": 10.152191452905061, \"x2\": 12.3601275802363, \"x3\": 43.93370053486343, \"x4\": 3.113303485885879}]}}, {\"mode\": \"vega-lite\"});\n",
              "</script>"
            ],
            "text/plain": [
              "alt.HConcatChart(...)"
            ]
          },
          "metadata": {},
          "output_type": "display_data"
        }
      ],
      "source": [
        "if c_dataset == \"dummy_i\":\n",
        "\n",
        "    # Define the predictor data (df_X), the feature names (l_X_names) and the target variable (ps_y)\n",
        "    # to individual objects.\n",
        "    v_x1 = 20 * rand(150)\n",
        "    v_x2 = v_x1 + 3 * rand(150)  # x1 and x2 are highly   correlated\n",
        "    v_x3 = v_x1 + 50 * rand(150) # x1 and x3 are somewhat correlated\n",
        "    v_x4 = 20 * rand(150)        # x1 and x2 are not      correlated\n",
        "\n",
        "    m_X       = np.array([v_x1, v_x2, v_x3, v_x4]).transpose()\n",
        "    l_X_names = ['x1', 'x2', 'x3', 'x4']\n",
        "    df_X      = pd.DataFrame(m_X, columns = l_X_names)\n",
        "    ps_y      = pd.Series([\"dummy\" for i in range(150)])\n",
        "\n",
        "\n",
        "    # Create plot.\n",
        "    alt1 = alt.Chart(df_X).mark_circle().encode(\n",
        "        x = 'x1',\n",
        "        y = 'x2'\n",
        "    ).properties(\n",
        "        width  = 200,\n",
        "        height = 200,\n",
        "        title  = {\n",
        "            \"text\": \"x1 and x2 are highly correlated\",  # Main title text\n",
        "        }\n",
        "    )\n",
        "\n",
        "    alt2 = alt.Chart(df_X).mark_circle().encode(\n",
        "        x = 'x1',\n",
        "        y = 'x3'\n",
        "    ).properties(\n",
        "        width  = 200,\n",
        "        height = 200,\n",
        "        title  = {\n",
        "            \"text\": \"x1 and x3 are somewhat correlated\",  # Main title text\n",
        "        }\n",
        "    )\n",
        "\n",
        "    alt3 = alt.Chart(df_X).mark_circle().encode(\n",
        "        x = 'x1',\n",
        "        y = 'x4'\n",
        "    ).properties(\n",
        "        width  = 200,\n",
        "        height = 200,\n",
        "        title  = {\n",
        "            \"text\": \"x1 and x4 are not correlated\",  # Main title text\n",
        "        }\n",
        "    )\n",
        "\n",
        "    # Combine the charts.\n",
        "    alt_combined = alt1 | alt2 | alt3\n",
        "\n",
        "    # Display the combined chart\n",
        "    alt_combined.display()"
      ]
    },
    {
      "cell_type": "markdown",
      "id": "38e90201-c625-4700-8838-efc1494241a2",
      "metadata": {},
      "source": [
        "##### Dummy dataset II\n",
        "\n",
        "We create a syntetic dataset with non-linear relationships between the three features, `x`, `y`, and `z`. In particular, the data set has a\n",
        "‘bucket’-like data structure (cluster E) in which another cluster is situated (cluster C). Below, we show a 3D scatter plot made with Plotly. This allows us to rotate the box holding the data around the x, y, and z-axes, to observe the data from different directions. In addition, the data have been projected on each of the three planes constructed by two of the three axes. This helps to understand how data are overlapping in the concerned directions. To render this plot, you need to have installed the nbformat package (included in the requirements.txt file)."
      ]
    },
    {
      "cell_type": "code",
      "execution_count": 7,
      "id": "8942a2dd-2430-4ca8-b02e-c075eed0372b",
      "metadata": {},
      "outputs": [],
      "source": [
        "if c_dataset == \"dummy_ii\":\n",
        "\n",
        "    random.seed(10)\n",
        "\n",
        "    # Cluster A (red)\n",
        "    l_a_x = list( 5 + 3 * rand(25))\n",
        "    l_a_y = list( 5 + 3 * rand(25))\n",
        "    l_a_z = list(10 + 1 * rand(25))\n",
        "\n",
        "    # Cluster B (green)\n",
        "    l_b_x = list( 5 + 3 * rand(25))\n",
        "    l_b_y = list(15 + 3 * rand(25))\n",
        "    l_b_z = list( 5 + 1 * rand(25))\n",
        "\n",
        "    # Cluster C (blue)\n",
        "    l_c_x = list(14 + 3 * rand(25))\n",
        "    l_c_y = list(12 + 3 * rand(25))\n",
        "    l_c_z = list(15 + 1 * rand(25))\n",
        "\n",
        "    # Cluster D (magenta)\n",
        "    l_d_x = list( 5 + 3 * rand(50))\n",
        "    l_d_y = list(15 + 3 * rand(50))\n",
        "    l_d_z = list( 7 + 1 * rand(50))\n",
        "\n",
        "    # Cluster E (orange)\n",
        "    n_radius   = 5\n",
        "    n_x_center = 15\n",
        "    n_y_center = 10\n",
        "    n_z_center = 15\n",
        "    n_data     = 250\n",
        "\n",
        "    v_phi   = np.pi * rand(n_data)\n",
        "    v_theta = np.pi * rand(n_data)\n",
        "\n",
        "    v_e_x = n_x_center + n_radius * np.sin(v_phi) * np.cos(v_theta)\n",
        "    v_e_y = n_y_center + n_radius * np.sin(v_phi) * np.sin(v_theta) * 2\n",
        "    v_e_z = n_z_center + n_radius * np.cos(v_phi)\n",
        "\n",
        "    l_e_x = list(v_e_x)\n",
        "    l_e_y = list(v_e_y)\n",
        "    l_e_z = list(v_e_z)\n",
        "\n",
        "    # Cluster label.\n",
        "    ps_y = pd.Series([\"A\"]*25 + [\"B\"]*25 + [\"C\"]*25 + [\"D\"]*50 + [\"E\"]*n_data)\n",
        "\n",
        "    # Color dictionary (fix color per cluster).\n",
        "    dc_color = {\"A\": 'red', \"B\": 'green', \"C\": 'blue', \"D\": 'magenta', \"E\": 'orange'}\n",
        "\n",
        "    # Concatenation of cluster data.\n",
        "    l_X_names = ['x', 'y', 'z']\n",
        "    m_X          = np.array([\n",
        "        l_a_x + l_b_x + l_c_x + l_d_x + l_e_x,\n",
        "        l_a_y + l_b_y + l_c_y + l_d_y + l_e_y,\n",
        "        l_a_z + l_b_z + l_c_z + l_d_z + l_e_z\n",
        "    ]).transpose()\n",
        "\n",
        "    # Convert to dataframe, df_X.\n",
        "    df_X  = pd.DataFrame(    \n",
        "        m_X,\n",
        "        columns = l_X_names\n",
        "    )\n",
        "\n",
        "    # Create copy of df_X.\n",
        "    df_data = df_X.copy()\n",
        "\n",
        "    # Add cluster label to df_X.\n",
        "    df_data['label'] = ps_y\n",
        "\n",
        "    # Create shadows on x, y, and z planes.\n",
        "    df_data_x = df_data.copy()\n",
        "    df_data_y = df_data.copy()\n",
        "    df_data_z = df_data.copy()\n",
        "\n",
        "    df_data_x['x'] = 0\n",
        "    df_data_y['y'] = 0\n",
        "    df_data_z['z'] = 0\n",
        "\n",
        "    # Concatenate data.\n",
        "    df_data_total = pd.concat([\n",
        "        \n",
        "        df_data,\n",
        "        df_data_x,\n",
        "        df_data_y,\n",
        "        df_data_z\n",
        "    ], axis = 0)\n",
        "\n",
        "    # Plot the data.\n",
        "    fig = px.scatter_3d(\n",
        "\n",
        "        df_data_total, \n",
        "        x                  = 'x',\n",
        "        y                  = 'y', \n",
        "        z                  = 'z',\n",
        "        color              = 'label',\n",
        "        color_discrete_map = dc_color,\n",
        "        range_x            = (0,25),\n",
        "        range_y            = (0,25),\n",
        "        range_z            = (0,25)\n",
        "    )\n",
        "\n",
        "    fig.update_layout(\n",
        "        autosize = True,\n",
        "        width    = 800,\n",
        "        height   = 800)\n",
        "        \n",
        "    fig.show()"
      ]
    },
    {
      "cell_type": "markdown",
      "id": "535ca983-4b10-4163-b40b-c9ec2fbdb347",
      "metadata": {},
      "source": [
        "#### Some descriptive statistics\n",
        "\n",
        "We print some statistics for the user."
      ]
    },
    {
      "cell_type": "code",
      "execution_count": 8,
      "id": "90d55ccf-f3f4-425b-955e-61be80c0f81d",
      "metadata": {},
      "outputs": [
        {
          "name": "stdout",
          "output_type": "stream",
          "text": [
            "Shape and feature names of 'df_X':\n",
            "Shape:         (150, 4)\n",
            "Feature names: ['x1', 'x2', 'x3', 'x4']\n",
            "\n",
            "\n",
            "Target variable 'ps_y':\n",
            "Shape:         (150,)\n",
            "Unique values: ['dummy']\n",
            "\n",
            "\n",
            "Sample of 'df_X':\n",
            "      x1     x2     x3     x4\n",
            "0  19.85  21.92  65.88   9.62\n",
            "1  17.77  19.71  62.63   3.08\n",
            "2   2.67   2.73   8.98  15.79\n",
            "3   3.75   6.70   4.59   5.26\n",
            "4   4.71   4.90  26.09   6.19\n"
          ]
        }
      ],
      "source": [
        "# Show dimensions and names of the data.\n",
        "print(\"Shape and feature names of 'df_X':\")\n",
        "print(f\"Shape:         {m_X.shape}\")\n",
        "print(f\"Feature names: {l_X_names}\\n\\n\")\n",
        "print(\"Target variable 'ps_y':\")\n",
        "print(f\"Shape:         {ps_y.shape}\")\n",
        "print(f\"Unique values: {ps_y.unique()}\\n\\n\")\n",
        "print(\"Sample of 'df_X':\")\n",
        "print(df_X.head(5))"
      ]
    },
    {
      "cell_type": "markdown",
      "id": "68c4431a-7352-4e80-a0f5-d4f52139ba19",
      "metadata": {},
      "source": [
        "#### Pre-processing\n",
        "\n",
        "In this ML explainer we apply PCA to a dataset of your choice. We make use of the data frame `df_X` and vector `ps_y` objects that we defined above. As with other transformations, for Principal Component Analysis to work properly; i.e., give each feature equal weight, we scale the predictor data."
      ]
    },
    {
      "cell_type": "code",
      "execution_count": 9,
      "id": "9eb873d4-00c0-4a48-8908-5c62908af292",
      "metadata": {},
      "outputs": [
        {
          "data": {
            "text/plain": [
              "array([[ 1.6588879 ,  1.77326322,  1.71417678, -0.08645976],\n",
              "       [ 1.29816586,  1.38467978,  1.52376312, -1.22587119],\n",
              "       [-1.32629511, -1.59941994, -1.61741931,  0.98916707],\n",
              "       [-1.13900132, -0.90228113, -1.87439237, -0.84594994],\n",
              "       [-0.97185768, -1.2180064 , -0.61568723, -0.68308095]])"
            ]
          },
          "execution_count": 9,
          "metadata": {},
          "output_type": "execute_result"
        }
      ],
      "source": [
        "m_X_scaled = StandardScaler().fit_transform(m_X)\n",
        "\n",
        "m_X_scaled[0:5,]"
      ]
    },
    {
      "cell_type": "markdown",
      "id": "7c5876b2-fe28-4cc1-9132-bb78c10d8a2a",
      "metadata": {},
      "source": [
        "We create a PCA object (`pca_`) that we use to transform the scaled predictor data to its principal components. We define an object\n",
        "`n_components` as we will need the number of principal components at a later moment as well. The term `n_components = n_components` in the\n",
        "`PCA()` function below may look a bit confusing. To explain this, the first `n_components` refers to the argument name in the `PCA()`\n",
        "function, and the second `n_components` refers to the object that we define and assign a whole number (integer) to."
      ]
    },
    {
      "cell_type": "code",
      "execution_count": 10,
      "id": "524c5a5d-6768-4a01-bf01-58b38923bb0c",
      "metadata": {},
      "outputs": [
        {
          "name": "stdout",
          "output_type": "stream",
          "text": [
            "Number of features in the original data: 4\n"
          ]
        }
      ],
      "source": [
        "# Number of features in original data.\n",
        "n_components = m_X.shape[1]\n",
        "\n",
        "# Print results.\n",
        "print(f\"Number of features in the original data: {n_components}\")\n",
        "\n",
        "# Create pca object\n",
        "pca_  = PCA(n_components = n_components)"
      ]
    },
    {
      "cell_type": "markdown",
      "id": "f5cb5b12-0039-4312-a06d-1207f86f78b5",
      "metadata": {},
      "source": [
        "The object `pca_` is updated by applying the scaled data to it, creating\n",
        "a matrix `m_pc` containing the principal components."
      ]
    },
    {
      "cell_type": "code",
      "execution_count": 11,
      "id": "b3b952a9-0b19-4224-85db-4dbdf34ee40e",
      "metadata": {},
      "outputs": [],
      "source": [
        "m_pc = pca_.fit_transform(m_X_scaled)"
      ]
    },
    {
      "cell_type": "markdown",
      "id": "144683da-46e7-4d8b-84ac-6338754ded46",
      "metadata": {},
      "source": [
        "We reformat matrix `m_pc` to the data frame `df_pc` with feature names referring to the first, second, etc., principal component, depending on the number of principal components requested in the `PCA()` function. We use a list-comprehension to construct the column names `l_pc_names`, see also explainer `list-comprehensions`."
      ]
    },
    {
      "cell_type": "code",
      "execution_count": 12,
      "id": "ea48dfce-b94e-4652-820c-02bc238d7f3a",
      "metadata": {},
      "outputs": [
        {
          "name": "stdout",
          "output_type": "stream",
          "text": [
            "['PC1', 'PC2', 'PC3', 'PC4']\n"
          ]
        }
      ],
      "source": [
        "l_pc_names = [f\"PC{i+1}\" for i in range(n_components)]\n",
        "\n",
        "print(l_pc_names)"
      ]
    },
    {
      "cell_type": "code",
      "execution_count": 13,
      "id": "f1d8d4c9-25cf-403a-8701-4c05aa0f1d0e",
      "metadata": {},
      "outputs": [
        {
          "data": {
            "text/html": [
              "<div>\n",
              "<style scoped>\n",
              "    .dataframe tbody tr th:only-of-type {\n",
              "        vertical-align: middle;\n",
              "    }\n",
              "\n",
              "    .dataframe tbody tr th {\n",
              "        vertical-align: top;\n",
              "    }\n",
              "\n",
              "    .dataframe thead th {\n",
              "        text-align: right;\n",
              "    }\n",
              "</style>\n",
              "<table border=\"1\" class=\"dataframe\">\n",
              "  <thead>\n",
              "    <tr style=\"text-align: right;\">\n",
              "      <th></th>\n",
              "      <th>PC1</th>\n",
              "      <th>PC2</th>\n",
              "      <th>PC3</th>\n",
              "      <th>PC4</th>\n",
              "      <th>label</th>\n",
              "    </tr>\n",
              "  </thead>\n",
              "  <tbody>\n",
              "    <tr>\n",
              "      <th>0</th>\n",
              "      <td>2.93</td>\n",
              "      <td>0.09</td>\n",
              "      <td>-0.49</td>\n",
              "      <td>-0.08</td>\n",
              "      <td>dummy</td>\n",
              "    </tr>\n",
              "    <tr>\n",
              "      <th>1</th>\n",
              "      <td>2.43</td>\n",
              "      <td>-1.07</td>\n",
              "      <td>-0.59</td>\n",
              "      <td>-0.05</td>\n",
              "      <td>dummy</td>\n",
              "    </tr>\n",
              "    <tr>\n",
              "      <th>2</th>\n",
              "      <td>-2.62</td>\n",
              "      <td>0.83</td>\n",
              "      <td>0.59</td>\n",
              "      <td>0.18</td>\n",
              "      <td>dummy</td>\n",
              "    </tr>\n",
              "    <tr>\n",
              "      <th>3</th>\n",
              "      <td>-2.06</td>\n",
              "      <td>-1.00</td>\n",
              "      <td>1.03</td>\n",
              "      <td>-0.17</td>\n",
              "      <td>dummy</td>\n",
              "    </tr>\n",
              "    <tr>\n",
              "      <th>4</th>\n",
              "      <td>-1.62</td>\n",
              "      <td>-0.77</td>\n",
              "      <td>-0.14</td>\n",
              "      <td>0.18</td>\n",
              "      <td>dummy</td>\n",
              "    </tr>\n",
              "  </tbody>\n",
              "</table>\n",
              "</div>"
            ],
            "text/plain": [
              "    PC1   PC2   PC3   PC4  label\n",
              "0  2.93  0.09 -0.49 -0.08  dummy\n",
              "1  2.43 -1.07 -0.59 -0.05  dummy\n",
              "2 -2.62  0.83  0.59  0.18  dummy\n",
              "3 -2.06 -1.00  1.03 -0.17  dummy\n",
              "4 -1.62 -0.77 -0.14  0.18  dummy"
            ]
          },
          "execution_count": 13,
          "metadata": {},
          "output_type": "execute_result"
        }
      ],
      "source": [
        "df_pc = pd.concat([\n",
        "    \n",
        "    pd.DataFrame(\n",
        "        data    = m_pc,\n",
        "        columns = l_pc_names\n",
        "    ),\n",
        "\n",
        "    pd.DataFrame({\n",
        "        'label': ps_y\n",
        "    })\n",
        "\n",
        "], axis=1)\n",
        "\n",
        "# Show first five rows.\n",
        "df_pc.head(5)"
      ]
    },
    {
      "cell_type": "markdown",
      "id": "bdaa9b50-b5d1-4a76-beee-c2f156df0f7b",
      "metadata": {},
      "source": [
        "Let’s take a moment to discuss the `components_` attribute of the `pca_`\n",
        "object, see below. This attribute results in an array containing the\n",
        "so-called ‘loadings’, see section ‘12.2.1 What Are Principal\n",
        "Components?’ in ISLR ([Ed.\n",
        "2](https://hastie.su.domains/ISLR2/ISLRv2_website.pdf)). We transpose\n",
        "the matrix so that each column contains the loadings per principal\n",
        "component. The number of rows is equal to the number of features in the\n",
        "original data. The matrix is converted to a data frame, so we can assign\n",
        "column names and indices (row names).\n",
        "\n",
        "In case of the USArrest data set, we can compare the data frame to Table\n",
        "12.1 in ISLR (Ed. 2). We observe in Table 12.1 that the values for PC2\n",
        "have an opposite sign of what we find in our calculation. PCA is simply\n",
        "a mathematical transformation. If you change the signs of the components\n",
        "(score), you do not change the variance that is contained in it.\n",
        "Moreover, the loadings then also change sign, so the interpretation\n",
        "stays exactly the same\n",
        "([ref](https://stats.stackexchange.com/questions/88880/does-the-sign-of-scores-or-of-loadings-in-pca-or-fa-have-a-meaning-may-i-revers))."
      ]
    },
    {
      "cell_type": "code",
      "execution_count": 14,
      "id": "3be83799-67eb-4bd3-85fa-b2272da3bbfc",
      "metadata": {},
      "outputs": [
        {
          "data": {
            "text/html": [
              "<div>\n",
              "<style scoped>\n",
              "    .dataframe tbody tr th:only-of-type {\n",
              "        vertical-align: middle;\n",
              "    }\n",
              "\n",
              "    .dataframe tbody tr th {\n",
              "        vertical-align: top;\n",
              "    }\n",
              "\n",
              "    .dataframe thead th {\n",
              "        text-align: right;\n",
              "    }\n",
              "</style>\n",
              "<table border=\"1\" class=\"dataframe\">\n",
              "  <thead>\n",
              "    <tr style=\"text-align: right;\">\n",
              "      <th></th>\n",
              "      <th>feature</th>\n",
              "      <th>PC1_start</th>\n",
              "      <th>PC2_start</th>\n",
              "      <th>PC3_start</th>\n",
              "      <th>PC4_start</th>\n",
              "      <th>PC1_end</th>\n",
              "      <th>PC2_end</th>\n",
              "      <th>PC3_end</th>\n",
              "      <th>PC4_end</th>\n",
              "    </tr>\n",
              "  </thead>\n",
              "  <tbody>\n",
              "    <tr>\n",
              "      <th>0</th>\n",
              "      <td>x1</td>\n",
              "      <td>0.0</td>\n",
              "      <td>0.0</td>\n",
              "      <td>0.0</td>\n",
              "      <td>0.0</td>\n",
              "      <td>0.64</td>\n",
              "      <td>0.03</td>\n",
              "      <td>0.31</td>\n",
              "      <td>7.06e-01</td>\n",
              "    </tr>\n",
              "    <tr>\n",
              "      <th>1</th>\n",
              "      <td>x2</td>\n",
              "      <td>0.0</td>\n",
              "      <td>0.0</td>\n",
              "      <td>0.0</td>\n",
              "      <td>0.0</td>\n",
              "      <td>0.64</td>\n",
              "      <td>0.02</td>\n",
              "      <td>0.30</td>\n",
              "      <td>-7.08e-01</td>\n",
              "    </tr>\n",
              "    <tr>\n",
              "      <th>2</th>\n",
              "      <td>x3</td>\n",
              "      <td>0.0</td>\n",
              "      <td>0.0</td>\n",
              "      <td>0.0</td>\n",
              "      <td>0.0</td>\n",
              "      <td>0.43</td>\n",
              "      <td>0.06</td>\n",
              "      <td>-0.90</td>\n",
              "      <td>4.93e-03</td>\n",
              "    </tr>\n",
              "    <tr>\n",
              "      <th>3</th>\n",
              "      <td>x4</td>\n",
              "      <td>0.0</td>\n",
              "      <td>0.0</td>\n",
              "      <td>0.0</td>\n",
              "      <td>0.0</td>\n",
              "      <td>-0.06</td>\n",
              "      <td>1.00</td>\n",
              "      <td>0.03</td>\n",
              "      <td>-7.31e-03</td>\n",
              "    </tr>\n",
              "  </tbody>\n",
              "</table>\n",
              "</div>"
            ],
            "text/plain": [
              "  feature  PC1_start  PC2_start  PC3_start  PC4_start  PC1_end  PC2_end  \\\n",
              "0      x1        0.0        0.0        0.0        0.0     0.64     0.03   \n",
              "1      x2        0.0        0.0        0.0        0.0     0.64     0.02   \n",
              "2      x3        0.0        0.0        0.0        0.0     0.43     0.06   \n",
              "3      x4        0.0        0.0        0.0        0.0    -0.06     1.00   \n",
              "\n",
              "   PC3_end   PC4_end  \n",
              "0     0.31  7.06e-01  \n",
              "1     0.30 -7.08e-01  \n",
              "2    -0.90  4.93e-03  \n",
              "3     0.03 -7.31e-03  "
            ]
          },
          "execution_count": 14,
          "metadata": {},
          "output_type": "execute_result"
        }
      ],
      "source": [
        "df_loadings = pd.concat(\n",
        "    \n",
        "    [\n",
        "        pd.DataFrame({\n",
        "            'feature': l_X_names\n",
        "        }),\n",
        "\n",
        "        # The zeros are included in the dataframe to be able to plot the loading vectors (line segments) in the biplot below.\n",
        "        pd.DataFrame(\n",
        "            data    = np.zeros((n_components, n_components)),\n",
        "            columns = [x + \"_start\" for x in l_pc_names]\n",
        "        ),\n",
        "\n",
        "        # Loadings for each PC.\n",
        "        pd.DataFrame(    \n",
        "            data    = np.transpose(pca_.components_),\n",
        "            columns = [x + \"_end\" for x in l_pc_names]\n",
        "        )\n",
        "    ],\n",
        "\n",
        "    axis=1\n",
        ")\n",
        "\n",
        "df_loadings"
      ]
    },
    {
      "cell_type": "markdown",
      "id": "e112cce1-3a08-46ea-8f6b-60d7fccb9a83",
      "metadata": {},
      "source": [
        "#### Biplot\n",
        "\n",
        "A biplot typically consists of two elements: (1) a scatterplot of the second against the first principle component, (2) loading vectors of the first and second principal component, starting from the origin of the plot. The two principal components in a biplot show clusters of observations based on their similarity. Data closer to each other are more similar. Loadings - indicated by the arrows - show how strongly each feature influences a principal component.\n",
        "\n",
        "##### Iris dataset\n",
        "\n",
        "What does it mean that,\n",
        "1) the ‘setosa’ data is fully separated from versicolor and virginica in terms of being able to accurately predict the category?\n",
        "2) `petal width (cm)` and `petal length (cm)` arrows point in the same direction?\n",
        "3) `sepal width (cm)` arrow almost orthogonally to the other three?\n",
        "\n",
        "If you do not have an answer to questions 2 snd 3, continue, check the correlation heatmap below, and give it another go.\n",
        "\n",
        "##### USArrests dataset\n",
        "\n",
        "What does it means that,\n",
        "\n",
        "1.  `Murder` and `Assault` arrows point in the same direction?\n",
        "2.  `UrbanPop` arrow points almost orthogonally to ‘Murder’ and ‘Assault’?\n",
        "\n",
        "If you do not have an answer readily available, continue, check the correlation heatmap below, and give it another go.\n",
        "\n",
        "##### Dummy Dataset II\n",
        "\n",
        "We observe that cluster C - situated inside ‘bucket’ cluster E - is separable by the first two components."
      ]
    },
    {
      "cell_type": "code",
      "execution_count": 15,
      "id": "c99cb7a2",
      "metadata": {},
      "outputs": [
        {
          "data": {
            "text/html": [
              "<div>\n",
              "<style scoped>\n",
              "    .dataframe tbody tr th:only-of-type {\n",
              "        vertical-align: middle;\n",
              "    }\n",
              "\n",
              "    .dataframe tbody tr th {\n",
              "        vertical-align: top;\n",
              "    }\n",
              "\n",
              "    .dataframe thead th {\n",
              "        text-align: right;\n",
              "    }\n",
              "</style>\n",
              "<table border=\"1\" class=\"dataframe\">\n",
              "  <thead>\n",
              "    <tr style=\"text-align: right;\">\n",
              "      <th></th>\n",
              "      <th>PC1</th>\n",
              "      <th>PC2</th>\n",
              "      <th>PC3</th>\n",
              "      <th>PC4</th>\n",
              "      <th>label</th>\n",
              "    </tr>\n",
              "  </thead>\n",
              "  <tbody>\n",
              "    <tr>\n",
              "      <th>0</th>\n",
              "      <td>2.93</td>\n",
              "      <td>0.09</td>\n",
              "      <td>-0.49</td>\n",
              "      <td>-0.08</td>\n",
              "      <td>dummy</td>\n",
              "    </tr>\n",
              "    <tr>\n",
              "      <th>1</th>\n",
              "      <td>2.43</td>\n",
              "      <td>-1.07</td>\n",
              "      <td>-0.59</td>\n",
              "      <td>-0.05</td>\n",
              "      <td>dummy</td>\n",
              "    </tr>\n",
              "    <tr>\n",
              "      <th>2</th>\n",
              "      <td>-2.62</td>\n",
              "      <td>0.83</td>\n",
              "      <td>0.59</td>\n",
              "      <td>0.18</td>\n",
              "      <td>dummy</td>\n",
              "    </tr>\n",
              "    <tr>\n",
              "      <th>3</th>\n",
              "      <td>-2.06</td>\n",
              "      <td>-1.00</td>\n",
              "      <td>1.03</td>\n",
              "      <td>-0.17</td>\n",
              "      <td>dummy</td>\n",
              "    </tr>\n",
              "    <tr>\n",
              "      <th>4</th>\n",
              "      <td>-1.62</td>\n",
              "      <td>-0.77</td>\n",
              "      <td>-0.14</td>\n",
              "      <td>0.18</td>\n",
              "      <td>dummy</td>\n",
              "    </tr>\n",
              "    <tr>\n",
              "      <th>...</th>\n",
              "      <td>...</td>\n",
              "      <td>...</td>\n",
              "      <td>...</td>\n",
              "      <td>...</td>\n",
              "      <td>...</td>\n",
              "    </tr>\n",
              "    <tr>\n",
              "      <th>145</th>\n",
              "      <td>0.76</td>\n",
              "      <td>-0.90</td>\n",
              "      <td>-0.07</td>\n",
              "      <td>0.07</td>\n",
              "      <td>dummy</td>\n",
              "    </tr>\n",
              "    <tr>\n",
              "      <th>146</th>\n",
              "      <td>0.49</td>\n",
              "      <td>-0.47</td>\n",
              "      <td>1.60</td>\n",
              "      <td>-0.07</td>\n",
              "      <td>dummy</td>\n",
              "    </tr>\n",
              "    <tr>\n",
              "      <th>147</th>\n",
              "      <td>-1.81</td>\n",
              "      <td>0.85</td>\n",
              "      <td>0.85</td>\n",
              "      <td>0.03</td>\n",
              "      <td>dummy</td>\n",
              "    </tr>\n",
              "    <tr>\n",
              "      <th>148</th>\n",
              "      <td>-1.62</td>\n",
              "      <td>0.67</td>\n",
              "      <td>0.64</td>\n",
              "      <td>-0.03</td>\n",
              "      <td>dummy</td>\n",
              "    </tr>\n",
              "    <tr>\n",
              "      <th>149</th>\n",
              "      <td>0.30</td>\n",
              "      <td>-1.19</td>\n",
              "      <td>-0.41</td>\n",
              "      <td>-0.07</td>\n",
              "      <td>dummy</td>\n",
              "    </tr>\n",
              "  </tbody>\n",
              "</table>\n",
              "<p>150 rows × 5 columns</p>\n",
              "</div>"
            ],
            "text/plain": [
              "      PC1   PC2   PC3   PC4  label\n",
              "0    2.93  0.09 -0.49 -0.08  dummy\n",
              "1    2.43 -1.07 -0.59 -0.05  dummy\n",
              "2   -2.62  0.83  0.59  0.18  dummy\n",
              "3   -2.06 -1.00  1.03 -0.17  dummy\n",
              "4   -1.62 -0.77 -0.14  0.18  dummy\n",
              "..    ...   ...   ...   ...    ...\n",
              "145  0.76 -0.90 -0.07  0.07  dummy\n",
              "146  0.49 -0.47  1.60 -0.07  dummy\n",
              "147 -1.81  0.85  0.85  0.03  dummy\n",
              "148 -1.62  0.67  0.64 -0.03  dummy\n",
              "149  0.30 -1.19 -0.41 -0.07  dummy\n",
              "\n",
              "[150 rows x 5 columns]"
            ]
          },
          "execution_count": 15,
          "metadata": {},
          "output_type": "execute_result"
        }
      ],
      "source": [
        "df_pc"
      ]
    },
    {
      "cell_type": "code",
      "execution_count": 16,
      "id": "c1d60124",
      "metadata": {},
      "outputs": [
        {
          "data": {
            "text/html": [
              "\n",
              "<style>\n",
              "  #altair-viz-12990bb4f2da4dde8084b241b9d41634.vega-embed {\n",
              "    width: 100%;\n",
              "    display: flex;\n",
              "  }\n",
              "\n",
              "  #altair-viz-12990bb4f2da4dde8084b241b9d41634.vega-embed details,\n",
              "  #altair-viz-12990bb4f2da4dde8084b241b9d41634.vega-embed details summary {\n",
              "    position: relative;\n",
              "  }\n",
              "</style>\n",
              "<div id=\"altair-viz-12990bb4f2da4dde8084b241b9d41634\"></div>\n",
              "<script type=\"text/javascript\">\n",
              "  var VEGA_DEBUG = (typeof VEGA_DEBUG == \"undefined\") ? {} : VEGA_DEBUG;\n",
              "  (function(spec, embedOpt){\n",
              "    let outputDiv = document.currentScript.previousElementSibling;\n",
              "    if (outputDiv.id !== \"altair-viz-12990bb4f2da4dde8084b241b9d41634\") {\n",
              "      outputDiv = document.getElementById(\"altair-viz-12990bb4f2da4dde8084b241b9d41634\");\n",
              "    }\n",
              "    const paths = {\n",
              "      \"vega\": \"https://cdn.jsdelivr.net/npm/vega@5?noext\",\n",
              "      \"vega-lib\": \"https://cdn.jsdelivr.net/npm/vega-lib?noext\",\n",
              "      \"vega-lite\": \"https://cdn.jsdelivr.net/npm/vega-lite@5.14.1?noext\",\n",
              "      \"vega-embed\": \"https://cdn.jsdelivr.net/npm/vega-embed@6?noext\",\n",
              "    };\n",
              "\n",
              "    function maybeLoadScript(lib, version) {\n",
              "      var key = `${lib.replace(\"-\", \"\")}_version`;\n",
              "      return (VEGA_DEBUG[key] == version) ?\n",
              "        Promise.resolve(paths[lib]) :\n",
              "        new Promise(function(resolve, reject) {\n",
              "          var s = document.createElement('script');\n",
              "          document.getElementsByTagName(\"head\")[0].appendChild(s);\n",
              "          s.async = true;\n",
              "          s.onload = () => {\n",
              "            VEGA_DEBUG[key] = version;\n",
              "            return resolve(paths[lib]);\n",
              "          };\n",
              "          s.onerror = () => reject(`Error loading script: ${paths[lib]}`);\n",
              "          s.src = paths[lib];\n",
              "        });\n",
              "    }\n",
              "\n",
              "    function showError(err) {\n",
              "      outputDiv.innerHTML = `<div class=\"error\" style=\"color:red;\">${err}</div>`;\n",
              "      throw err;\n",
              "    }\n",
              "\n",
              "    function displayChart(vegaEmbed) {\n",
              "      vegaEmbed(outputDiv, spec, embedOpt)\n",
              "        .catch(err => showError(`Javascript Error: ${err.message}<br>This usually means there's a typo in your chart specification. See the javascript console for the full traceback.`));\n",
              "    }\n",
              "\n",
              "    if(typeof define === \"function\" && define.amd) {\n",
              "      requirejs.config({paths});\n",
              "      require([\"vega-embed\"], displayChart, err => showError(`Error loading script: ${err.message}`));\n",
              "    } else {\n",
              "      maybeLoadScript(\"vega\", \"5\")\n",
              "        .then(() => maybeLoadScript(\"vega-lite\", \"5.14.1\"))\n",
              "        .then(() => maybeLoadScript(\"vega-embed\", \"6\"))\n",
              "        .catch(showError)\n",
              "        .then(() => displayChart(vegaEmbed));\n",
              "    }\n",
              "  })({\"config\": {\"view\": {\"continuousWidth\": 300, \"continuousHeight\": 300}}, \"layer\": [{\"data\": {\"name\": \"data-b4f631b666a0aa27fabe97fe6880203f\"}, \"mark\": {\"type\": \"circle\", \"opacity\": 0.5, \"size\": 60}, \"encoding\": {\"color\": {\"field\": \"label\", \"type\": \"nominal\"}, \"x\": {\"axis\": {\"labelFontSize\": 15, \"titleFontSize\": 15}, \"field\": \"PC1\", \"title\": \"PC1\", \"type\": \"quantitative\"}, \"y\": {\"axis\": {\"labelFontSize\": 15, \"titleFontSize\": 15}, \"field\": \"PC2\", \"title\": \"PC2\", \"type\": \"quantitative\"}}, \"name\": \"view_1\"}, {\"data\": {\"name\": \"data-de2b537dbf35213f607d4ec4bc42f8de\"}, \"mark\": {\"type\": \"line\"}, \"encoding\": {\"x\": {\"field\": \"PC1_start\", \"type\": \"quantitative\"}, \"x2\": {\"field\": \"PC1_end\"}, \"y\": {\"field\": \"PC2_start\", \"type\": \"quantitative\"}, \"y2\": {\"field\": \"PC2_end\"}}}, {\"data\": {\"name\": \"data-de2b537dbf35213f607d4ec4bc42f8de\"}, \"mark\": {\"type\": \"circle\", \"color\": \"red\"}, \"encoding\": {\"x\": {\"field\": \"PC1_end\", \"type\": \"quantitative\"}, \"y\": {\"field\": \"PC2_end\", \"type\": \"quantitative\"}}}, {\"data\": {\"name\": \"data-de2b537dbf35213f607d4ec4bc42f8de\"}, \"mark\": {\"type\": \"text\", \"align\": \"left\", \"dx\": 5, \"dy\": -5}, \"encoding\": {\"text\": {\"field\": \"feature\", \"type\": \"nominal\"}, \"x\": {\"field\": \"PC1_end\", \"type\": \"quantitative\"}, \"y\": {\"field\": \"PC2_end\", \"type\": \"quantitative\"}}}], \"height\": 500, \"params\": [{\"name\": \"param_1\", \"select\": {\"type\": \"interval\", \"encodings\": [\"x\", \"y\"]}, \"bind\": \"scales\", \"views\": [\"view_1\"]}], \"width\": 500, \"$schema\": \"https://vega.github.io/schema/vega-lite/v5.14.1.json\", \"datasets\": {\"data-b4f631b666a0aa27fabe97fe6880203f\": [{\"PC1\": 2.9297647870750643, \"PC2\": 0.09423675254879883, \"PC3\": -0.49401332371522766, \"PC4\": -0.07614060967393016, \"label\": \"dummy\"}, {\"PC1\": 2.4343938464458077, \"PC2\": -1.0719586358313886, \"PC3\": -0.5911889085405018, \"PC4\": -0.0481028218400322, \"label\": \"dummy\"}, {\"PC1\": -2.616289353661974, \"PC2\": 0.825414379547509, \"PC3\": 0.5936600377479695, \"PC4\": 0.1816272206967032, \"label\": \"dummy\"}, {\"PC1\": -2.060990519178234, \"PC2\": -1.0000702601360534, \"PC3\": 1.0317055445891268, \"PC4\": -0.1678527262758918, \"label\": \"dummy\"}, {\"PC1\": -1.6217267850633423, \"PC2\": -0.7695678452655592, \"PC3\": -0.13972366117002688, \"PC4\": 0.17877964129855448, \"label\": \"dummy\"}, {\"PC1\": 1.3931435545618813, \"PC2\": -0.18702844280251796, \"PC3\": 0.15873732493839707, \"PC4\": 0.051610418544868704, \"label\": \"dummy\"}, {\"PC1\": 0.3893956940612332, \"PC2\": -1.096570197199238, \"PC3\": -0.8020257750602956, \"PC4\": -0.061815468293768015, \"label\": \"dummy\"}, {\"PC1\": -1.9275097484005503, \"PC2\": 0.07872699844410536, \"PC3\": -0.9350789780503779, \"PC4\": -0.07388440558865715, \"label\": \"dummy\"}, {\"PC1\": -1.760826306712656, \"PC2\": -0.2007294229383556, \"PC3\": -1.6544507494796674, \"PC4\": -0.08061353437275078, \"label\": \"dummy\"}, {\"PC1\": -0.9882660485986351, \"PC2\": -1.7311294207504124, \"PC3\": -0.8598556380220153, \"PC4\": 0.18276179805742676, \"label\": \"dummy\"}, {\"PC1\": 1.078616634980533, \"PC2\": 0.24541506977395017, \"PC3\": 1.2241061687950057, \"PC4\": -0.08991677447357654, \"label\": \"dummy\"}, {\"PC1\": -1.3164750195235497, \"PC2\": -0.9974295114631823, \"PC3\": -0.7773204632127402, \"PC4\": -0.050211452112671646, \"label\": \"dummy\"}, {\"PC1\": 0.4646188999327597, \"PC2\": -0.1322745909471994, \"PC3\": 1.503702165902656, \"PC4\": 0.1718880467687383, \"label\": \"dummy\"}, {\"PC1\": 0.1266675168466048, \"PC2\": -0.759897848971334, \"PC3\": -0.8018841875460211, \"PC4\": -0.1091164738513631, \"label\": \"dummy\"}, {\"PC1\": 0.9896130128994386, \"PC2\": 0.05050613004797258, \"PC3\": 0.5033860543850707, \"PC4\": 0.0798679001126988, \"label\": \"dummy\"}, {\"PC1\": -0.2927594564465812, \"PC2\": 1.3868159309808163, \"PC3\": 1.0837961739852309, \"PC4\": -0.01075269910076965, \"label\": \"dummy\"}, {\"PC1\": 1.9927554986296045, \"PC2\": 1.362710004119915, \"PC3\": -0.7601475384198169, \"PC4\": 0.02708143623568426, \"label\": \"dummy\"}, {\"PC1\": -0.3023121388179584, \"PC2\": -1.4740360008532698, \"PC3\": -0.18159855811088363, \"PC4\": 0.03340738676959445, \"label\": \"dummy\"}, {\"PC1\": -1.4418315369084944, \"PC2\": 1.5229730699666995, \"PC3\": 0.5968886800630935, \"PC4\": 0.03098321223204819, \"label\": \"dummy\"}, {\"PC1\": 2.1455799117359953, \"PC2\": 0.25894642594900785, \"PC3\": -0.8262807480143328, \"PC4\": -0.10043014040695801, \"label\": \"dummy\"}, {\"PC1\": -1.7233146336032685, \"PC2\": 1.5015144221382184, \"PC3\": 1.0536044370765998, \"PC4\": -0.16089417847099163, \"label\": \"dummy\"}, {\"PC1\": -1.2654363738058096, \"PC2\": -1.1827833771514786, \"PC3\": 0.18446489191082216, \"PC4\": -0.16854309578359264, \"label\": \"dummy\"}, {\"PC1\": -1.6391008650361318, \"PC2\": 0.18148244026882468, \"PC3\": 0.6000405727080429, \"PC4\": 0.027609969612047956, \"label\": \"dummy\"}, {\"PC1\": -1.3933549534731058, \"PC2\": 0.3497965360962691, \"PC3\": 0.22626856757491345, \"PC4\": -0.030211741330000312, \"label\": \"dummy\"}, {\"PC1\": 0.9397633666368416, \"PC2\": 0.702055650965913, \"PC3\": -0.4630513562830006, \"PC4\": -0.11676932444580443, \"label\": \"dummy\"}, {\"PC1\": 2.0736360538510437, \"PC2\": 0.14870655142073713, \"PC3\": 1.2912521823876317, \"PC4\": -0.17344483298785215, \"label\": \"dummy\"}, {\"PC1\": -0.1486051634936347, \"PC2\": -0.8710213181310738, \"PC3\": 0.2984503817595694, \"PC4\": 0.09213855847942831, \"label\": \"dummy\"}, {\"PC1\": -1.1121609759969566, \"PC2\": -0.1643734930078366, \"PC3\": 0.10942766563251292, \"PC4\": -0.13570164794538336, \"label\": \"dummy\"}, {\"PC1\": 0.8132723125798788, \"PC2\": -1.0805106070819137, \"PC3\": 1.5609502369166133, \"PC4\": 0.14086226502573912, \"label\": \"dummy\"}, {\"PC1\": 2.3203690975277884, \"PC2\": -0.22232059830989007, \"PC3\": 0.6902473588103476, \"PC4\": -0.06779722848277861, \"label\": \"dummy\"}, {\"PC1\": -0.47929304306240317, \"PC2\": -1.0321681153358584, \"PC3\": 1.0034790072845567, \"PC4\": 0.06400266536301417, \"label\": \"dummy\"}, {\"PC1\": -0.515971758824217, \"PC2\": 1.126073695591664, \"PC3\": 0.11189173719018854, \"PC4\": 0.08189525683288161, \"label\": \"dummy\"}, {\"PC1\": 2.7091260136408803, \"PC2\": -0.20023278313672252, \"PC3\": -0.6634805642792458, \"PC4\": 0.04688404525370361, \"label\": \"dummy\"}, {\"PC1\": 2.1239615477946434, \"PC2\": 1.3619797964088032, \"PC3\": -0.7336963436020886, \"PC4\": 0.044553472898131045, \"label\": \"dummy\"}, {\"PC1\": -1.8061412312238838, \"PC2\": -0.7906401173143891, \"PC3\": -0.7579289782969816, \"PC4\": 0.03007775365735623, \"label\": \"dummy\"}, {\"PC1\": 1.8802185182911866, \"PC2\": -1.5994995736230333, \"PC3\": 0.8875463457182606, \"PC4\": -0.15438789814290263, \"label\": \"dummy\"}, {\"PC1\": -1.078861913455902, \"PC2\": 0.3383967081495378, \"PC3\": 1.196514858761917, \"PC4\": 0.06737941093888467, \"label\": \"dummy\"}, {\"PC1\": -0.5879674240426849, \"PC2\": 0.2221261942986511, \"PC3\": 1.0462690035467441, \"PC4\": -0.16547129313393746, \"label\": \"dummy\"}, {\"PC1\": -1.32098881375872, \"PC2\": -1.3151354715386177, \"PC3\": -0.3480822037194858, \"PC4\": 0.0708974073715846, \"label\": \"dummy\"}, {\"PC1\": -1.6300664314379274, \"PC2\": 1.021555735431106, \"PC3\": 1.1321892892835952, \"PC4\": -0.0531815455761764, \"label\": \"dummy\"}, {\"PC1\": -1.2297149354755044, \"PC2\": -0.38623759704608024, \"PC3\": 0.22888669810231646, \"PC4\": -0.11312155791954556, \"label\": \"dummy\"}, {\"PC1\": -2.0439207049706756, \"PC2\": -1.817841151192934, \"PC3\": 0.6668764481897403, \"PC4\": 0.19379837459657842, \"label\": \"dummy\"}, {\"PC1\": -0.43599039066829043, \"PC2\": 1.1345178443338462, \"PC3\": -0.1596521246403331, \"PC4\": -0.03526435083985154, \"label\": \"dummy\"}, {\"PC1\": -1.7236341466228657, \"PC2\": 1.5881558846219546, \"PC3\": -0.6634696172754916, \"PC4\": 0.006320548771902277, \"label\": \"dummy\"}, {\"PC1\": 3.084870798674005, \"PC2\": -1.2389983544009113, \"PC3\": -0.6216066159383926, \"PC4\": -0.14241820559036644, \"label\": \"dummy\"}, {\"PC1\": 1.9675320703692456, \"PC2\": 0.013079213327016375, \"PC3\": -0.3192859045875082, \"PC4\": 0.17522866580804278, \"label\": \"dummy\"}, {\"PC1\": 1.1098274400836907, \"PC2\": 1.616753827882891, \"PC3\": 0.5027343355881856, \"PC4\": 0.03215594736966727, \"label\": \"dummy\"}, {\"PC1\": 0.2921000228520619, \"PC2\": -0.04282351859542266, \"PC3\": 0.6616852183292601, \"PC4\": 0.012541117291993125, \"label\": \"dummy\"}, {\"PC1\": -1.239154959857971, \"PC2\": 1.333278939385831, \"PC3\": 0.4884516436360837, \"PC4\": 0.10667565724794972, \"label\": \"dummy\"}, {\"PC1\": 2.0839231911495872, \"PC2\": 0.32635960333892583, \"PC3\": -0.48263864002346, \"PC4\": 0.06530175176870937, \"label\": \"dummy\"}, {\"PC1\": -2.0597070885573814, \"PC2\": -0.8456937066850593, \"PC3\": -0.5695302011592557, \"PC4\": 0.03335174566641996, \"label\": \"dummy\"}, {\"PC1\": -1.595408318969141, \"PC2\": -1.458217709715393, \"PC3\": 0.4004130631576166, \"PC4\": -0.11505811733827065, \"label\": \"dummy\"}, {\"PC1\": -0.7539973147893574, \"PC2\": 0.4433337719941351, \"PC3\": -1.1754571374109108, \"PC4\": -0.09295591612704959, \"label\": \"dummy\"}, {\"PC1\": 1.5868151464689226, \"PC2\": 0.01770859936718968, \"PC3\": -0.5431500618303834, \"PC4\": 0.05392780568790908, \"label\": \"dummy\"}, {\"PC1\": -0.3840632007377073, \"PC2\": 1.5070737538770103, \"PC3\": -0.6965816073312124, \"PC4\": -0.10038563056017798, \"label\": \"dummy\"}, {\"PC1\": -1.1751292777670215, \"PC2\": -0.12694262505588338, \"PC3\": -0.532928193058785, \"PC4\": -0.007623245093016185, \"label\": \"dummy\"}, {\"PC1\": 0.5103893422946039, \"PC2\": 1.5604822837718166, \"PC3\": 1.646966114742513, \"PC4\": -0.13663646204836716, \"label\": \"dummy\"}, {\"PC1\": -1.49023843930797, \"PC2\": 0.9181268912205803, \"PC3\": -1.2504285059819484, \"PC4\": 0.10075327973228182, \"label\": \"dummy\"}, {\"PC1\": -2.081590583290575, \"PC2\": -1.31530228215374, \"PC3\": -0.6847430315016171, \"PC4\": 0.04408276037960667, \"label\": \"dummy\"}, {\"PC1\": -0.7065173630384721, \"PC2\": -1.379471625339438, \"PC3\": 0.35518561457706466, \"PC4\": 0.029420389131493824, \"label\": \"dummy\"}, {\"PC1\": 0.12252170577251476, \"PC2\": -1.0900341661971884, \"PC3\": 1.003625198976524, \"PC4\": -0.0914684561303992, \"label\": \"dummy\"}, {\"PC1\": 0.8066972397859469, \"PC2\": 1.237769645186024, \"PC3\": -0.5989247790317711, \"PC4\": -0.0025309008099710377, \"label\": \"dummy\"}, {\"PC1\": -0.9400412053005248, \"PC2\": -0.36254208694666135, \"PC3\": -1.0819025427673297, \"PC4\": -0.0959654583715694, \"label\": \"dummy\"}, {\"PC1\": 0.33410746531764124, \"PC2\": -1.2436614038678193, \"PC3\": 1.0160149477094291, \"PC4\": 0.02089797776834642, \"label\": \"dummy\"}, {\"PC1\": 0.8334746717885695, \"PC2\": 1.2543738559106423, \"PC3\": 0.1500064245069557, \"PC4\": 0.04214183556247693, \"label\": \"dummy\"}, {\"PC1\": 1.255107286528646, \"PC2\": -0.5224342413934725, \"PC3\": -0.24041529195230138, \"PC4\": 0.05559238467907898, \"label\": \"dummy\"}, {\"PC1\": 1.4465323969353292, \"PC2\": 0.6699741574548062, \"PC3\": 1.7171510958627014, \"PC4\": -0.022071616877402233, \"label\": \"dummy\"}, {\"PC1\": 0.35123386260204664, \"PC2\": -1.1229599594161515, \"PC3\": -0.7509705716072148, \"PC4\": -0.024350981103578664, \"label\": \"dummy\"}, {\"PC1\": -0.7698543652960256, \"PC2\": -0.9582888917540707, \"PC3\": -0.8457725556026469, \"PC4\": -0.05186012657145993, \"label\": \"dummy\"}, {\"PC1\": 1.3298556684497187, \"PC2\": 1.4765988750361267, \"PC3\": 0.38923272860400066, \"PC4\": 0.12940477947653248, \"label\": \"dummy\"}, {\"PC1\": 1.4824724189621545, \"PC2\": 0.2811831894061239, \"PC3\": 1.6234947674133802, \"PC4\": -0.12093723299921594, \"label\": \"dummy\"}, {\"PC1\": -1.545379720759273, \"PC2\": -0.8150332854693078, \"PC3\": -1.5793869993743601, \"PC4\": 0.08058967575456809, \"label\": \"dummy\"}, {\"PC1\": 0.8310953072677819, \"PC2\": 0.9607191820076301, \"PC3\": 0.23519688669970887, \"PC4\": 0.04105795020111, \"label\": \"dummy\"}, {\"PC1\": -2.7088912691897002, \"PC2\": -1.1815960232171172, \"PC3\": 0.31986752820849595, \"PC4\": -0.05374713878553845, \"label\": \"dummy\"}, {\"PC1\": -1.7772733668187342, \"PC2\": 0.23128349209985155, \"PC3\": -0.45677708118877436, \"PC4\": 0.0578451863945882, \"label\": \"dummy\"}, {\"PC1\": 0.747790273610164, \"PC2\": -0.6759138366321702, \"PC3\": -0.6535990745037012, \"PC4\": 0.07421447707229326, \"label\": \"dummy\"}, {\"PC1\": 2.484181993219677, \"PC2\": 1.4211425275020009, \"PC3\": -0.21843152119651824, \"PC4\": 0.03787544467598282, \"label\": \"dummy\"}, {\"PC1\": -1.035917409130867, \"PC2\": 0.9764152084249589, \"PC3\": -1.4482472136132853, \"PC4\": 0.053511076655931786, \"label\": \"dummy\"}, {\"PC1\": -0.7036199294219003, \"PC2\": -0.4733585971857482, \"PC3\": 0.8201400196094265, \"PC4\": -0.006540031984826171, \"label\": \"dummy\"}, {\"PC1\": 1.083356645046233, \"PC2\": 1.8212626349191827, \"PC3\": -1.016957041309955, \"PC4\": 0.004228854231978519, \"label\": \"dummy\"}, {\"PC1\": 0.9110565862841604, \"PC2\": -0.36153131574454833, \"PC3\": 1.2321145070772908, \"PC4\": -0.0071635268831512205, \"label\": \"dummy\"}, {\"PC1\": 1.3719922971339016, \"PC2\": 0.027530364252024847, \"PC3\": 0.8653124255728958, \"PC4\": 0.09857342788139993, \"label\": \"dummy\"}, {\"PC1\": -0.6161299327055418, \"PC2\": -0.4724499719636748, \"PC3\": 1.1129823852458334, \"PC4\": -0.046405006093360165, \"label\": \"dummy\"}, {\"PC1\": 2.2618317187309858, \"PC2\": 1.771813581381171, \"PC3\": -0.045014747936322624, \"PC4\": 0.15038357722785844, \"label\": \"dummy\"}, {\"PC1\": 0.29502625190490345, \"PC2\": -0.0031584404834453586, \"PC3\": 0.7677349098755886, \"PC4\": 0.162748059887609, \"label\": \"dummy\"}, {\"PC1\": 0.9633083067074134, \"PC2\": -0.26016766007170294, \"PC3\": 0.7811249313280805, \"PC4\": 0.13854787874211857, \"label\": \"dummy\"}, {\"PC1\": -0.5163012856487548, \"PC2\": 1.6394961394795045, \"PC3\": -1.1380376022419936, \"PC4\": -0.0021501094699179083, \"label\": \"dummy\"}, {\"PC1\": -1.757664940525429, \"PC2\": -1.1607295781397893, \"PC3\": 0.4916078200494025, \"PC4\": 0.1259146324165446, \"label\": \"dummy\"}, {\"PC1\": 1.2462861501314761, \"PC2\": 0.6380257582655839, \"PC3\": -0.8578456721746319, \"PC4\": 0.06140983275047392, \"label\": \"dummy\"}, {\"PC1\": 1.3297557040980965, \"PC2\": 0.23077023671753075, \"PC3\": 1.8043857154239527, \"PC4\": 0.0464622953645663, \"label\": \"dummy\"}, {\"PC1\": -0.4055537904769545, \"PC2\": 1.0866508506371615, \"PC3\": -1.2402065051619608, \"PC4\": -0.09298032347977374, \"label\": \"dummy\"}, {\"PC1\": 2.5586266686013923, \"PC2\": 0.05956694081668024, \"PC3\": -0.13043568863109867, \"PC4\": -0.16189558560637798, \"label\": \"dummy\"}, {\"PC1\": 0.8005325981642667, \"PC2\": -0.17795050155889114, \"PC3\": 0.27357395548634994, \"PC4\": 0.16929868938739537, \"label\": \"dummy\"}, {\"PC1\": 3.001837439607021, \"PC2\": -1.4276301623722942, \"PC3\": -0.3478138136770621, \"PC4\": -0.1496782881985045, \"label\": \"dummy\"}, {\"PC1\": 2.9171075246230322, \"PC2\": 1.6346149489654775, \"PC3\": -0.46307828031854875, \"PC4\": -0.12394969125446978, \"label\": \"dummy\"}, {\"PC1\": -1.6537773565943916, \"PC2\": 1.1419537217647469, \"PC3\": -0.7472101785851328, \"PC4\": 0.14060748351243246, \"label\": \"dummy\"}, {\"PC1\": -2.131574498056166, \"PC2\": 0.6581172993273503, \"PC3\": 0.45621423574063735, \"PC4\": -0.10726302723752354, \"label\": \"dummy\"}, {\"PC1\": -1.4797032192079582, \"PC2\": 1.2279785573618975, \"PC3\": -1.4525302813542802, \"PC4\": -0.07579543093143551, \"label\": \"dummy\"}, {\"PC1\": -1.3327990289173868, \"PC2\": -0.9689977576075398, \"PC3\": -0.8334679953321149, \"PC4\": 0.044552251820549546, \"label\": \"dummy\"}, {\"PC1\": -1.2655299621079312, \"PC2\": -1.566486142889757, \"PC3\": 0.9708994204114055, \"PC4\": -0.12030009448899029, \"label\": \"dummy\"}, {\"PC1\": 1.9952585712196762, \"PC2\": -1.0352281578123153, \"PC3\": -0.8604531974351519, \"PC4\": 0.12382723830980073, \"label\": \"dummy\"}, {\"PC1\": -2.066940575854968, \"PC2\": -0.7955675730999194, \"PC3\": -0.778574681190725, \"PC4\": -0.14880241154758492, \"label\": \"dummy\"}, {\"PC1\": -0.30519444058219625, \"PC2\": -1.409247727146889, \"PC3\": 0.024068256229657258, \"PC4\": 0.09912949615130483, \"label\": \"dummy\"}, {\"PC1\": 1.1626923859310911, \"PC2\": 0.40838839474807553, \"PC3\": -0.7447414886091244, \"PC4\": 0.1571326107775596, \"label\": \"dummy\"}, {\"PC1\": -0.5485055004839884, \"PC2\": 1.6259749539126285, \"PC3\": -0.15835859615772901, \"PC4\": -0.12491909437677423, \"label\": \"dummy\"}, {\"PC1\": -2.590210873699998, \"PC2\": 1.176614473761786, \"PC3\": 0.6272953502000449, \"PC4\": -0.0978318363799362, \"label\": \"dummy\"}, {\"PC1\": -2.0696539456634615, \"PC2\": 0.8955912843271728, \"PC3\": 0.9133262618909074, \"PC4\": 0.14769749552328598, \"label\": \"dummy\"}, {\"PC1\": 0.04506118479275383, \"PC2\": -1.011687221944643, \"PC3\": -0.5757494361755312, \"PC4\": 0.02230021668943931, \"label\": \"dummy\"}, {\"PC1\": -2.4123162900643345, \"PC2\": 0.17881271074756608, \"PC3\": 0.995938474893991, \"PC4\": 0.090212469953988, \"label\": \"dummy\"}, {\"PC1\": 0.4862391921039775, \"PC2\": -1.487599999966998, \"PC3\": -0.3348849415885721, \"PC4\": 0.009673726129237621, \"label\": \"dummy\"}, {\"PC1\": -0.32610335900237714, \"PC2\": -1.1019191260371284, \"PC3\": -1.1345362116517885, \"PC4\": -0.0660874002490914, \"label\": \"dummy\"}, {\"PC1\": 1.7799348668801638, \"PC2\": -1.4963249663796472, \"PC3\": -0.6349578355333972, \"PC4\": -0.057687717326067256, \"label\": \"dummy\"}, {\"PC1\": -2.5434176495464085, \"PC2\": 0.6518469406942198, \"PC3\": -0.062362693383828036, \"PC4\": -0.13844630388679066, \"label\": \"dummy\"}, {\"PC1\": -0.7270634606954223, \"PC2\": 1.374463728672486, \"PC3\": 0.5309078934502095, \"PC4\": 0.00013714715694062663, \"label\": \"dummy\"}, {\"PC1\": 1.0825577095652024, \"PC2\": -0.7692656136971713, \"PC3\": -0.25157211135317004, \"PC4\": -0.12033871702998165, \"label\": \"dummy\"}, {\"PC1\": 1.8667400734816737, \"PC2\": -1.0031942696711185, \"PC3\": -0.11956852136021216, \"PC4\": 0.17282386309829445, \"label\": \"dummy\"}, {\"PC1\": 0.7619940228211723, \"PC2\": -0.5995749276021526, \"PC3\": -0.0637294241809878, \"PC4\": -0.16011813656914695, \"label\": \"dummy\"}, {\"PC1\": -1.615754803574761, \"PC2\": 0.91263745083053, \"PC3\": 0.9365796687335051, \"PC4\": -0.032708236077375684, \"label\": \"dummy\"}, {\"PC1\": -0.39376870857485663, \"PC2\": 1.4897199751811752, \"PC3\": -0.24819010820347598, \"PC4\": 0.0004091504658180707, \"label\": \"dummy\"}, {\"PC1\": 1.1720138436879195, \"PC2\": -0.995899074170172, \"PC3\": -1.119474936424297, \"PC4\": -0.006531757346959758, \"label\": \"dummy\"}, {\"PC1\": 0.18545337923260546, \"PC2\": 0.8156394728877924, \"PC3\": -0.8363543722866967, \"PC4\": -0.060648623713038745, \"label\": \"dummy\"}, {\"PC1\": 2.2912963726781888, \"PC2\": -1.2406890961436026, \"PC3\": 0.18943282147484583, \"PC4\": -0.052741518753857915, \"label\": \"dummy\"}, {\"PC1\": 1.0926811535384646, \"PC2\": -1.4492113476965363, \"PC3\": 0.03161860386510476, \"PC4\": -0.11265856488849849, \"label\": \"dummy\"}, {\"PC1\": 0.7941624282979275, \"PC2\": -0.06930050701426856, \"PC3\": 1.556433536302559, \"PC4\": 0.012522983215386462, \"label\": \"dummy\"}, {\"PC1\": -0.7910922314571198, \"PC2\": 1.342965796836651, \"PC3\": 1.1045761511616274, \"PC4\": -0.00021555162507371943, \"label\": \"dummy\"}, {\"PC1\": 1.1572344200907674, \"PC2\": -1.2364744152856366, \"PC3\": 0.730308206206479, \"PC4\": -0.11161018623509579, \"label\": \"dummy\"}, {\"PC1\": 0.030038078219704827, \"PC2\": 0.7007690584628969, \"PC3\": -0.7174597417927054, \"PC4\": 0.03881882050927242, \"label\": \"dummy\"}, {\"PC1\": -0.6597179897331006, \"PC2\": 0.9263069788347849, \"PC3\": -0.9956197968875755, \"PC4\": -0.05442361385403025, \"label\": \"dummy\"}, {\"PC1\": -1.2616616509848517, \"PC2\": 1.6792313571894082, \"PC3\": -1.3644746475831717, \"PC4\": -0.01739270110386459, \"label\": \"dummy\"}, {\"PC1\": -0.9207825683365296, \"PC2\": -0.5402438907293228, \"PC3\": -0.941191064149583, \"PC4\": -0.11408882203257206, \"label\": \"dummy\"}, {\"PC1\": -2.4504973773860823, \"PC2\": -0.2038101036837992, \"PC3\": 0.6238870418787142, \"PC4\": 0.05484181752929324, \"label\": \"dummy\"}, {\"PC1\": 1.2169773254504208, \"PC2\": 0.6193453785397073, \"PC3\": -0.6798108358893, \"PC4\": -0.021853996717409147, \"label\": \"dummy\"}, {\"PC1\": 0.2693969807125032, \"PC2\": 0.350009671673268, \"PC3\": -0.9054794467566211, \"PC4\": 0.029526982760336, \"label\": \"dummy\"}, {\"PC1\": -0.2868987976535256, \"PC2\": 0.04096774694389485, \"PC3\": 0.9949131158883393, \"PC4\": -0.126351523051072, \"label\": \"dummy\"}, {\"PC1\": -1.5713160780741178, \"PC2\": 1.4114242546630145, \"PC3\": 0.08600775671239616, \"PC4\": -0.1431277161629593, \"label\": \"dummy\"}, {\"PC1\": 1.7461959010323644, \"PC2\": -0.6270513809947791, \"PC3\": -0.14145002134071538, \"PC4\": 0.0971597395730888, \"label\": \"dummy\"}, {\"PC1\": -2.483242428363526, \"PC2\": -0.873591048720781, \"PC3\": -0.6815706572557296, \"PC4\": 0.07401119161516355, \"label\": \"dummy\"}, {\"PC1\": 0.5590716261017502, \"PC2\": 0.543060825555266, \"PC3\": -0.32585274101341744, \"PC4\": 0.02734700747503101, \"label\": \"dummy\"}, {\"PC1\": 2.046219060219088, \"PC2\": 0.20730094449901934, \"PC3\": -0.5369894280102882, \"PC4\": 0.07025775811791807, \"label\": \"dummy\"}, {\"PC1\": 1.4881007080889956, \"PC2\": -0.10736482055492434, \"PC3\": 1.7289076985930572, \"PC4\": 0.11698794790195147, \"label\": \"dummy\"}, {\"PC1\": -2.1303219854721394, \"PC2\": -1.3435500302616796, \"PC3\": -1.3204959799006828, \"PC4\": 0.1009931613201492, \"label\": \"dummy\"}, {\"PC1\": 2.2697433985906725, \"PC2\": 0.5329027410612298, \"PC3\": -0.3126080938343703, \"PC4\": 0.1750193040591757, \"label\": \"dummy\"}, {\"PC1\": 0.78523572343824, \"PC2\": 0.8292206481591962, \"PC3\": -0.568227147567357, \"PC4\": 0.18194442451079687, \"label\": \"dummy\"}, {\"PC1\": -0.3833791600150301, \"PC2\": -1.1198772067690728, \"PC3\": 0.8861942764573066, \"PC4\": 0.14750642221459942, \"label\": \"dummy\"}, {\"PC1\": 2.5164622927260853, \"PC2\": 0.4874068604362228, \"PC3\": -0.592683065239812, \"PC4\": -0.10206720274466735, \"label\": \"dummy\"}, {\"PC1\": 0.7612574513112583, \"PC2\": -0.900644841357309, \"PC3\": -0.07000691465284517, \"PC4\": 0.06561367158994334, \"label\": \"dummy\"}, {\"PC1\": 0.48687038648376946, \"PC2\": -0.4661439038677803, \"PC3\": 1.6009629565392756, \"PC4\": -0.07300405554066092, \"label\": \"dummy\"}, {\"PC1\": -1.8080346545126358, \"PC2\": 0.8508028555685113, \"PC3\": 0.8468738334445934, \"PC4\": 0.02951191053383256, \"label\": \"dummy\"}, {\"PC1\": -1.6159563395360987, \"PC2\": 0.6746949641143102, \"PC3\": 0.6431761442408933, \"PC4\": -0.026121831561677866, \"label\": \"dummy\"}, {\"PC1\": 0.29612837065180847, \"PC2\": -1.1923522649938025, \"PC3\": -0.40813258402533514, \"PC4\": -0.0735963143890023, \"label\": \"dummy\"}], \"data-de2b537dbf35213f607d4ec4bc42f8de\": [{\"feature\": \"x1\", \"PC1_start\": 0.0, \"PC2_start\": 0.0, \"PC3_start\": 0.0, \"PC4_start\": 0.0, \"PC1_end\": 0.6359609887010635, \"PC2_end\": 0.030262762621141574, \"PC3_end\": 0.3105975142889831, \"PC4_end\": 0.7058094432397508}, {\"feature\": \"x2\", \"PC1_start\": 0.0, \"PC2_start\": 0.0, \"PC3_start\": 0.0, \"PC4_start\": 0.0, \"PC1_end\": 0.6372662803095416, \"PC2_end\": 0.02024428071645183, \"PC3_end\": 0.30286391189518813, \"PC4_end\": -0.7083468839137068}, {\"feature\": \"x3\", \"PC1_start\": 0.0, \"PC2_start\": 0.0, \"PC3_start\": 0.0, \"PC4_start\": 0.0, \"PC1_end\": 0.4316303127596998, \"PC2_end\": 0.05507419380462047, \"PC3_end\": -0.9003542533997323, \"PC4_end\": 0.004932004536272028}, {\"feature\": \"x4\", \"PC1_start\": 0.0, \"PC2_start\": 0.0, \"PC3_start\": 0.0, \"PC4_start\": 0.0, \"PC1_end\": -0.056040895226347955, \"PC2_end\": 0.9978182036190669, \"PC3_end\": 0.03412994834539956, \"PC4_end\": -0.007307339775103168}]}}, {\"mode\": \"vega-lite\"});\n",
              "</script>"
            ],
            "text/plain": [
              "alt.LayerChart(...)"
            ]
          },
          "execution_count": 16,
          "metadata": {},
          "output_type": "execute_result"
        }
      ],
      "source": [
        "# Scatter plot for the PCA components\n",
        "alt_pc = alt.Chart(df_pc).mark_circle(size=60, opacity = 0.5).encode(\n",
        "    x     = alt.X('PC1', title = 'PC1', axis=alt.Axis(labelFontSize=15, titleFontSize=15)),\n",
        "    y     = alt.Y('PC2', title = 'PC2', axis=alt.Axis(labelFontSize=15, titleFontSize=15)),\n",
        "    color = (\n",
        "        \n",
        "        alt.Color(\n",
        "            'label',\n",
        "            scale = alt.Scale(\n",
        "                domain = list(dc_color.keys()),\n",
        "                range  = list(dc_color.values())\n",
        "            )\n",
        "        )\n",
        "    ) if c_dataset == \"dummy_ii\" else \"label\"\n",
        "\n",
        ").properties(\n",
        "    width  = 500,\n",
        "    height = 500\n",
        ").interactive()\n",
        "\n",
        "# Line segments from (0,0) to the specific coordinates (PC1_end, PC2_end)\n",
        "alt_loading_line_segment = alt.Chart(df_loadings).mark_line().encode(\n",
        "    x  = 'PC1_start',\n",
        "    y  = 'PC2_start',\n",
        "    x2 = 'PC1_end',  \n",
        "    y2 = 'PC2_end'\n",
        ")\n",
        "\n",
        "# Red marker at the end of the line segment.\n",
        "alt_loading_point = alt.Chart(df_loadings).mark_circle(color='red').encode(\n",
        "    x='PC1_end',\n",
        "    y='PC2_end'\n",
        ")\n",
        "\n",
        "# Add feature name at the end of the line segment.\n",
        "alt_loading_text = alt.Chart(df_loadings).mark_text(align='left', dx=5, dy=-5).encode(\n",
        "    x    = 'PC1_end',\n",
        "    y    = 'PC2_end',\n",
        "    text = 'feature'\n",
        ")\n",
        "\n",
        "# Combine the plots\n",
        "alt_pc + alt_loading_line_segment + alt_loading_point + alt_loading_text"
      ]
    },
    {
      "cell_type": "markdown",
      "id": "3b37b2f3-4ae9-430f-a98f-29f9f9488dc9",
      "metadata": {},
      "source": [
        "#### Explained variance / Scree Plot\n",
        "\n",
        "The additional variance that is explained by each subsequent principal component is captured by the `explained_variance_` attribute."
      ]
    },
    {
      "cell_type": "code",
      "execution_count": 17,
      "id": "578a9c35-93c0-4540-8545-fbfb6c5910ce",
      "metadata": {},
      "outputs": [
        {
          "data": {
            "text/plain": [
              "array([2.30589977, 1.00301609, 0.70816935, 0.00976043])"
            ]
          },
          "execution_count": 17,
          "metadata": {},
          "output_type": "execute_result"
        }
      ],
      "source": [
        "pca_.explained_variance_"
      ]
    },
    {
      "cell_type": "markdown",
      "id": "3dd6aecc-e2c7-4192-b50a-2dce4d9e8aff",
      "metadata": {},
      "source": [
        "The fraction (ratio) of the additionally explained variance is captured\n",
        "by the `explained_variance_ratio_` attribute."
      ]
    },
    {
      "cell_type": "code",
      "execution_count": 18,
      "id": "b26487fc-eb1c-452d-8a7b-3f8902263b21",
      "metadata": {},
      "outputs": [
        {
          "data": {
            "text/plain": [
              "array([0.57263178, 0.24908233, 0.17586205, 0.00242384])"
            ]
          },
          "execution_count": 18,
          "metadata": {},
          "output_type": "execute_result"
        }
      ],
      "source": [
        "pca_.explained_variance_ratio_"
      ]
    },
    {
      "cell_type": "markdown",
      "id": "d882b6e2-d026-4f22-9350-98d899e55705",
      "metadata": {},
      "source": [
        "To clarify how the ratio is constructed, we calculate fraction for PC1\n",
        "‘by hand’, and observe that it matches the first values in\n",
        "`pca_.explained_variance_ratio_`"
      ]
    },
    {
      "cell_type": "code",
      "execution_count": 19,
      "id": "546614ac-f56f-4b73-9d2d-4090a5e7509e",
      "metadata": {},
      "outputs": [
        {
          "data": {
            "text/plain": [
              "0.5726317762776806"
            ]
          },
          "execution_count": 19,
          "metadata": {},
          "output_type": "execute_result"
        }
      ],
      "source": [
        "pca_.explained_variance_[0] / sum(pca_.explained_variance_)"
      ]
    },
    {
      "cell_type": "markdown",
      "id": "350abf52-9f8b-489b-b2e1-46b1584d7589",
      "metadata": {},
      "source": [
        "The accumulated fraction is calculated using `np.cumsum`."
      ]
    },
    {
      "cell_type": "code",
      "execution_count": 20,
      "id": "d77c1e82-51c3-4d1e-a24d-2a3ac36481d1",
      "metadata": {},
      "outputs": [
        {
          "data": {
            "text/plain": [
              "array([0.57263178, 0.8217141 , 0.99757616, 1.        ])"
            ]
          },
          "execution_count": 20,
          "metadata": {},
          "output_type": "execute_result"
        }
      ],
      "source": [
        "np.cumsum(pca_.explained_variance_ratio_)"
      ]
    },
    {
      "cell_type": "markdown",
      "id": "42ad2e07-f480-4962-9659-405611957fde",
      "metadata": {},
      "source": [
        "The explained variance is plotted in a Scree plot. It displays how much\n",
        "variation each principal component is able to capture from the data."
      ]
    },
    {
      "cell_type": "code",
      "execution_count": 21,
      "id": "ff1f55d5",
      "metadata": {},
      "outputs": [
        {
          "data": {
            "text/html": [
              "\n",
              "<style>\n",
              "  #altair-viz-a41c1eec1cd84d2d9de7059cddaf0687.vega-embed {\n",
              "    width: 100%;\n",
              "    display: flex;\n",
              "  }\n",
              "\n",
              "  #altair-viz-a41c1eec1cd84d2d9de7059cddaf0687.vega-embed details,\n",
              "  #altair-viz-a41c1eec1cd84d2d9de7059cddaf0687.vega-embed details summary {\n",
              "    position: relative;\n",
              "  }\n",
              "</style>\n",
              "<div id=\"altair-viz-a41c1eec1cd84d2d9de7059cddaf0687\"></div>\n",
              "<script type=\"text/javascript\">\n",
              "  var VEGA_DEBUG = (typeof VEGA_DEBUG == \"undefined\") ? {} : VEGA_DEBUG;\n",
              "  (function(spec, embedOpt){\n",
              "    let outputDiv = document.currentScript.previousElementSibling;\n",
              "    if (outputDiv.id !== \"altair-viz-a41c1eec1cd84d2d9de7059cddaf0687\") {\n",
              "      outputDiv = document.getElementById(\"altair-viz-a41c1eec1cd84d2d9de7059cddaf0687\");\n",
              "    }\n",
              "    const paths = {\n",
              "      \"vega\": \"https://cdn.jsdelivr.net/npm/vega@5?noext\",\n",
              "      \"vega-lib\": \"https://cdn.jsdelivr.net/npm/vega-lib?noext\",\n",
              "      \"vega-lite\": \"https://cdn.jsdelivr.net/npm/vega-lite@5.14.1?noext\",\n",
              "      \"vega-embed\": \"https://cdn.jsdelivr.net/npm/vega-embed@6?noext\",\n",
              "    };\n",
              "\n",
              "    function maybeLoadScript(lib, version) {\n",
              "      var key = `${lib.replace(\"-\", \"\")}_version`;\n",
              "      return (VEGA_DEBUG[key] == version) ?\n",
              "        Promise.resolve(paths[lib]) :\n",
              "        new Promise(function(resolve, reject) {\n",
              "          var s = document.createElement('script');\n",
              "          document.getElementsByTagName(\"head\")[0].appendChild(s);\n",
              "          s.async = true;\n",
              "          s.onload = () => {\n",
              "            VEGA_DEBUG[key] = version;\n",
              "            return resolve(paths[lib]);\n",
              "          };\n",
              "          s.onerror = () => reject(`Error loading script: ${paths[lib]}`);\n",
              "          s.src = paths[lib];\n",
              "        });\n",
              "    }\n",
              "\n",
              "    function showError(err) {\n",
              "      outputDiv.innerHTML = `<div class=\"error\" style=\"color:red;\">${err}</div>`;\n",
              "      throw err;\n",
              "    }\n",
              "\n",
              "    function displayChart(vegaEmbed) {\n",
              "      vegaEmbed(outputDiv, spec, embedOpt)\n",
              "        .catch(err => showError(`Javascript Error: ${err.message}<br>This usually means there's a typo in your chart specification. See the javascript console for the full traceback.`));\n",
              "    }\n",
              "\n",
              "    if(typeof define === \"function\" && define.amd) {\n",
              "      requirejs.config({paths});\n",
              "      require([\"vega-embed\"], displayChart, err => showError(`Error loading script: ${err.message}`));\n",
              "    } else {\n",
              "      maybeLoadScript(\"vega\", \"5\")\n",
              "        .then(() => maybeLoadScript(\"vega-lite\", \"5.14.1\"))\n",
              "        .then(() => maybeLoadScript(\"vega-embed\", \"6\"))\n",
              "        .catch(showError)\n",
              "        .then(() => displayChart(vegaEmbed));\n",
              "    }\n",
              "  })({\"config\": {\"view\": {\"continuousWidth\": 300, \"continuousHeight\": 300}}, \"hconcat\": [{\"data\": {\"name\": \"data-34f2454f9b0585780374a99433062da6\"}, \"mark\": {\"type\": \"bar\"}, \"encoding\": {\"x\": {\"axis\": {\"labelFontSize\": 15, \"titleFontSize\": 15, \"values\": [1, 2, 3, 4]}, \"field\": \"PC\", \"title\": \"Principal Component\", \"type\": \"quantitative\"}, \"y\": {\"axis\": {\"labelFontSize\": 15, \"titleFontSize\": 15}, \"field\": \"EV\", \"title\": \"Explained Variance (absolute)\", \"type\": \"quantitative\"}}, \"height\": 400, \"title\": {\"text\": \"Scree Plot\", \"fontSize\": 18, \"font\": \"Arial\", \"anchor\": \"middle\", \"color\": \"darkblue\"}, \"width\": 600}, {\"data\": {\"name\": \"data-5855dda2c3b7f86f681b834ad024c02e\"}, \"mark\": {\"type\": \"line\"}, \"encoding\": {\"x\": {\"axis\": {\"labelFontSize\": 15, \"titleFontSize\": 15, \"values\": [1, 2, 3, 4]}, \"field\": \"PC\", \"title\": \"Principal Component\", \"type\": \"quantitative\"}, \"y\": {\"axis\": {\"labelFontSize\": 15, \"titleFontSize\": 15}, \"field\": \"EVR\", \"title\": \"Explained Variance (cumulated ratio)\", \"type\": \"quantitative\"}}, \"height\": 400, \"width\": 600}], \"$schema\": \"https://vega.github.io/schema/vega-lite/v5.14.1.json\", \"datasets\": {\"data-34f2454f9b0585780374a99433062da6\": [{\"PC\": 1, \"EV\": 2.3058997702456927}, {\"PC\": 2, \"EV\": 1.0030160867353857}, {\"PC\": 3, \"EV\": 0.7081693488024046}, {\"PC\": 4, \"EV\": 0.009760431800409001}], \"data-5855dda2c3b7f86f681b834ad024c02e\": [{\"PC\": 1, \"EVR\": 0.5726317762776806}, {\"PC\": 2, \"EVR\": 0.8217141044836348}, {\"PC\": 3, \"EVR\": 0.997576159436232}, {\"PC\": 4, \"EVR\": 1.0000000000000002}]}}, {\"mode\": \"vega-lite\"});\n",
              "</script>"
            ],
            "text/plain": [
              "alt.HConcatChart(...)"
            ]
          },
          "execution_count": 21,
          "metadata": {},
          "output_type": "execute_result"
        }
      ],
      "source": [
        "# Create helper data frames.\n",
        "df_helper1 = pd.DataFrame({'PC': range(1, n_components+1), 'EV':  pca_.explained_variance_})\n",
        "df_helper2 = pd.DataFrame({'PC': range(1, n_components+1), 'EVR': np.cumsum(pca_.explained_variance_ratio_)})\n",
        "\n",
        "# Helper object to show only whole numbers along the axis.\n",
        "l_axis     = list(range(1, n_components + 1))\n",
        "\n",
        "# Create plot.\n",
        "alt1 = alt.Chart(df_helper1).mark_bar().encode(\n",
        "    x = alt.X(\n",
        "        'PC', \n",
        "        title = 'Principal Component',\n",
        "        axis  = alt.Axis(labelFontSize=15, titleFontSize=15, values=l_axis)\n",
        "    ),\n",
        "    y = alt.Y(\n",
        "        'EV',\n",
        "        title = 'Explained Variance (absolute)',\n",
        "        axis  = alt.Axis(labelFontSize=15, titleFontSize=15)\n",
        "    )\n",
        ").properties(\n",
        "    width  = 600,\n",
        "    height = 400,\n",
        "    title  = {\n",
        "        \"text\":     \"Scree Plot\",  # Main title text\n",
        "        \"fontSize\": 18,            # Title font size\n",
        "        \"font\":     \"Arial\",       # Font family\n",
        "        \"anchor\":   \"middle\",      # Aligns the title (\"start\", \"middle\", \"end\")\n",
        "        \"color\":    \"darkblue\"     # Title color\n",
        "    }\n",
        ")\n",
        "\n",
        "alt2 = alt.Chart(df_helper2).mark_line().encode(\n",
        "    x = alt.X(\n",
        "        'PC',\n",
        "        title = 'Principal Component',\n",
        "        axis  = alt.Axis(labelFontSize=15, titleFontSize=15, values=l_axis)\n",
        "    ),\n",
        "    y = alt.Y(\n",
        "        'EVR',\n",
        "        title = 'Explained Variance (cumulated ratio)',\n",
        "        axis  = alt.Axis(labelFontSize=15, titleFontSize=15)\n",
        "    )\n",
        ").properties(\n",
        "    width  = 600,\n",
        "    height = 400\n",
        ")\n",
        "\n",
        "alt1 | alt2"
      ]
    },
    {
      "cell_type": "markdown",
      "id": "9e0d8296-291e-46d9-a52c-13c1fb6102d4",
      "metadata": {},
      "source": [
        "#### Correlation between features and principal components\n",
        "\n",
        "By design the principal components are constructed such that all\n",
        "components are orthogonal (perpendicular) to each other. We check this\n",
        "by calculating the correlations between each pair. To warm up, we do\n",
        "this for the original data first. As typically is the case, some\n",
        "features are correlated and some are not.\n",
        "\n",
        "In case of: \\* Iris data set, `petal width (cm)` and `petal length (cm)`\n",
        "are highly correlated. Will it matter that we did not scale the data? \\*\n",
        "Dummy II data set, `x` and `z` are highly correlated."
      ]
    },
    {
      "cell_type": "code",
      "execution_count": 22,
      "id": "95681e87-3e3b-4a5f-b038-99aaa77a4f7c",
      "metadata": {},
      "outputs": [
        {
          "data": {
            "image/png": "[encoded data removed]",
            "text/plain": [
              "<Figure size 800x800 with 2 Axes>"
            ]
          },
          "metadata": {},
          "output_type": "display_data"
        }
      ],
      "source": [
        "# Initialization\n",
        "fig, ax = plt.subplots(figsize = (8,8))\n",
        "\n",
        "df_cor = df_X.corr()\n",
        "matrix = np.triu(df_cor)\n",
        "sns.heatmap(df_cor, square=True, cmap= 'coolwarm', mask = matrix);"
      ]
    },
    {
      "cell_type": "markdown",
      "id": "6caae26b-9cf9-472c-b21e-a1793e76608f",
      "metadata": {},
      "source": [
        "Now, we do the same for the principal components. And, are the principal\n",
        "components correlated?"
      ]
    },
    {
      "cell_type": "code",
      "execution_count": 24,
      "id": "52cd8f8a-930a-43eb-95ea-47a2589d7db1",
      "metadata": {},
      "outputs": [
        {
          "data": {
            "image/png": "[encoded data removed]",
            "text/plain": [
              "<Figure size 800x800 with 2 Axes>"
            ]
          },
          "metadata": {},
          "output_type": "display_data"
        }
      ],
      "source": [
        "# Initialization\n",
        "fig, ax = plt.subplots(figsize = (8,8))\n",
        "\n",
        "df_cor = df_pc.drop(['label'], axis=1).corr()\n",
        "matrix = np.triu(df_cor)\n",
        "sns.heatmap(df_cor, square=True, cmap= 'coolwarm', mask = matrix);"
      ]
    },
    {
      "cell_type": "markdown",
      "id": "42bc6655-690d-4afc-942b-eb83730a73ab",
      "metadata": {},
      "source": [
        "And by looking at the numbers…"
      ]
    },
    {
      "cell_type": "code",
      "execution_count": null,
      "id": "26f38fcb-24d0-4952-89ec-bd8a945dc0e2",
      "metadata": {},
      "outputs": [],
      "source": [
        "#df_pc.drop(['label'], axis=1).corr()"
      ]
    },
    {
      "cell_type": "markdown",
      "id": "c5e6807b-c81a-4482-876a-b5401c9b371c",
      "metadata": {},
      "source": [
        "Well done! You reached the end of ML explainer on PCA!\n"
      ]
    },
    {
      "cell_type": "markdown",
      "id": "7a0c82f7",
      "metadata": {},
      "source": []
    }
  ],
  "metadata": {
    "kernelspec": {
      "display_name": "base",
      "language": "python",
      "name": "python3"
    },
    "language_info": {
      "codemirror_mode": {
        "name": "ipython",
        "version": 3
      },
      "file_extension": ".py",
      "mimetype": "text/x-python",
      "name": "python",
      "nbconvert_exporter": "python",
      "pygments_lexer": "ipython3",
      "version": "3.10.13"
    },
    "orig_nbformat": "4",
    "vscode": {
      "interpreter": {
        "hash": "ebb0a02d86bd6cc81bd76bc6c4cba297e0e4bde90b1df44b0c10ac2ad7a9009a"
      }
    }
  },
  "nbformat": 4,
  "nbformat_minor": 5
}
