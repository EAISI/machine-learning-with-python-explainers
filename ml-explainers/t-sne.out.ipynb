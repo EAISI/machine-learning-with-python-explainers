{
  "cells": [
    {
      "cell_type": "markdown",
      "metadata": {},
      "source": [
        "# Demonstration - How does t-SNE work\n",
        "\n",
        "Pieter Overdevest  \n",
        "2022-12-17\n",
        "\n",
        "For suggestions/questions regarding this notebook, please contact\n",
        "[Pieter Overdevest](https://www.linkedin.com/in/pieteroverdevest/)\n",
        "(pieter@innovatewithdata.nl).\n",
        "\n",
        "> **Download this notebook**\n",
        ">\n",
        "> You can [download this page as a Jupyter\n",
        "> notebook](../../../assets/notebooks/t-sne.ipynb) (right-click *“Save\n",
        "> Link As …”*) if you want to work directly on the exercises.\n",
        "\n",
        "#### Aim\n",
        "\n",
        "To explain how t-SNE works with a dummy non-linear data set.\n",
        "\n",
        "#### Initialization\n",
        "\n",
        "We start by importing a few packages,"
      ],
      "id": "99f4d23e-8cf7-4fc3-ab20-fe5d37f91372"
    },
    {
      "cell_type": "code",
      "execution_count": 1,
      "metadata": {},
      "outputs": [],
      "source": [
        "import pandas as pd\n",
        "import numpy as np\n",
        "import random\n",
        "\n",
        "from plotly.express import scatter, scatter_3d\n",
        "from sklearn.preprocessing import StandardScaler\n",
        "from sklearn import manifold\n",
        "from numpy.random import rand"
      ],
      "id": "e2f64ae4-32d8-4133-8f94-8c8d641fdded"
    },
    {
      "cell_type": "markdown",
      "metadata": {},
      "source": [
        "#### Get the data\n",
        "\n",
        "We create a dummy data set with non-linear relationships between the\n",
        "three features, `x`, `y`, and `z`. In particular, the data set has a\n",
        "‘bucket’-like data structure in which another cluster is situated.\n",
        "Below, we show a 3D scatter plot made with Plotly. This allows us to\n",
        "rotate the box holding the data around the x, y, and z-axes, to observe\n",
        "the data from different directions. In addition, the data have been\n",
        "projected on each of the three planes constructed by two of the three\n",
        "axes. This helps to understand how data are overlapping in the concerned\n",
        "directions.\n",
        "\n",
        "In this notebook, we investigate the data structure using t-SNE. This\n",
        "can also be done in explainer `pca`. There you will see there is a\n",
        "problem for PCA to distinguish the non-linear data structures."
      ],
      "id": "0efd5329-6bbb-4198-b300-985b27d5c2a2"
    },
    {
      "cell_type": "code",
      "execution_count": 2,
      "metadata": {},
      "outputs": [],
      "source": [
        "random.seed(10)\n",
        "\n",
        "# Cluster A (red)\n",
        "l_a_x = list( 5 + 3 * rand(25)); l_a_y = list( 5 + 3 * rand(25)); l_a_z = list(10 + 1 * rand(25))\n",
        "\n",
        "# Cluster B (green)\n",
        "l_b_x = list( 5 + 3 * rand(25)); l_b_y = list(15 + 3 * rand(25)); l_b_z = list( 5 + 1 * rand(25))\n",
        "\n",
        "# Cluster C (blue)\n",
        "l_c_x = list(14 + 3 * rand(25)); l_c_y = list(12 + 3 * rand(25)); l_c_z = list(15 + 1 * rand(25))\n",
        "\n",
        "# Cluster D (magenta)\n",
        "l_d_x = list( 5 + 3 * rand(50)); l_d_y = list(15 + 3 * rand(50)); l_d_z = list( 7 + 1 * rand(50))\n",
        "\n",
        "# Cluster E (orange)\n",
        "n_x_center = 15; n_y_center = 10; n_z_center = 15\n",
        "n_radius   = 5\n",
        "n_data     = 250\n",
        "\n",
        "v_phi   = np.pi * rand(n_data)\n",
        "v_theta = np.pi * rand(n_data)\n",
        "\n",
        "v_e_x = n_x_center + n_radius * np.sin(v_phi) * np.cos(v_theta)\n",
        "v_e_y = n_y_center + n_radius * np.sin(v_phi) * np.sin(v_theta) * 2\n",
        "v_e_z = n_z_center + n_radius * np.cos(v_phi)\n",
        "\n",
        "l_e_x = list(v_e_x); l_e_y = list(v_e_y); l_e_z = list(v_e_z)\n",
        "\n",
        "# Cluster label.\n",
        "ps_y = pd.Series([\"A\"]*25 + [\"B\"]*25 + [\"C\"]*25 + [\"D\"]*50 + [\"E\"]*n_data)\n",
        "\n",
        "# Concatenation of cluster data.\n",
        "l_df_X_names = ['x', 'y', 'z']\n",
        "m_X       = np.array([\n",
        "    l_a_x + l_b_x + l_c_x + l_d_x + l_e_x,\n",
        "    l_a_y + l_b_y + l_c_y + l_d_y + l_e_y,\n",
        "    l_a_z + l_b_z + l_c_z + l_d_z + l_e_z\n",
        "]).transpose()\n",
        "\n",
        "# Convert to dataframe, df_X.\n",
        "df_X  = pd.DataFrame(    \n",
        "    m_X,\n",
        "    columns = l_df_X_names\n",
        ")\n",
        "\n",
        "# Create copy of df_X.\n",
        "df_data = df_X.copy()\n",
        "\n",
        "# Add cluster label to df_X.\n",
        "df_data['label'] = ps_y\n",
        "\n",
        "# Create shadows on x, y, and z planes.\n",
        "df_data_x = df_data.copy(); df_data_y = df_data.copy(); df_data_z = df_data.copy()\n",
        "\n",
        "df_data_x['x'] = 0; df_data_y['y'] = 0; df_data_z['z'] = 0\n",
        "\n",
        "# Concatenate data.\n",
        "df_data_total = pd.concat([\n",
        "    \n",
        "    df_data,\n",
        "    df_data_x,\n",
        "    df_data_y,\n",
        "    df_data_z\n",
        "], axis = 0)\n"
      ],
      "id": "f1eef131-1b72-4c82-84cb-438d71266036"
    },
    {
      "cell_type": "markdown",
      "metadata": {},
      "source": [
        "##### Plot data in high-dimensional space\n",
        "\n",
        "Now, we plot the data in the high-dimensional space. Below, a 3D scatter\n",
        "plot is shown made with Plotly. Use your mouse to rotate the data and\n",
        "the x, y, and z-axes, to observe the data from different directions. In\n",
        "addition, the data have been projected on each of the x, y, and z planes\n",
        "(shadows). This helps to understand how data are overlapping in one of\n",
        "the three directions.\n",
        "\n",
        "We see that cluster C (blue) is located within cluster E (orange),\n",
        "i.e. a non-linear structure. Clusters B and D are close to each other,\n",
        "but linearly separable, as you can see with PCA (see Demonstration\n",
        "‘pca’)."
      ],
      "id": "50bcfc60-c4ee-4d05-a487-1822c2757c01"
    },
    {
      "cell_type": "code",
      "execution_count": 3,
      "metadata": {},
      "outputs": [
        {
          "output_type": "display_data",
          "metadata": {},
          "data": {
            "text/plain": [
              "Unable to display output for mime type(s): application/vnd.plotly.v1+json"
            ]
          }
        }
      ],
      "source": [
        "# Plot the data.\n",
        "fig = scatter_3d(\n",
        "\n",
        "    df_data_total, \n",
        "    x                  = 'x',\n",
        "    y                  = 'y', \n",
        "    z                  = 'z',\n",
        "    color              = 'label',\n",
        "    color_discrete_map = {\"A\": 'red', \"B\": 'green', \"C\": 'blue', \"D\": 'magenta', \"E\": 'orange'},\n",
        "    range_x            = (0,25),\n",
        "    range_y            = (0,25),\n",
        "    range_z            = (0,25)\n",
        ")\n",
        "\n",
        "fig.update_layout(\n",
        "    autosize = True,\n",
        "    width    = 800,\n",
        "    height   = 800)\n",
        "    \n",
        "fig.show()"
      ],
      "id": "38777421-ad19-4bfa-8b5c-980eda5e5a68"
    },
    {
      "cell_type": "markdown",
      "metadata": {},
      "source": [
        "##### Pre-processing\n",
        "\n",
        "We scale the data,"
      ],
      "id": "0fbb45a1-c3d8-4d7f-b4f1-1da8824fe050"
    },
    {
      "cell_type": "code",
      "execution_count": 4,
      "metadata": {},
      "outputs": [],
      "source": [
        "m_X_scaled = StandardScaler().fit_transform(m_X)"
      ],
      "id": "9d628391-8106-40ed-9e9c-bbb9ba422fc2"
    },
    {
      "cell_type": "markdown",
      "metadata": {},
      "source": [
        "and apply t-SNE transforamation on the scaled data. By default\n",
        "perplexity is set to 25."
      ],
      "id": "3abf45f7-b1c6-4e63-a869-f0d95c26259c"
    },
    {
      "cell_type": "code",
      "execution_count": 5,
      "metadata": {},
      "outputs": [],
      "source": [
        "# Define perplexity.\n",
        "n_perplexity = 20\n",
        "\n",
        "t_sne = manifold.TSNE(\n",
        "    \n",
        "    perplexity    = n_perplexity,\n",
        "    init          = \"random\",\n",
        "    n_iter        = 1000,\n",
        "    learning_rate = 100,\n",
        "    random_state  = 0,\n",
        ")\n",
        "\n",
        "m_X_t_sne = t_sne.fit_transform(m_X_scaled)\n",
        "\n",
        "df_X_t_sne = pd.DataFrame(m_X_t_sne, columns = ['dim1', 'dim2'])\n",
        "\n",
        "df_X_t_sne['target'] = ps_y"
      ],
      "id": "1bb00cd5-27cd-4571-9cff-c15a2da07e04"
    },
    {
      "cell_type": "markdown",
      "metadata": {},
      "source": [
        "##### Plot data in low-dimensional space\n",
        "\n",
        "Now, we plot the data in the low-dimensional space, see below. We\n",
        "observe that the non-linear data structure ‘C-in-E’ is separated in two\n",
        "clusters, contrary to what is possible with PCA, see intermezzo ‘pca’.\n",
        "When we set perplexity to 250 in the cell above, we see that data\n",
        "structure ‘C-in-E’ is not separated. This is because we move the\n",
        "‘horizon’ further away (more neighbours considered; standard deviation\n",
        "of normal distribution increased), causing lumping data structures in\n",
        "the low-dimensional space that are separated in the high-dimensional\n",
        "space."
      ],
      "id": "835532cc-1d34-45c1-9fe6-ad3d6361855f"
    },
    {
      "cell_type": "code",
      "execution_count": 6,
      "metadata": {},
      "outputs": [
        {
          "output_type": "display_data",
          "metadata": {},
          "data": {
            "text/plain": [
              "Unable to display output for mime type(s): application/vnd.plotly.v1+json"
            ]
          }
        }
      ],
      "source": [
        "scatter(\n",
        "    \n",
        "    data_frame         = df_X_t_sne,\n",
        "    x                  = 'dim1', \n",
        "    y                  = 'dim2', \n",
        "    color              = 'target',\n",
        "    color_discrete_map = {\"A\": 'red', \"B\": 'green', \"C\": 'blue', \"D\": 'magenta', \"E\": 'orange'},\n",
        "    title              = \"t-Distributed Stochastic Neighbor Embedding\",\n",
        "    width              = 600,\n",
        "    height             = 600\n",
        ")"
      ],
      "id": "6128e32c-1e0b-48a0-847c-563ce85a94f9"
    }
  ],
  "nbformat": 4,
  "nbformat_minor": 5,
  "metadata": {
    "kernelspec": {
      "name": "python3",
      "display_name": "base",
      "language": "python"
    },
    "language_info": {
      "name": "python",
      "codemirror_mode": {
        "name": "ipython",
        "version": "3"
      },
      "file_extension": ".py",
      "mimetype": "text/x-python",
      "nbconvert_exporter": "python",
      "pygments_lexer": "ipython3",
      "version": "3.10.11"
    },
    "orig_nbformat": "4",
    "vscode": {
      "interpreter": {
        "hash": "69009b686886a9fccdfb88b2fcaa70ca97bd9c58fd38f0a2b10b65ec18ffcda9"
      }
    }
  }
}