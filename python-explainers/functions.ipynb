{
  "cells": [
    {
      "cell_type": "markdown",
      "metadata": {},
      "source": [
        "# Python Explainer - How do functions work\n",
        "\n",
        "Pieter Overdevest  \n",
        "2022-11-28\n",
        "\n",
        "#### Aim\n",
        "\n",
        "Explain how functions work through a number of examples.\n",
        "\n",
        "#### Examples\n",
        "\n",
        "Let’s first take a moment to better understand the workings of\n",
        "functions. In the first example (`f_example_1`), we have a function that\n",
        "takes two input parameters (`a` and `b`) and produces one product. Note,\n",
        "the object `c` defined within the function is a local variable and thus\n",
        "only known within the function."
      ],
      "id": "b82ef0fd-a965-4a85-94d8-bca5fcf9416b"
    },
    {
      "cell_type": "code",
      "execution_count": 1,
      "metadata": {},
      "outputs": [],
      "source": [
        "def f_example_1(a, b):\n",
        "\n",
        "    c = a*b\n",
        "\n",
        "    return c"
      ],
      "id": "f1149325-f1e2-49ba-b07e-1c85e7febf95"
    },
    {
      "cell_type": "code",
      "execution_count": 2,
      "metadata": {},
      "outputs": [
        {
          "output_type": "display_data",
          "metadata": {},
          "data": {
            "text/plain": [
              "20"
            ]
          }
        }
      ],
      "source": [
        "f_example_1(4,5)"
      ],
      "id": "7998ee0f-7a70-4ddc-a369-0aa18d3193d8"
    },
    {
      "cell_type": "markdown",
      "metadata": {},
      "source": [
        "Calling `c` results in a ‘not defined’ error, because it is not known in\n",
        "the global environment of this notebook."
      ],
      "id": "07398565-5928-44cb-8d9b-7122c1022fa8"
    },
    {
      "cell_type": "code",
      "execution_count": 3,
      "metadata": {},
      "outputs": [],
      "source": [
        "c"
      ],
      "id": "d42a6d44-cae4-4c02-a04f-16795b0ecddd"
    },
    {
      "cell_type": "markdown",
      "metadata": {},
      "source": [
        "Of course, we can assign the outcome of the function to an object `c`,\n",
        "making it available in the global environment. However, it is not *the*\n",
        "`c` that was known in the function."
      ],
      "id": "f00de520-a652-4524-91c1-7a188037a438"
    },
    {
      "cell_type": "code",
      "execution_count": 4,
      "metadata": {},
      "outputs": [],
      "source": [
        "c = f_example_1(4,5)"
      ],
      "id": "d747516c-ea0b-4ecc-9521-814dba71272c"
    },
    {
      "cell_type": "code",
      "execution_count": 5,
      "metadata": {},
      "outputs": [
        {
          "output_type": "display_data",
          "metadata": {},
          "data": {
            "text/plain": [
              "20"
            ]
          }
        }
      ],
      "source": [
        "c"
      ],
      "id": "5a332b05-38c0-46ba-95a8-3335e19ae30b"
    },
    {
      "cell_type": "markdown",
      "metadata": {},
      "source": [
        "What is the result when you re-execute the cell with the `c` three cells\n",
        "up?\n",
        "\n",
        "There is no need to define the helper object `c` within the function,\n",
        "see `f_example_2`. In case the function has more steps in it, than it is\n",
        "better to use an object, for clarity."
      ],
      "id": "12b4d0e4-5fb8-49da-8544-23f128662fe4"
    },
    {
      "cell_type": "code",
      "execution_count": 6,
      "metadata": {},
      "outputs": [],
      "source": [
        "def f_example_2(a, b):\n",
        "\n",
        "    return a*b"
      ],
      "id": "da607e66-154b-4e0f-9996-5e09d711dd54"
    },
    {
      "cell_type": "code",
      "execution_count": 7,
      "metadata": {},
      "outputs": [
        {
          "output_type": "stream",
          "name": "stdout",
          "text": [
            "20\n",
            "20"
          ]
        }
      ],
      "source": [
        "print(f_example_1(4,5))\n",
        "\n",
        "print(f_example_2(4,5))"
      ],
      "id": "a1685235-a278-40cc-8149-7505920659f8"
    },
    {
      "cell_type": "markdown",
      "metadata": {},
      "source": [
        "The third example shows that functions can output multiple objects."
      ],
      "id": "6bab081d-4e17-4915-8294-51fcc5a67230"
    },
    {
      "cell_type": "code",
      "execution_count": 8,
      "metadata": {},
      "outputs": [],
      "source": [
        "def f_example_3(a, b):\n",
        "\n",
        "    return a+b, a*b"
      ],
      "id": "08b84bb9-a63a-4238-8ce3-e78a61a7819c"
    },
    {
      "cell_type": "code",
      "execution_count": 9,
      "metadata": {},
      "outputs": [
        {
          "output_type": "display_data",
          "metadata": {},
          "data": {
            "text/plain": [
              "(11, 28)"
            ]
          }
        }
      ],
      "source": [
        "f_example_3(4,7)"
      ],
      "id": "2e7eca30-5206-44c2-a5f5-c3c86b362d8e"
    },
    {
      "cell_type": "markdown",
      "metadata": {},
      "source": [
        "We assign the respective outputs to objects, see `n1` and `n2` below."
      ],
      "id": "d3030e87-828a-484c-95e3-5c01575f4e5c"
    },
    {
      "cell_type": "code",
      "execution_count": 10,
      "metadata": {},
      "outputs": [
        {
          "output_type": "stream",
          "name": "stdout",
          "text": [
            "11\n",
            "28"
          ]
        }
      ],
      "source": [
        "n_1, n_2 = f_example_3(4,7)\n",
        "\n",
        "print(n_1)\n",
        "print(n_2)"
      ],
      "id": "005add2d-e5e5-4320-9990-18ffbae0c6a9"
    },
    {
      "cell_type": "markdown",
      "metadata": {},
      "source": [
        "Functions are not required to output objects, see example 4 below.\n",
        "Example 5 shows that use of `print(f\"...\")` results in less and cleaner\n",
        "code to achieve the same result."
      ],
      "id": "e9c91086-933a-40b4-a869-5aaa3d40e3e7"
    },
    {
      "cell_type": "code",
      "execution_count": 11,
      "metadata": {},
      "outputs": [],
      "source": [
        "def f_example_4(a, b):\n",
        "\n",
        "    print(\"The product of \", str(a), \" and \", str(b), \" is \" + str(a*b), \".\", sep = \"\")\n",
        "\n",
        "def f_example_5(a, b):\n",
        "\n",
        "    print(f\"I said so, the product of {a} and {b} is indeed {a*b}!\")"
      ],
      "id": "ac9f1869-349d-4faf-adb8-2df7f56c3f3c"
    },
    {
      "cell_type": "code",
      "execution_count": 12,
      "metadata": {},
      "outputs": [
        {
          "output_type": "stream",
          "name": "stdout",
          "text": [
            "The product of 4 and 8 is 32.\n",
            "I said so, the product of 4 and 8 is indeed 32!"
          ]
        }
      ],
      "source": [
        "f_example_4(4,8)\n",
        "f_example_5(4,8)"
      ],
      "id": "c90f012b-abde-4eb3-93c5-a20feb7a4a45"
    }
  ],
  "nbformat": 4,
  "nbformat_minor": 5,
  "metadata": {
    "kernelspec": {
      "name": "python3",
      "display_name": "Python 3",
      "language": "python"
    },
    "language_info": {
      "name": "python",
      "codemirror_mode": {
        "name": "ipython",
        "version": "3"
      },
      "file_extension": ".py",
      "mimetype": "text/x-python",
      "nbconvert_exporter": "python",
      "pygments_lexer": "ipython3",
      "version": "3.10.11"
    },
    "orig_nbformat": "4",
    "vscode": {
      "interpreter": {
        "hash": "31f2aee4e71d21fbe5cf8b01ff0e069b9275f58929596ceb00d14d90e3e16cd6"
      }
    }
  }
}