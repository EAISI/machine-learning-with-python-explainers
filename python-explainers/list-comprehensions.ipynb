{
  "cells": [
    {
      "cell_type": "markdown",
      "metadata": {},
      "source": [
        "# Python Explainer - How do list comprehensions work\n",
        "\n",
        "Pieter Overdevest  \n",
        "2022-11-28\n",
        "\n",
        "#### Aim\n",
        "\n",
        "Review the structure and functionality of list comprehensions.\n",
        "\n",
        "#### Initialization\n",
        "\n",
        "List comprehensions don’t need packages, so nothing to import ;-).\n",
        "\n",
        "We create a list with some exemplary data."
      ],
      "id": "e9e22be6-5ba2-48ea-b2d8-32be20598b23"
    },
    {
      "cell_type": "code",
      "execution_count": 2,
      "metadata": {},
      "outputs": [],
      "source": [
        "v_test = ['a_sf', 'b', 'c_sf', 'd']"
      ],
      "id": "ef56800b-087a-485d-bda6-b300bb4cb924"
    },
    {
      "cell_type": "markdown",
      "metadata": {},
      "source": [
        "#### Example 1a - Remove certain elements from a list\n",
        "\n",
        "Suppose we want to remove ‘b’ and ‘c_sf’ from the list. This can be\n",
        "useful in case you want to remove certain values from a list."
      ],
      "id": "e0d9b589-08b3-4064-93a1-00e25fc1949f"
    },
    {
      "cell_type": "code",
      "execution_count": 3,
      "metadata": {},
      "outputs": [
        {
          "output_type": "display_data",
          "metadata": {},
          "data": {
            "text/plain": [
              "['a_sf', 'd']"
            ]
          }
        }
      ],
      "source": [
        "[x for x in v_test if x not in ['b', 'c_sf']]"
      ],
      "id": "d571c65a-c670-4eb2-adc9-dffc1610e972"
    },
    {
      "cell_type": "markdown",
      "metadata": {},
      "source": [
        "#### Example 1b - Remove certain elements from a list\n",
        "\n",
        "Suppose we want to select any value from the list containing ’\\_sf’.\n",
        "This can be useful in case you want to remove certain column names from\n",
        "a list of column names."
      ],
      "id": "e50ad894-2786-4632-8eae-48f802b8ada9"
    },
    {
      "cell_type": "code",
      "execution_count": 4,
      "metadata": {},
      "outputs": [
        {
          "output_type": "display_data",
          "metadata": {},
          "data": {
            "text/plain": [
              "['a_sf', 'c_sf']"
            ]
          }
        }
      ],
      "source": [
        "[c_col for c_col in v_test if \"_sf\" in c_col]"
      ],
      "id": "c0b247e9-04dd-480c-9c0e-6f59ead10616"
    },
    {
      "cell_type": "markdown",
      "metadata": {},
      "source": [
        "#### Example 1c - Remove certain elements from a list\n",
        "\n",
        "To build on the previous example, suppose we want to select any value\n",
        "from the list containing ’\\_sf’ or being equal to ‘b’."
      ],
      "id": "50ddf3da-0824-4f54-a923-6d614ce5aee9"
    },
    {
      "cell_type": "code",
      "execution_count": 5,
      "metadata": {},
      "outputs": [
        {
          "output_type": "display_data",
          "metadata": {},
          "data": {
            "text/plain": [
              "['a_sf', 'b', 'c_sf']"
            ]
          }
        }
      ],
      "source": [
        "[c_col for c_col in v_test if \"_sf\" in c_col or c_col == 'b']"
      ],
      "id": "53df7c3c-6191-46a2-9a11-4fbd92a092f0"
    },
    {
      "cell_type": "markdown",
      "metadata": {},
      "source": [
        "#### Example 2 - Apply a function to selected values in a list\n",
        "\n",
        "List comprehensions are versatile! We can use them to apply functions to\n",
        "elements in a list. We create a toy function that takes a number, takes\n",
        "its square, adds 13, and preprend “Result:”."
      ],
      "id": "269b1270-053f-4a7e-816c-6bc41a9f4171"
    },
    {
      "cell_type": "code",
      "execution_count": 6,
      "metadata": {},
      "outputs": [],
      "source": [
        "def f_test(n_input):\n",
        "\n",
        "    n1 = n_input ** 2 + 13\n",
        "\n",
        "    c_output = \"Result: \" + str(n1)\n",
        "\n",
        "    return c_output"
      ],
      "id": "c6daf84b-6a39-457b-8d08-f4a4159641cd"
    },
    {
      "cell_type": "markdown",
      "metadata": {},
      "source": [
        "Let’s test with the number 5:"
      ],
      "id": "1b1f2050-5de5-434a-a246-8788a2cadf74"
    },
    {
      "cell_type": "code",
      "execution_count": 7,
      "metadata": {},
      "outputs": [
        {
          "output_type": "display_data",
          "metadata": {},
          "data": {
            "text/plain": [
              "'Result: 38'"
            ]
          }
        }
      ],
      "source": [
        "f_test(5)"
      ],
      "id": "79594896-8398-4a40-9281-00f0eb38bf71"
    },
    {
      "cell_type": "markdown",
      "metadata": {},
      "source": [
        "Now, we introduce `f_test` in de list comprehension. The `if` statement\n",
        "is used to filter the numbers on even numbers."
      ],
      "id": "817fe6f8-b319-4528-8b86-36318bee218e"
    },
    {
      "cell_type": "code",
      "execution_count": 8,
      "metadata": {},
      "outputs": [
        {
          "output_type": "display_data",
          "metadata": {},
          "data": {
            "text/plain": [
              "['Result: 17', 'Result: 29', 'Result: 49']"
            ]
          }
        }
      ],
      "source": [
        "[f_test(x) for x in [1,2,3,4,5,6] if x%2 == 0]"
      ],
      "id": "ad8794dc-3c79-407a-8ce4-8cfe2929b276"
    }
  ],
  "nbformat": 4,
  "nbformat_minor": 5,
  "metadata": {
    "kernelspec": {
      "name": "python3",
      "display_name": "Python 3",
      "language": "python"
    },
    "language_info": {
      "name": "python",
      "codemirror_mode": {
        "name": "ipython",
        "version": "3"
      },
      "file_extension": ".py",
      "mimetype": "text/x-python",
      "nbconvert_exporter": "python",
      "pygments_lexer": "ipython3",
      "version": "3.7.3 (default, Mar 6 2020, 22:34:30) [Clang 11.0.3\n(clang-1103.0.32.29)]"
    },
    "orig_nbformat": "4",
    "vscode": {
      "interpreter": {
        "hash": "31f2aee4e71d21fbe5cf8b01ff0e069b9275f58929596ceb00d14d90e3e16cd6"
      }
    }
  }
}