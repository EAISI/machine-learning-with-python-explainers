{
  "cells": [
    {
      "cell_type": "markdown",
      "id": "e9e22be6-5ba2-48ea-b2d8-32be20598b23",
      "metadata": {},
      "source": [
        "# Python Explainer - How do 'list comprehensions' work?\n",
        "\n",
        "Pieter Overdevest  \n",
        "2024-03-07\n",
        "\n",
        "#### Aim\n",
        "\n",
        "Review the structure and functionality of list comprehensions.\n",
        "\n",
        "#### Initialization\n",
        "\n",
        "List comprehensions don’t need packages, so nothing to import ;-).\n",
        "\n",
        "We create a list with some exemplary data."
      ]
    },
    {
      "cell_type": "code",
      "execution_count": 2,
      "id": "ef56800b-087a-485d-bda6-b300bb4cb924",
      "metadata": {},
      "outputs": [],
      "source": [
        "l_test = ['a_sf', 'b', 'c_sf', 'd']"
      ]
    },
    {
      "cell_type": "markdown",
      "id": "e0d9b589-08b3-4064-93a1-00e25fc1949f",
      "metadata": {},
      "source": [
        "#### Example 1a - Remove certain elements from a list\n",
        "\n",
        "Suppose we want to remove ‘b’ and ‘c_sf’ from the list. This can be\n",
        "useful in case you want to remove certain values from a list."
      ]
    },
    {
      "cell_type": "code",
      "execution_count": 3,
      "id": "d571c65a-c670-4eb2-adc9-dffc1610e972",
      "metadata": {},
      "outputs": [
        {
          "data": {
            "text/plain": [
              "['a_sf', 'd']"
            ]
          },
          "execution_count": 3,
          "metadata": {},
          "output_type": "execute_result"
        }
      ],
      "source": [
        "[x for x in l_test if x not in ['b', 'c_sf']]"
      ]
    },
    {
      "cell_type": "markdown",
      "id": "e50ad894-2786-4632-8eae-48f802b8ada9",
      "metadata": {},
      "source": [
        "#### Example 1b - Remove certain elements from a list\n",
        "\n",
        "Suppose we want to select any value from the list containing ’\\_sf’.\n",
        "This can be useful in case you want to remove certain column names from\n",
        "a list of column names."
      ]
    },
    {
      "cell_type": "code",
      "execution_count": 4,
      "id": "c0b247e9-04dd-480c-9c0e-6f59ead10616",
      "metadata": {},
      "outputs": [
        {
          "data": {
            "text/plain": [
              "['a_sf', 'c_sf']"
            ]
          },
          "execution_count": 4,
          "metadata": {},
          "output_type": "execute_result"
        }
      ],
      "source": [
        "[c_col for c_col in l_test if \"_sf\" in c_col]"
      ]
    },
    {
      "cell_type": "markdown",
      "id": "50ddf3da-0824-4f54-a923-6d614ce5aee9",
      "metadata": {},
      "source": [
        "#### Example 1c - Remove certain elements from a list\n",
        "\n",
        "To build on the previous example, suppose we want to select any value\n",
        "from the list containing ’\\_sf’ or being equal to ‘b’."
      ]
    },
    {
      "cell_type": "code",
      "execution_count": 5,
      "id": "53df7c3c-6191-46a2-9a11-4fbd92a092f0",
      "metadata": {},
      "outputs": [
        {
          "data": {
            "text/plain": [
              "['a_sf', 'b', 'c_sf']"
            ]
          },
          "execution_count": 5,
          "metadata": {},
          "output_type": "execute_result"
        }
      ],
      "source": [
        "[c_col for c_col in l_test if \"_sf\" in c_col or c_col == 'b']"
      ]
    },
    {
      "cell_type": "markdown",
      "id": "269b1270-053f-4a7e-816c-6bc41a9f4171",
      "metadata": {},
      "source": [
        "#### Example 2 - Apply a function to selected values in a list\n",
        "\n",
        "List comprehensions are versatile! We can use them to apply functions to elements in a list. We create a function that converts degrees Celcius to degree Fahrenheit."
      ]
    },
    {
      "cell_type": "code",
      "execution_count": 10,
      "id": "c6daf84b-6a39-457b-8d08-f4a4159641cd",
      "metadata": {},
      "outputs": [],
      "source": [
        "def f_celcius2fahrenheit(n_celcius):\n",
        "\n",
        "    return n_celcius * (9/5) + 32"
      ]
    },
    {
      "cell_type": "markdown",
      "id": "1b1f2050-5de5-434a-a246-8788a2cadf74",
      "metadata": {},
      "source": [
        "Let’s calculate degrees Fahrenheit for 40 degree Celcius:"
      ]
    },
    {
      "cell_type": "code",
      "execution_count": 11,
      "id": "79594896-8398-4a40-9281-00f0eb38bf71",
      "metadata": {},
      "outputs": [
        {
          "data": {
            "text/plain": [
              "104.0"
            ]
          },
          "execution_count": 11,
          "metadata": {},
          "output_type": "execute_result"
        }
      ],
      "source": [
        "f_celcius2fahrenheit(40)"
      ]
    },
    {
      "cell_type": "markdown",
      "id": "817fe6f8-b319-4528-8b86-36318bee218e",
      "metadata": {},
      "source": [
        "Now, we introduce `f_test` in de list comprehension. The `if` statement\n",
        "is used to filter the numbers on even numbers."
      ]
    },
    {
      "cell_type": "code",
      "execution_count": 12,
      "id": "ad8794dc-3c79-407a-8ce4-8cfe2929b276",
      "metadata": {},
      "outputs": [
        {
          "data": {
            "text/plain": [
              "[41.0, 50.0, 59.0, 68.0, 77.0, 86.0]"
            ]
          },
          "execution_count": 12,
          "metadata": {},
          "output_type": "execute_result"
        }
      ],
      "source": [
        "[f_celcius2fahrenheit(x) for x in [5,10,15,20,25,30]]"
      ]
    },
    {
      "cell_type": "code",
      "execution_count": null,
      "id": "6bd3a983",
      "metadata": {},
      "outputs": [],
      "source": []
    }
  ],
  "metadata": {
    "kernelspec": {
      "display_name": "Python 3",
      "language": "python",
      "name": "python3"
    },
    "language_info": {
      "codemirror_mode": {
        "name": "ipython",
        "version": 3
      },
      "file_extension": ".py",
      "mimetype": "text/x-python",
      "name": "python",
      "nbconvert_exporter": "python",
      "pygments_lexer": "ipython3",
      "version": "3.10.13"
    },
    "orig_nbformat": "4",
    "vscode": {
      "interpreter": {
        "hash": "31f2aee4e71d21fbe5cf8b01ff0e069b9275f58929596ceb00d14d90e3e16cd6"
      }
    }
  },
  "nbformat": 4,
  "nbformat_minor": 5
}
