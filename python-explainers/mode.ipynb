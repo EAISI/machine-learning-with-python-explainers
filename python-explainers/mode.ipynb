{
  "cells": [
    {
      "attachments": {},
      "cell_type": "markdown",
      "id": "53ce099d-41f5-41ab-820d-26b75c1bdea8",
      "metadata": {},
      "source": [
        "# Python Explainer - How does mode() work, and how to extract useful\n",
        "\n",
        "author: Pieter Overdevest  \n",
        "date: 2022-11-28\n",
        "\n",
        "#### Aim\n",
        "\n",
        "Determine the mode for each categorical feature in a data frame and\n",
        "infere information from the results. Mode is the most frequently present\n",
        "value in the concerned feature.\n",
        "\n",
        "#### Initialization\n",
        "\n",
        "We start by importing the Pandas package,"
      ]
    },
    {
      "cell_type": "code",
      "execution_count": 16,
      "id": "26627057-1d12-4797-b6a8-0ddd53832c1a",
      "metadata": {},
      "outputs": [],
      "source": [
        "import pandas as pd"
      ]
    },
    {
      "attachments": {},
      "cell_type": "markdown",
      "id": "feaf8216-8da4-490c-9d6f-04020c10d8f7",
      "metadata": {},
      "source": [
        "and create a data frame with some exemplary data."
      ]
    },
    {
      "cell_type": "code",
      "execution_count": 17,
      "id": "450e32ef-a148-4f93-8096-f06916cf4095",
      "metadata": {},
      "outputs": [],
      "source": [
        "df = pd.DataFrame({\n",
        "    \n",
        "    'animal': [\"dog\", \"cat\", \"dog\", \"cat\", \"dog\", \"cat\", \"horse\"],\n",
        "    \"id\": [\"a7\", \"a5\", \"a3\", \"a4\", \"a1\", \"a6\", \"a2\"],\n",
        "    \"color\": [\"red\", \"red\", \"red\", \"red\", \"red\", \"red\", \"blue\"]\n",
        "})"
      ]
    },
    {
      "attachments": {},
      "cell_type": "markdown",
      "id": "090b2483-0105-4e8f-8aaa-892b173d26a5",
      "metadata": {},
      "source": [
        "#### Step-by-Step\n",
        "\n",
        "Applying the `mode()` function, we get a data frame with most frequently\n",
        "present values in each of the columns. In `df.animal` cat and dog are\n",
        "present at the same frequency, i.e., 3. Both are listed in `df_mode` in\n",
        "alphabetical order. Cat is mentioned first even though dog was mentioned\n",
        "first in `df.animal`. In `df.id` all values are unique, so they all show\n",
        "up alphabetically ordered in the data frame below. A clear cut case -\n",
        "where there is just one the winner - is shown in `df.color` where red\n",
        "occurs most often."
      ]
    },
    {
      "cell_type": "code",
      "execution_count": 18,
      "id": "4ccccd54-0b02-491a-b0ad-ecd0d155ff89",
      "metadata": {},
      "outputs": [
        {
          "data": {
            "text/html": [
              "\n",
              "</div>"
            ]
          },
          "metadata": {},
          "output_type": "display_data"
        }
      ],
      "source": [
        "df_mode = df.mode()\n",
        "\n",
        "df_mode\n"
      ]
    },
    {
      "attachments": {},
      "cell_type": "markdown",
      "id": "f90468ae-3f87-440e-b5a9-28cf382f4e4f",
      "metadata": {},
      "source": [
        "To obtain the candidates for the most frequently present values in their\n",
        "respective columns, we simply take the first row."
      ]
    },
    {
      "cell_type": "code",
      "execution_count": 19,
      "id": "9ef0f387-97ea-4f6e-a827-ce01c54d34ec",
      "metadata": {},
      "outputs": [
        {
          "data": {
            "text/plain": [
              "animal    cat\n",
              "id         a1\n",
              "color     red\n",
              "Name: 0, dtype: object"
            ]
          },
          "metadata": {},
          "output_type": "display_data"
        }
      ],
      "source": [
        "df_mode.iloc[0]"
      ]
    },
    {
      "attachments": {},
      "cell_type": "markdown",
      "id": "6c219173-dac7-4c55-87bb-fe7a82a6ab99",
      "metadata": {},
      "source": [
        "Though, we should be aware that there can be other values occuring at\n",
        "the same maximum frequency. Below, we count the number of features that\n",
        "have more than one value present at the maximum frequency, by evaluating\n",
        "the second row in `df_mode`."
      ]
    },
    {
      "cell_type": "code",
      "execution_count": 20,
      "id": "283de77a-a7f3-4a13-9e16-252b1da19664",
      "metadata": {},
      "outputs": [
        {
          "data": {
            "text/plain": [
              "2"
            ]
          },
          "metadata": {},
          "output_type": "display_data"
        }
      ],
      "source": [
        "df_mode.notna().iloc[1].sum()"
      ]
    },
    {
      "attachments": {},
      "cell_type": "markdown",
      "id": "49eaa300-a184-4f32-b50b-94983f1ea1e2",
      "metadata": {},
      "source": [
        "A so-called `list comprehension` is an elegant way to identify the\n",
        "columns that have at least two or mores value that occur at the same\n",
        "maximum frequency. See also intermezzo ‘list-comprehensions’."
      ]
    },
    {
      "cell_type": "code",
      "execution_count": 21,
      "id": "786bff5f-185d-403b-b175-bbf8e3c88036",
      "metadata": {},
      "outputs": [
        {
          "data": {
            "text/plain": [
              "['animal', 'id']"
            ]
          },
          "metadata": {},
          "output_type": "display_data"
        }
      ],
      "source": [
        "v_col = [\n",
        "    \n",
        "    df.columns[i]\n",
        "    \n",
        "    for i in range(len(df_mode.columns))\n",
        "    \n",
        "    if df_mode.notna().iloc[1,i]\n",
        "]\n",
        "\n",
        "v_col"
      ]
    },
    {
      "attachments": {},
      "cell_type": "markdown",
      "id": "d1579c21-02f6-4320-ba2d-224d745adfd2",
      "metadata": {},
      "source": [
        "And, in case we want to know which values in these columns occur at the\n",
        "same maximum frequency, again, we can use a list comprehension, in\n",
        "addition to the `value_counts()` function. If list comprehensions are\n",
        "simple, you can write them in a single line. If they are more complex,\n",
        "putting different elements at different lines, can make it easier for\n",
        "others to understand, but also for yourself when you revisit your code\n",
        "after say 1 month. In order to run the code it makes no difference\n",
        "whether the code is in one line or not. Note, you cannot put the line\n",
        "break at any point. E.g., you can, when you put them between `(` and\n",
        "`)`, as shown below."
      ]
    },
    {
      "cell_type": "code",
      "execution_count": 22,
      "id": "72b2bd4e-68a2-49f8-b70f-93439935f4a4",
      "metadata": {},
      "outputs": [
        {
          "data": {
            "text/plain": [
              "[       animal\n",
              " dog         3\n",
              " cat         3\n",
              " horse       1,\n",
              "     id\n",
              " a7   1\n",
              " a5   1\n",
              " a3   1\n",
              " a4   1\n",
              " a1   1\n",
              " a6   1\n",
              " a2   1]"
            ]
          },
          "metadata": {},
          "output_type": "display_data"
        }
      ],
      "source": [
        "[\n",
        "    #Output\n",
        "    pd.DataFrame(\n",
        "        \n",
        "        df[c_col].value_counts()\n",
        "\n",
        "    ).sort_values(\n",
        "        \n",
        "        by        = c_col,\n",
        "        ascending = False\n",
        "    )\n",
        "    \n",
        "    # Iteration.\n",
        "    for c_col in v_col\n",
        "]"
      ]
    },
    {
      "attachments": {},
      "cell_type": "markdown",
      "id": "5ea9148d-ea59-4682-b57a-fa580bc0d0cc",
      "metadata": {},
      "source": [
        "You can also make use of `\\` character, to mark continuation of the\n",
        "script on the next line."
      ]
    },
    {
      "cell_type": "code",
      "execution_count": 23,
      "id": "54b34c8a-7bdc-44a2-b6d9-0fa5bb444198",
      "metadata": {},
      "outputs": [
        {
          "data": {
            "text/plain": [
              "[       animal\n",
              " dog         3\n",
              " cat         3\n",
              " horse       1,\n",
              "     id\n",
              " a7   1\n",
              " a5   1\n",
              " a3   1\n",
              " a4   1\n",
              " a1   1\n",
              " a6   1\n",
              " a2   1]"
            ]
          },
          "metadata": {},
          "output_type": "display_data"
        }
      ],
      "source": [
        "[\n",
        "    #Output\n",
        "    pd.DataFrame(df[c_col].value_counts())\\\n",
        "        \n",
        "        .sort_values(by = c_col, ascending = False)\n",
        "    \n",
        "    # Iteration.\n",
        "    for c_col in v_col\n",
        "]"
      ]
    }
  ],
  "metadata": {
    "kernelspec": {
      "display_name": "Python 3",
      "language": "python",
      "name": "python3"
    },
    "language_info": {
      "codemirror_mode": {
        "name": "ipython",
        "version": "3"
      },
      "file_extension": ".py",
      "mimetype": "text/x-python",
      "name": "python",
      "nbconvert_exporter": "python",
      "pygments_lexer": "ipython3",
      "version": "3.9.6"
    },
    "orig_nbformat": "4",
    "vscode": {
      "interpreter": {
        "hash": "31f2aee4e71d21fbe5cf8b01ff0e069b9275f58929596ceb00d14d90e3e16cd6"
      }
    }
  },
  "nbformat": 4,
  "nbformat_minor": 5
}
