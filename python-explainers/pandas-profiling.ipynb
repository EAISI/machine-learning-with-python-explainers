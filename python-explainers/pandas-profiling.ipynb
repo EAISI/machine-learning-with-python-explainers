{
  "cells": [
    {
      "attachments": {},
      "cell_type": "markdown",
      "id": "cb6d670f-70df-4415-9f18-60d21887a65d",
      "metadata": {},
      "source": [
        "# Pandas profiling\n",
        "\n",
        "Felix van der Spek  \n",
        "2021-11-01\n",
        "\n",
        "This notebook was contributed by [Felix van der Spek](), JADS Data\n",
        "Science Foundation for Experts class, November 2021\n",
        "\n",
        "For those seeking to improve their exploratory data analysis workflow,\n",
        "the [pandas\n",
        "profiling](https://pandas-profiling.github.io/pandas-profiling/docs/master/rtd/)\n",
        "is a good library to use. We demonstrate it here using the Ames housing\n",
        "case. Also, the metadata from the original journal paper is used to\n",
        "generate a properly documented report.\n",
        "\n",
        "Since the reports can get quite large, it is recommended to save it in a\n",
        "separate file."
      ]
    },
    {
      "cell_type": "code",
      "execution_count": null,
      "id": "e8362636-5cd7-4818-bc64-5c95e3748347",
      "metadata": {
        "cell_id": "00000-0dfe177d-52de-445a-aaac-55f52a77b980",
        "deepnote_cell_type": "code",
        "execution_millis": 220,
        "execution_start": 1637328509420,
        "source_hash": "245994c1",
        "tags": []
      },
      "outputs": [],
      "source": [
        "import json\n",
        "import re\n",
        "from fuzzywuzzy import fuzz\n",
        "import pandas as pd\n",
        "import requests\n",
        "from pandas_profiling import ProfileReport\n",
        "\n",
        "\n",
        "DATASET_URL = \"https://github.com/eaisi/discover-projects/blob/main/ames-housing/AmesHousing.csv?raw=true\"\n",
        "DATASET_METADATA_URL = \"http://jse.amstat.org/v19n3/decock/DataDocumentation.txt\"\n",
        "VARIABLE_DEFINITION_FILENAME = \"dataset_variable_definition.json\""
      ]
    },
    {
      "cell_type": "code",
      "execution_count": null,
      "id": "39f66119-4156-4086-b160-f3c5d0a4e792",
      "metadata": {},
      "outputs": [],
      "source": [
        "def fetch_variable_definitions(\n",
        "    dataset_url=DATASET_URL, \n",
        "    dataset_metadata_url=DATASET_METADATA_URL, \n",
        "    filename=VARIABLE_DEFINITION_FILENAME\n",
        "):\n",
        "    \"\"\"Fetch variable definitions from dataset metadata.\"\"\"\n",
        "\n",
        "    response = requests.get(dataset_metadata_url)\n",
        "\n",
        "    pattern = re.compile(r'(?P<variable>.*?)(?:\\s*\\(.*\\)\\s*:\\s*)(?P<description>.*)')\n",
        "    matches = re.finditer(pattern, response.text)\n",
        "    \n",
        "    definitions = {\n",
        "        match.group('variable'): match.group('description') \n",
        "        for match in matches \n",
        "        if match is not None\n",
        "    }\n",
        "    definitions = {k.strip(): v.strip() for k, v in definitions.items()}\n",
        "\n",
        "    print(f\"number of variables in metadata: {len(definitions)}\")\n",
        "\n",
        "    # get dataset so we can map variable names from dataset to metadata\n",
        "    df = pd.read_csv(dataset_url)\n",
        "    print(f\"number of variables in dataset: {len(df.columns)}\")\n",
        "\n",
        "    # quick sanity check\n",
        "    assert len(definitions) == len(df.columns), \"number of columns don't match\"\n",
        "\n",
        "    column_names = pd.Series(df.columns)\n",
        "    for variable in definitions.copy():\n",
        "        # use Levenshtein distance to fuzzy match variable names from dataset to metadata\n",
        "        levenshtein_scores = column_names.apply(fuzz.ratio, args=(variable,))\n",
        "        column_name = column_names[levenshtein_scores == levenshtein_scores.max()].iat[0]\n",
        "        \n",
        "        # using the fuzz.ratio method, we incorrectly missname one variable\n",
        "        # which we have to correct manually\n",
        "        if variable == \"Kitchen\":\n",
        "            column_name = \"Kitchen AbvGr\"\n",
        "            \n",
        "        # user feedback\n",
        "        if variable != column_name:\n",
        "            print(f\"altering: {variable} -> {column_name}\")\n",
        "\n",
        "        definitions[column_name] = definitions.pop(variable)\n",
        "\n",
        "    with open(filename, \"w\") as output_file:\n",
        "        json.dump(obj=definitions, fp=output_file, indent=4)\n",
        "        print(f\"saved variable names and descriptions to {filename}\")"
      ]
    },
    {
      "cell_type": "code",
      "execution_count": null,
      "id": "46321da6-8282-4684-b832-934ed16f40a2",
      "metadata": {},
      "outputs": [],
      "source": [
        "fetch_variable_definitions()"
      ]
    },
    {
      "attachments": {},
      "cell_type": "markdown",
      "id": "4e53c6c8-fdfa-4d99-b7b3-40a9cdd9d29e",
      "metadata": {},
      "source": [
        "Creating a profile report interactively in you notebook using\n",
        "`df.profile_report()` or `profile.to_notebook_iframe()` may cause issues\n",
        "since the cell output can quickly get to large. Instead, we generate a\n",
        "separate file with annotated variables."
      ]
    },
    {
      "cell_type": "code",
      "execution_count": null,
      "id": "dee7dcc3-f8ee-4ab4-b3df-5d66846af3a8",
      "metadata": {},
      "outputs": [],
      "source": [
        "with open(VARIABLE_DEFINITION_FILENAME) as f:\n",
        "    variables = json.load(f)"
      ]
    },
    {
      "cell_type": "code",
      "execution_count": null,
      "id": "4526bbae-a6aa-4999-a1fe-ef56e332af31",
      "metadata": {
        "cell_id": "00002-35849f4a-d50f-4711-88d7-6b7d3eea06d0",
        "deepnote_cell_type": "code",
        "deepnote_output_heights": [
          null,
          null,
          null,
          611
        ],
        "execution_millis": 542074,
        "execution_start": 1637330993728,
        "source_hash": "b64ab341",
        "tags": []
      },
      "outputs": [],
      "source": [
        "df = pd.read_csv(DATASET_URL)\n",
        "profile = ProfileReport(\n",
        "    df,\n",
        "    explorative=True,\n",
        "    title=\"Ames Housing Data Set Profile\",\n",
        "    dataset={\n",
        "        \"description\": \"Profiling report for the Ames housing dataset.\",\n",
        "        \"creator\": \"Felix van der Spek\",\n",
        "        \"url\": DATASET_URL,\n",
        "    },\n",
        "    variables=variables,\n",
        ")\n",
        "profile.to_file(\"ames.html\")"
      ]
    },
    {
      "attachments": {},
      "cell_type": "markdown",
      "id": "5669dd07-ffa5-4422-ac23-7047aab84123",
      "metadata": {},
      "source": [
        "Download and open the file in Google Chrome or Firefox. Wait for the\n",
        "file to load completely, after which navigation will work."
      ]
    }
  ],
  "metadata": {
    "deepnote": {
      "is_reactive": false
    },
    "deepnote_execution_queue": [],
    "deepnote_notebook_id": "0ad9d0ef-5352-4802-afbf-2eaa8bf033e9",
    "kernelspec": {
      "display_name": "Python 3.10.6 64-bit (‘3.10.6’)",
      "language": "python",
      "name": "python3"
    },
    "language_info": {
      "codemirror_mode": {
        "name": "ipython",
        "version": "3"
      },
      "file_extension": ".py",
      "mimetype": "text/x-python",
      "name": "python",
      "nbconvert_exporter": "python",
      "pygments_lexer": "ipython3",
      "version": "3.10.6"
    },
    "toc": {
      "base_numbering": "1",
      "nav_menu": {},
      "number_sections": true,
      "sideBar": true,
      "skip_h1_title": false,
      "title_cell": "Table of Contents",
      "title_sidebar": "Contents",
      "toc_cell": false,
      "toc_position": {},
      "toc_section_display": true,
      "toc_window_display": false
    },
    "vscode": {
      "interpreter": {
        "hash": "4e70b18b71e98226c1d5f256ca9ee8aff77d7eae8ad496899eddea08c09e503a"
      }
    }
  },
  "nbformat": 4,
  "nbformat_minor": 5
}
