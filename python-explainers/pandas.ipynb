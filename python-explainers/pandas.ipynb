{
  "cells": [
    {
      "cell_type": "markdown",
      "metadata": {},
      "source": [
        "# Python Explainer - Essence of Pandas series and data frames\n",
        "\n",
        "Pieter Overdevest  \n",
        "2022-12-29\n",
        "\n",
        "For suggestions/questions regarding this notebook, please contact\n",
        "[Pieter Overdevest](https://www.linkedin.com/in/pieteroverdevest/)\n",
        "(pieter@innovatewithdata.nl).\n",
        "\n",
        "#### Aim\n",
        "\n",
        "To explain the essence of Pandas series and data frames. Pandas series\n",
        "are one dimensional data objects, that can be combined into Panda Data\n",
        "frames, which are two dimensional data objects.\n",
        "\n",
        "#### Prefixes in object names\n",
        "\n",
        "#### Initialization\n",
        "\n",
        "We start by importing the Pandas package."
      ],
      "id": "deca3033-fcdd-40dc-b519-1fe2e557c55e"
    },
    {
      "cell_type": "code",
      "execution_count": 178,
      "metadata": {},
      "outputs": [],
      "source": [
        "import pandas as pd"
      ],
      "id": "de32d371-62af-4ae8-9c63-83f5a2479299"
    },
    {
      "cell_type": "markdown",
      "metadata": {},
      "source": [
        "#### Pandas series out of the box\n",
        "\n",
        "We start with a Pandas series containing three numeric values."
      ],
      "id": "50efea3c-fca1-40f5-b9c2-cc5dbee4070b"
    },
    {
      "cell_type": "code",
      "execution_count": 179,
      "metadata": {},
      "outputs": [
        {
          "output_type": "display_data",
          "metadata": {},
          "data": {
            "text/plain": [
              "0    43\n",
              "1    56\n",
              "2    78\n",
              "dtype: int64"
            ]
          }
        }
      ],
      "source": [
        "ps_score = pd.Series([\n",
        "\n",
        "    43, 56, 78\n",
        "    \n",
        "])\n",
        "\n",
        "ps_score"
      ],
      "id": "6e23f8f1-877a-4c0f-a14c-d1813dcbbc5e"
    },
    {
      "cell_type": "markdown",
      "metadata": {},
      "source": [
        "Basic functions can be straightforwardly be applied to a Pandas series."
      ],
      "id": "66343b6e-0541-4427-b60d-d291934b010b"
    },
    {
      "cell_type": "code",
      "execution_count": 180,
      "metadata": {},
      "outputs": [
        {
          "output_type": "stream",
          "name": "stdout",
          "text": [
            "Sum:     177\n",
            "Minimum: 43\n",
            "Maximum: 78\n",
            "Mean:    59.0"
          ]
        }
      ],
      "source": [
        "print(f\"Sum:     {ps_score.sum()}\")\n",
        "print(f\"Minimum: {ps_score.min()}\")\n",
        "print(f\"Maximum: {ps_score.max()}\")\n",
        "print(f\"Mean:    {ps_score.mean()}\")"
      ],
      "id": "11f6f5ae-df00-4ea5-aafd-e218c023e9cd"
    },
    {
      "cell_type": "markdown",
      "metadata": {},
      "source": [
        "After printing `ps_score` you can see on the left that each element is\n",
        "accompanied by an index: 0, 1, and 2. We can pull them out of ps_score\n",
        "using the `index` attribute. To get the values from the `RangeIndex`\n",
        "object we append the `values` attribute."
      ],
      "id": "91156375-f2a6-4521-8138-99279c5a9abc"
    },
    {
      "cell_type": "code",
      "execution_count": 181,
      "metadata": {},
      "outputs": [
        {
          "output_type": "stream",
          "name": "stdout",
          "text": [
            "Index (RangeIndex object): RangeIndex(start=0, stop=3, step=1)\n",
            "Index (values):            [0 1 2]"
          ]
        }
      ],
      "source": [
        "print(f\"Index (RangeIndex object): {ps_score.index}\")\n",
        "print(f\"Index (values):            {ps_score.index.values}\")"
      ],
      "id": "d6f89bca-fb97-49d4-9b5a-2b2c3c761ee9"
    },
    {
      "cell_type": "markdown",
      "metadata": {},
      "source": [
        "By default, the index is a sequential number range, starting with 0. We\n",
        "can also assign an index ourselves. For example, the person responsible\n",
        "for the score."
      ],
      "id": "f9dcc958-c7e9-4304-8ab5-b87b0ec4920e"
    },
    {
      "cell_type": "code",
      "execution_count": 182,
      "metadata": {},
      "outputs": [
        {
          "output_type": "display_data",
          "metadata": {},
          "data": {
            "text/plain": [
              "Tom     43\n",
              "Bill    56\n",
              "Jill    78\n",
              "dtype: int64"
            ]
          }
        }
      ],
      "source": [
        "ps_scores_assigned_index = pd.Series(\n",
        "\n",
        "    [43, 56, 78],\n",
        "    index = ['Tom', 'Bill', 'Jill']\n",
        ")\n",
        "\n",
        "ps_scores_assigned_index"
      ],
      "id": "0b2deedd-6c59-44dd-9d3f-51c440a2302c"
    },
    {
      "cell_type": "markdown",
      "metadata": {},
      "source": [
        "A Pandas series has attributes that we can call as follows, e.g.,:"
      ],
      "id": "af856aac-53de-4baa-9ef0-49713a7b97b0"
    },
    {
      "cell_type": "code",
      "execution_count": 183,
      "metadata": {},
      "outputs": [
        {
          "output_type": "stream",
          "name": "stdout",
          "text": [
            "Index (object): Index(['Tom', 'Bill', 'Jill'], dtype='object')\n",
            "Index (values): ['Tom' 'Bill' 'Jill']\n",
            "Values:         [43 56 78]\n",
            "Dimension:      (3,)\n",
            "Data type:      int64"
          ]
        }
      ],
      "source": [
        "print(f\"Index (object): {ps_scores_assigned_index.index}\")\n",
        "print(f\"Index (values): {ps_scores_assigned_index.index.values}\")\n",
        "print(f\"Values:         {ps_scores_assigned_index.values}\")\n",
        "print(f\"Dimension:      {ps_scores_assigned_index.shape}\")\n",
        "print(f\"Data type:      {ps_scores_assigned_index.dtype}\")"
      ],
      "id": "5a779449-7ff6-4242-8ae6-a04bef514613"
    },
    {
      "cell_type": "markdown",
      "metadata": {},
      "source": [
        "To obtain particular values from a Pandas Series we can use the index\n",
        "name or number to show, e.g., Tom’s score."
      ],
      "id": "63cbe893-e2b5-4fc4-bc3c-2a066d573c2b"
    },
    {
      "cell_type": "code",
      "execution_count": 184,
      "metadata": {},
      "outputs": [
        {
          "output_type": "stream",
          "name": "stdout",
          "text": [
            "Using the index name:   43\n",
            "Using the index number: 43"
          ]
        }
      ],
      "source": [
        "print(f\"Using the index name:   {ps_scores_assigned_index['Tom']}\")\n",
        "print(f\"Using the index number: {ps_scores_assigned_index[0]}\")"
      ],
      "id": "a360bd15-4074-402b-b73c-f7b77c0763ed"
    },
    {
      "cell_type": "markdown",
      "metadata": {},
      "source": [
        "In the same way, we can extract a part of a Pandas Series, e.g., Bill\n",
        "and onwards. Note, ‘’ introduces a line feed. It functions like the\n",
        "metal arm on a manual typewriter."
      ],
      "id": "2b90bf3b-ce5c-45ce-9715-0eca976596d0"
    },
    {
      "cell_type": "code",
      "execution_count": 185,
      "metadata": {},
      "outputs": [
        {
          "output_type": "stream",
          "name": "stdout",
          "text": [
            "Using the index name:\n",
            "Bill    56\n",
            "Jill    78\n",
            "dtype: int64\n",
            "Using the index number:\n",
            "Bill    56\n",
            "Jill    78\n",
            "dtype: int64"
          ]
        }
      ],
      "source": [
        "print(f\"Using the index name:\\n{ps_scores_assigned_index['Bill':]}\")\n",
        "print(f\"Using the index number:\\n{ps_scores_assigned_index[1:]}\")"
      ],
      "id": "12cf80e7-df6d-471b-8232-49446affd591"
    },
    {
      "cell_type": "markdown",
      "metadata": {},
      "source": [
        "Or, in case you are interested in the last two elements of a Pandas\n",
        "Series."
      ],
      "id": "cf4813a7-dfe5-49a0-b79a-b670f9b9f805"
    },
    {
      "cell_type": "code",
      "execution_count": 186,
      "metadata": {},
      "outputs": [
        {
          "output_type": "display_data",
          "metadata": {},
          "data": {
            "text/plain": [
              "Bill    56\n",
              "Jill    78\n",
              "dtype: int64"
            ]
          }
        }
      ],
      "source": [
        "ps_scores_assigned_index[-2:]"
      ],
      "id": "30659bb3-9858-4ccb-9bf1-79e1e14ace94"
    },
    {
      "cell_type": "markdown",
      "metadata": {},
      "source": [
        "#### Pandas series via dictionary\n",
        "\n",
        "A Pandas Series can also be obtained by converting a dictionary using\n",
        "the `pd.Series()` function."
      ],
      "id": "9e64d3cc-110e-4400-bde1-ca2b84b3235e"
    },
    {
      "cell_type": "code",
      "execution_count": 187,
      "metadata": {},
      "outputs": [
        {
          "output_type": "display_data",
          "metadata": {},
          "data": {
            "text/plain": [
              "Bill    10\n",
              "Jill     9\n",
              "dtype: int64"
            ]
          }
        }
      ],
      "source": [
        "dc_time = {'Bill': 10, 'Jill': 9}\n",
        "ps_time = pd.Series(dc_time)\n",
        "\n",
        "ps_time"
      ],
      "id": "c5e1976e-d1a7-49f1-905c-1743cf43fbec"
    },
    {
      "cell_type": "markdown",
      "metadata": {},
      "source": [
        "As a side note, the keys() and values() methods allow extraction of the\n",
        "keys and values of a dictionary object. The `list()` function unpacks\n",
        "the list from the `dict_keys` and `dict_values` objects."
      ],
      "id": "fb69c907-0e57-47b5-be11-0c1e36632114"
    },
    {
      "cell_type": "code",
      "execution_count": 188,
      "metadata": {},
      "outputs": [
        {
          "output_type": "stream",
          "name": "stdout",
          "text": [
            "Keys:   ['Bill', 'Jill']\n",
            "Values: [10, 9]"
          ]
        }
      ],
      "source": [
        "print(f\"Keys:   {list(dc_time.keys())}\")\n",
        "print(f\"Values: {list(dc_time.values())}\")"
      ],
      "id": "dc0f9fe8-59e9-47ad-a5c3-b0bfa43da533"
    },
    {
      "cell_type": "markdown",
      "metadata": {},
      "source": [
        "and with the index we can easily check whether it has a value in dc_time\n",
        "and ps_time, or not."
      ],
      "id": "b7fca571-81e1-4de3-bd9c-e72e8abbaedf"
    },
    {
      "cell_type": "code",
      "execution_count": 189,
      "metadata": {},
      "outputs": [
        {
          "output_type": "stream",
          "name": "stdout",
          "text": [
            "Is Tom in dc_time?:  False\n",
            "Is Bill in dc_time?: True"
          ]
        }
      ],
      "source": [
        "print(f\"Is Tom in dc_time?:  {'Tom' in dc_time}\")\n",
        "print(f\"Is Bill in dc_time?: {'Bill' in dc_time}\")"
      ],
      "id": "8e1c05ce-a92b-4785-9221-e520546b70b0"
    },
    {
      "cell_type": "code",
      "execution_count": 190,
      "metadata": {},
      "outputs": [
        {
          "output_type": "stream",
          "name": "stdout",
          "text": [
            "Is Tom in ps_time?:  False\n",
            "Is Bill in ps_time?: True"
          ]
        }
      ],
      "source": [
        "print(f\"Is Tom in ps_time?:  {'Tom' in ps_time}\")\n",
        "print(f\"Is Bill in ps_time?: {'Bill' in ps_time}\")"
      ],
      "id": "0927db8f-7b80-406b-8e57-a7778c8def42"
    },
    {
      "cell_type": "markdown",
      "metadata": {},
      "source": [
        "#### Pandas Data frames\n",
        "\n",
        "The two Pandas Series are combined to form a Pandas Data frame using\n",
        "Pandas `DataFrame()` function. The indices in both Pandas Series are\n",
        "used to match the values in each of the rows in df_score. Why is the\n",
        "‘time’ value empty for Tom?"
      ],
      "id": "a58f3402-7abf-4ba8-82fd-61ad8e7655a0"
    },
    {
      "cell_type": "code",
      "execution_count": 191,
      "metadata": {},
      "outputs": [
        {
          "output_type": "display_data",
          "metadata": {},
          "data": {
            "text/html": [
              "\n",
              "</div>"
            ]
          }
        }
      ],
      "source": [
        "df_score = pd.DataFrame({\n",
        "    'time': ps_time,\n",
        "    'score': ps_scores_assigned_index,\n",
        "    \n",
        "})\n",
        "\n",
        "df_score"
      ],
      "id": "522f3454-7ff6-403a-bb30-40edc4460a83"
    },
    {
      "cell_type": "markdown",
      "metadata": {},
      "source": [
        "A Pandas Data frame has attributes that we can call as follows, e.g.,:\n",
        "\n",
        "1.  The index (row) and column names:"
      ],
      "id": "dc58b7d5-62f4-4c95-820b-715054607272"
    },
    {
      "cell_type": "code",
      "execution_count": 192,
      "metadata": {},
      "outputs": [
        {
          "output_type": "stream",
          "name": "stdout",
          "text": [
            "Both in one list using 'axes':         [Index(['Bill', 'Jill', 'Tom'], dtype='object'), Index(['time', 'score'], dtype='object')]\n",
            "Just the index names using 'index':    Index(['Bill', 'Jill', 'Tom'], dtype='object')\n",
            "Just the column names using 'columns': Index(['time', 'score'], dtype='object')"
          ]
        }
      ],
      "source": [
        "print(f\"Both in one list using 'axes':         {df_score.axes}\")\n",
        "print(f\"Just the index names using 'index':    {df_score.index}\")\n",
        "print(f\"Just the column names using 'columns': {df_score.columns}\")"
      ],
      "id": "7722e06a-e15c-4a07-96d5-9d82094eba93"
    },
    {
      "cell_type": "markdown",
      "metadata": {},
      "source": [
        "1.  The dimensions (shape):"
      ],
      "id": "5a8d0559-7fd9-4df0-b4f9-84322b42ec17"
    },
    {
      "cell_type": "code",
      "execution_count": 193,
      "metadata": {},
      "outputs": [
        {
          "output_type": "stream",
          "name": "stdout",
          "text": [
            "Dimensions using 'shape':               (3, 2)\n",
            "The first value is the number rows:     3\n",
            "The second value is the number columns: 2"
          ]
        }
      ],
      "source": [
        "print(f\"Dimensions using 'shape':               {df_score.shape}\")\n",
        "print(f\"The first value is the number rows:     {df_score.shape[0]}\")\n",
        "print(f\"The second value is the number columns: {df_score.shape[1]}\")"
      ],
      "id": "691ceabc-9370-4212-9a11-5e1e68643ce9"
    },
    {
      "cell_type": "markdown",
      "metadata": {},
      "source": [
        "1.  The column types:"
      ],
      "id": "ea3bfa32-e7bd-4b0d-b929-75c93b0a8235"
    },
    {
      "cell_type": "code",
      "execution_count": 194,
      "metadata": {},
      "outputs": [
        {
          "output_type": "stream",
          "name": "stdout",
          "text": [
            "The column types:\n",
            "time     float64\n",
            "score      int64\n",
            "dtype: object"
          ]
        }
      ],
      "source": [
        "print(f\"The column types:\\n{df_score.dtypes}\")"
      ],
      "id": "8170d715-850a-4420-9d70-03063a59d3f0"
    },
    {
      "cell_type": "markdown",
      "metadata": {},
      "source": [
        "We can take subsets of the data frame using `.loc` and `.iloc`. With\n",
        "`.loc` we need to specify the index and/or column names. This can be\n",
        "combined with `:` to also include everything upstream and downstream."
      ],
      "id": "e4844136-4ba9-4659-9ca7-2deb6786ffdf"
    },
    {
      "cell_type": "code",
      "execution_count": 195,
      "metadata": {},
      "outputs": [
        {
          "output_type": "display_data",
          "metadata": {},
          "data": {
            "text/plain": [
              "Bill    56\n",
              "Jill    78\n",
              "Tom     43\n",
              "Name: score, dtype: int64"
            ]
          }
        }
      ],
      "source": [
        "df_score.loc[:,'score']"
      ],
      "id": "50f116e7-aacb-4c3f-94da-708042493b13"
    },
    {
      "cell_type": "code",
      "execution_count": 196,
      "metadata": {},
      "outputs": [
        {
          "output_type": "display_data",
          "metadata": {},
          "data": {
            "text/html": [
              "\n",
              "</div>"
            ]
          }
        }
      ],
      "source": [
        "df_score.loc['Jill':,:]"
      ],
      "id": "2a595a24-f582-43d3-8d7b-25f1a31e9c7f"
    },
    {
      "cell_type": "markdown",
      "metadata": {},
      "source": [
        "It can also be used in combination with a Pandas series of True’s and\n",
        "False’s. This can be helpful in case you want to extract particular rows\n",
        "from the data frame. For the filtering to work the index of\n",
        "`ps_true_false` must match the one in `df_score`."
      ],
      "id": "ca696209-a481-4c9c-b603-9ef612605b20"
    },
    {
      "cell_type": "code",
      "execution_count": 197,
      "metadata": {},
      "outputs": [
        {
          "output_type": "display_data",
          "metadata": {},
          "data": {
            "text/plain": [
              "Bill    10.0\n",
              "Tom      NaN\n",
              "Name: time, dtype: float64"
            ]
          }
        }
      ],
      "source": [
        "ps_true_false = pd.Series([True, False, True], index = df_score.index)\n",
        "\n",
        "df_score.loc[ps_true_false, 'time']"
      ],
      "id": "6875c745-0b7f-4394-bb00-5dd94f43aca5"
    },
    {
      "cell_type": "markdown",
      "metadata": {},
      "source": [
        "With `.iloc` you need to specify the index and/or column number."
      ],
      "id": "01789eda-4bdd-4cea-a408-779e3812c602"
    },
    {
      "cell_type": "code",
      "execution_count": 198,
      "metadata": {},
      "outputs": [
        {
          "output_type": "display_data",
          "metadata": {},
          "data": {
            "text/plain": [
              "78"
            ]
          }
        }
      ],
      "source": [
        "df_score.iloc[1,1]"
      ],
      "id": "3675edc8-fbda-417c-95cd-efa293740bc8"
    },
    {
      "cell_type": "markdown",
      "metadata": {},
      "source": [
        "The notation `0:2` means a list containing 0 and 1, so not including 2."
      ],
      "id": "b758a26b-616f-466a-accf-948d511af760"
    },
    {
      "cell_type": "code",
      "execution_count": 199,
      "metadata": {},
      "outputs": [
        {
          "output_type": "display_data",
          "metadata": {},
          "data": {
            "text/plain": [
              "Bill    56\n",
              "Jill    78\n",
              "Name: score, dtype: int64"
            ]
          }
        }
      ],
      "source": [
        "df_score.iloc[0:2,1]"
      ],
      "id": "da97b8b6-19ec-4fc5-9b14-8bca641c7eb2"
    },
    {
      "cell_type": "markdown",
      "metadata": {},
      "source": [
        "#### Joining Pandas Data frames\n",
        "\n",
        "In case our data set consists of two or more table (data frames), it is\n",
        "highly likely that at some point we want to combine two or more data\n",
        "frames. In this section we will discuss the `concat()` and `merge()`\n",
        "functions that can be used for this purpose. The `concat()` function\n",
        "relies solely on the index or column names. The `merge()` function\n",
        "allows a combination index and column names. The examples below will\n",
        "further clarify this.\n",
        "\n",
        "First, we create three additional data frames."
      ],
      "id": "9606c4e9-3fa6-45d9-abff-dddb7fa183c7"
    },
    {
      "cell_type": "code",
      "execution_count": 205,
      "metadata": {},
      "outputs": [],
      "source": [
        "df_score_extra = pd.DataFrame({\n",
        "\n",
        "        \"time\": [9.5, 14],\n",
        "        \"score\": [67, 95],\n",
        "        \n",
        "    },\n",
        "    index = [\"Tim\", \"Pete\"]\n",
        ")\n",
        "\n",
        "df_address = pd.DataFrame({\n",
        "\n",
        "    \"streetname\": [\"Main street\", \"Temple Road\", \"Ocean drive\"]\n",
        "    },\n",
        "    index = [\"Tom\", \"Bill\", \"Jill\"]\n",
        ")\n",
        "\n",
        "df_age  = pd.DataFrame({\n",
        "\n",
        "    \"name\": [\"Tom\", \"Tim\", \"Jill\", \"Bill\"],\n",
        "    \"age\": [23, 54, 12, 67]\n",
        "    }\n",
        ")"
      ],
      "id": "db799154-f6ab-4486-b6f5-1ad6c7b677b1"
    },
    {
      "cell_type": "markdown",
      "metadata": {},
      "source": [
        "We start out with the `concat()` function, see below. The `axis`\n",
        "parameter has 0 as default argument, resulting in combining the two data\n",
        "frames in vertical direction; putting one on top of the other. I still\n",
        "added `axis=0` for clarification; `axis=1` combines the two data frames\n",
        "horizontally (see down below). The parameter `sort` allows us to sort\n",
        "the index/column name in the other dimension. In other words, when we\n",
        "concatenate the data frame vertically, `sort` determines whether we sort\n",
        "the columns, and vv. Since `df_score` and `df_score_extra` both start\n",
        "with the ‘time’ column followed by the ‘score’ column, `sort=True`\n",
        "results in sorting of the columns, as we can see below."
      ],
      "id": "07ec3a32-d42e-4705-a44a-43418a5fc715"
    },
    {
      "cell_type": "code",
      "execution_count": 204,
      "metadata": {},
      "outputs": [
        {
          "output_type": "display_data",
          "metadata": {},
          "data": {
            "text/html": [
              "\n",
              "</div>"
            ]
          }
        }
      ],
      "source": [
        "df_score_plus_extra = pd.concat([df_score, df_score_extra], sort=True, axis=0)\n",
        "\n",
        "df_score_plus_extra"
      ],
      "id": "985a0638-5d10-492c-9d4f-e809f2c09382"
    },
    {
      "cell_type": "markdown",
      "metadata": {},
      "source": [
        "With `axis=1` we combine the two data frames horizontally, and now,\n",
        "`sort=True` sorts the index. The argument `join=\"inner\"` result in a\n",
        "data frame holding only the indices that the two data frames have in\n",
        "common."
      ],
      "id": "47c76a3d-8e20-4029-970b-02c8f6edbea7"
    },
    {
      "cell_type": "code",
      "execution_count": 207,
      "metadata": {},
      "outputs": [
        {
          "output_type": "display_data",
          "metadata": {},
          "data": {
            "text/html": [
              "\n",
              "</div>"
            ]
          }
        }
      ],
      "source": [
        "df_score_address = pd.concat([df_score_plus_extra, df_address], sort=True, axis=1, join=\"inner\")\n",
        "\n",
        "df_score_address"
      ],
      "id": "f662d376-3eb3-4e69-9856-455fb83dcea7"
    },
    {
      "cell_type": "markdown",
      "metadata": {},
      "source": [
        "Now, suppose we want to add ‘age’ - stored in `df_age` - to the\n",
        "`df_score_extra` using the ‘name’ information. The situation with\n",
        "`df_age` is slightly different as with the other data frames where\n",
        "‘name’ is used for the index; in `df_age` name is one of the columns. By\n",
        "default, the two data frames are combined using an inner join, i.e.,\n",
        "only keeping the rows where the joining feature is in common in both\n",
        "data frames.\n",
        "\n",
        "From the first data frame mentioned in `merge()`, referred to as left -\n",
        "in this case `df_score_plus_extra` - we use the index, as that is where\n",
        "‘name’ is stored. From the second data frame (right) - referred to as\n",
        "the right data frame - we use the column named ‘name’."
      ],
      "id": "116f2b5f-4bcd-4ed6-bf66-50c29a17b9c8"
    },
    {
      "cell_type": "code",
      "execution_count": 208,
      "metadata": {},
      "outputs": [
        {
          "output_type": "display_data",
          "metadata": {},
          "data": {
            "text/html": [
              "\n",
              "</div>"
            ]
          }
        }
      ],
      "source": [
        "pd.merge(df_score_plus_extra, df_age, left_index=True, right_on='name')"
      ],
      "id": "83b2b681-16c0-4590-ab96-4e0ae86b610d"
    },
    {
      "cell_type": "markdown",
      "metadata": {},
      "source": [
        "Besides the default inner join, we can also make use of [other types of\n",
        "joins](https://pandas.pydata.org/docs/reference/api/pandas.DataFrame.merge.html),\n",
        "like the left join.\n",
        "\n",
        "Now, all rows in `df_score_plus_extra` remain in the resulting data\n",
        "frame, including the row for Pete that was omitted in the inner join. As\n",
        "expected, the value for Pete’s age is empty as it was not in `df_age`."
      ],
      "id": "cd51229f-e539-4c61-bc12-a3a80ea183d6"
    },
    {
      "cell_type": "code",
      "execution_count": 214,
      "metadata": {},
      "outputs": [
        {
          "output_type": "display_data",
          "metadata": {},
          "data": {
            "text/html": [
              "\n",
              "</div>"
            ]
          }
        }
      ],
      "source": [
        "df_score_plus_extra_age = pd.merge(df_score_plus_extra, df_age, left_index=True, right_on='name', how='left')\n",
        "df_score_plus_extra_age"
      ],
      "id": "500ea38d-6e26-4a2e-88c6-0a00d87ecf2d"
    },
    {
      "cell_type": "markdown",
      "metadata": {},
      "source": [
        "create the new index for columns"
      ],
      "id": "115f296b-33a8-402a-bb80-e948b425f36e"
    },
    {
      "cell_type": "code",
      "execution_count": 221,
      "metadata": {},
      "outputs": [
        {
          "output_type": "display_data",
          "metadata": {},
          "data": {
            "text/plain": [
              "array(['Bill', 'Jill', 'Tom', 'Tim', 'Pete'], dtype=object)"
            ]
          }
        }
      ],
      "source": [
        "ar_names = df_score_plus_extra.index.values\n",
        "ar_names"
      ],
      "id": "204ceefe-f57b-42be-9f2a-efc32f7e37c2"
    },
    {
      "cell_type": "code",
      "execution_count": 224,
      "metadata": {},
      "outputs": [
        {
          "output_type": "display_data",
          "metadata": {},
          "data": {
            "text/html": [
              "\n",
              "</div>"
            ]
          }
        }
      ],
      "source": [
        "df_score_plus_extra_age.reset_index(inplace=True)\n",
        "df_score_plus_extra_age"
      ],
      "id": "fb41176c-c54d-42be-bd29-b8bb173b6aa0"
    }
  ],
  "nbformat": 4,
  "nbformat_minor": 5,
  "metadata": {
    "kernelspec": {
      "name": "python3",
      "display_name": "Python 3",
      "language": "python"
    },
    "language_info": {
      "name": "python",
      "codemirror_mode": {
        "name": "ipython",
        "version": "3"
      },
      "file_extension": ".py",
      "mimetype": "text/x-python",
      "nbconvert_exporter": "python",
      "pygments_lexer": "ipython3",
      "version": "3.9.6 (default, Sep 26 2022, 11:37:49) [Clang 14.0.0\n(clang-1400.0.29.202)]"
    },
    "vscode": {
      "interpreter": {
        "hash": "31f2aee4e71d21fbe5cf8b01ff0e069b9275f58929596ceb00d14d90e3e16cd6"
      }
    }
  }
}